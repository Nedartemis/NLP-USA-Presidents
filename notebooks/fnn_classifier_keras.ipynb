{
 "cells": [
  {
   "cell_type": "markdown",
   "id": "4659cd42-b3ad-4db0-8b9b-274ffb8774d2",
   "metadata": {},
   "source": [
    "# Import"
   ]
  },
  {
   "cell_type": "code",
   "execution_count": 1,
   "id": "bc6582ef-36e3-4e36-8f96-b303111ffac1",
   "metadata": {},
   "outputs": [
    {
     "name": "stderr",
     "output_type": "stream",
     "text": [
      "2024-05-18 12:45:15.628612: I tensorflow/core/platform/cpu_feature_guard.cc:210] This TensorFlow binary is optimized to use available CPU instructions in performance-critical operations.\n",
      "To enable the following instructions: AVX2 AVX512F AVX512_VNNI FMA, in other operations, rebuild TensorFlow with the appropriate compiler flags.\n"
     ]
    }
   ],
   "source": [
    "import os\n",
    "import sys\n",
    "\n",
    "sys.path.append(os.path.abspath(\"../\"))\n",
    "\n",
    "import numpy as np\n",
    "import matplotlib.pyplot as plt\n",
    "\n",
    "from typing import List, Callable\n",
    "\n",
    "from gensim.models import Word2Vec\n",
    "\n",
    "from sklearn.model_selection import train_test_split\n",
    "\n",
    "from keras.models import Sequential\n",
    "from keras.layers import Dense\n",
    "from sklearn.preprocessing import LabelEncoder\n",
    "\n",
    "from gensim.models import Word2Vec\n",
    "\n",
    "from nltk.tokenize import word_tokenize\n",
    "\n",
    "from src.feed_forward.feed_forward_classifier import files_to_df, vectorize_text, clasification_from_model\n",
    "\n",
    "from tensorflow.keras.layers import Dense, Dropout\n",
    "from tensorflow.keras.optimizers import Adam\n",
    "from sklearn.metrics import classification_report, ConfusionMatrixDisplay, confusion_matrix, accuracy_score"
   ]
  },
  {
   "cell_type": "markdown",
   "id": "1be577ed-2541-4d4b-9e79-f9d12f0a5d74",
   "metadata": {},
   "source": [
    "# Create datafram"
   ]
  },
  {
   "cell_type": "code",
   "execution_count": 4,
   "id": "78062136-266c-490c-bcd4-804d39f35916",
   "metadata": {},
   "outputs": [],
   "source": [
    "files = [\n",
    "        \"BarackObamaSpeeches.csv\",\n",
    "        \"BarackObamaDebates.csv\",\n",
    "        \"BarackObamaTweets.csv\",\n",
    "        \"DonaldTrumpDebates.csv\",\n",
    "        \"DonaldTrumpspeeches.csv\",\n",
    "        \"DonaldTrumpTweets.csv\",\n",
    "        \"JoeBidenSpeeches.csv\",\n",
    "        \"JoeBidenTweets.csv\",\n",
    "    ]\n",
    "files = [os.path.join(\"../corpus/resources/\", f) for f in files]\n",
    "df = files_to_df(files)\n",
    "names_to_keep = ['Barack Obama', 'Donald Trump', 'Joe Biden']\n",
    "\n",
    "# Changer le nom en \"other\" si ce n'est pas dans la liste des noms à conserver\n",
    "df['name'] = df['name'].apply(lambda x: x if x in names_to_keep else 'other')"
   ]
  },
  {
   "cell_type": "markdown",
   "id": "7d479396-2c0a-44f1-84b8-d18b79b29b95",
   "metadata": {},
   "source": [
    "# Definite word2vec and tokenizer"
   ]
  },
  {
   "cell_type": "code",
   "execution_count": 6,
   "id": "45ebe7b4-fae5-4b99-aad7-1498814df05a",
   "metadata": {},
   "outputs": [],
   "source": [
    "model_word2vec_path = '../src/word2vec/word2vecBest.model'\n",
    "word2vec_model: Word2Vec = Word2Vec.load(model_word2vec_path)\n",
    "\n",
    "tokenizer: Callable[[str], List[str]] = word_tokenize"
   ]
  },
  {
   "cell_type": "markdown",
   "id": "e3a62388-e381-4ca4-bfab-ad31ac509555",
   "metadata": {},
   "source": [
    "# Vectorisation"
   ]
  },
  {
   "cell_type": "code",
   "execution_count": 7,
   "id": "1d034b40-53f0-4bfd-a97f-3ec50aae31d3",
   "metadata": {},
   "outputs": [],
   "source": [
    "def vectorize_text(text, word2vec_model: Word2Vec, tokenizer: Callable[[str], List[str]] = word_tokenize):\n",
    "    tokens = tokenizer(text) \n",
    "\n",
    "    word_vectors = []\n",
    "    for token in tokens:\n",
    "        if token in word2vec_model.wv.key_to_index:\n",
    "            word_vectors.append(word2vec_model.wv[token])\n",
    "    \n",
    "    if not word_vectors:\n",
    "        return np.zeros(word2vec_model.vector_size)\n",
    "    \n",
    "    text_vector = np.mean(word_vectors, axis=0)\n",
    "    return text_vector"
   ]
  },
  {
   "cell_type": "code",
   "execution_count": 8,
   "id": "d7ded46e-8367-468b-a07a-351d692c2d15",
   "metadata": {},
   "outputs": [
    {
     "data": {
      "text/html": [
       "<div>\n",
       "<style scoped>\n",
       "    .dataframe tbody tr th:only-of-type {\n",
       "        vertical-align: middle;\n",
       "    }\n",
       "\n",
       "    .dataframe tbody tr th {\n",
       "        vertical-align: top;\n",
       "    }\n",
       "\n",
       "    .dataframe thead th {\n",
       "        text-align: right;\n",
       "    }\n",
       "</style>\n",
       "<table border=\"1\" class=\"dataframe\">\n",
       "  <thead>\n",
       "    <tr style=\"text-align: right;\">\n",
       "      <th></th>\n",
       "      <th>name</th>\n",
       "      <th>text</th>\n",
       "      <th>text_embeddings</th>\n",
       "    </tr>\n",
       "  </thead>\n",
       "  <tbody>\n",
       "    <tr>\n",
       "      <th>0</th>\n",
       "      <td>Barack Obama</td>\n",
       "      <td>Mr. President, I have come to the floor today ...</td>\n",
       "      <td>[-0.14592953, 0.15516426, -0.25789413, -0.5349...</td>\n",
       "    </tr>\n",
       "    <tr>\n",
       "      <th>1</th>\n",
       "      <td>Barack Obama</td>\n",
       "      <td>Thank you. It's an honor to be here today with...</td>\n",
       "      <td>[-0.25582245, 0.08599489, -0.15229775, -0.4307...</td>\n",
       "    </tr>\n",
       "    <tr>\n",
       "      <th>2</th>\n",
       "      <td>Barack Obama</td>\n",
       "      <td>When I was first asked to speak here, I though...</td>\n",
       "      <td>[-0.1502317, 0.104145594, -0.27518904, -0.5698...</td>\n",
       "    </tr>\n",
       "    <tr>\n",
       "      <th>3</th>\n",
       "      <td>Barack Obama</td>\n",
       "      <td>Throughout American history, there have been m...</td>\n",
       "      <td>[-0.061100293, 0.3181456, -0.39384323, -0.3624...</td>\n",
       "    </tr>\n",
       "    <tr>\n",
       "      <th>4</th>\n",
       "      <td>Barack Obama</td>\n",
       "      <td>Thank you. Half a century after the first few ...</td>\n",
       "      <td>[-0.14999233, 0.12417714, -0.29248372, -0.4996...</td>\n",
       "    </tr>\n",
       "    <tr>\n",
       "      <th>...</th>\n",
       "      <td>...</td>\n",
       "      <td>...</td>\n",
       "      <td>...</td>\n",
       "    </tr>\n",
       "    <tr>\n",
       "      <th>62296</th>\n",
       "      <td>Joe Biden</td>\n",
       "      <td>As president, I’ll build an economy that rewar...</td>\n",
       "      <td>[0.16159704, -0.14173323, -0.40259805, -0.0009...</td>\n",
       "    </tr>\n",
       "    <tr>\n",
       "      <th>62297</th>\n",
       "      <td>Joe Biden</td>\n",
       "      <td>Let’s put dogs back in the White House. https:...</td>\n",
       "      <td>[0.4020463, -0.11940291, -1.0294363, -0.551373...</td>\n",
       "    </tr>\n",
       "    <tr>\n",
       "      <th>62298</th>\n",
       "      <td>Joe Biden</td>\n",
       "      <td>We have in our hands the ultimate power: the p...</td>\n",
       "      <td>[-0.052387785, -0.6381019, -0.3384863, -0.6108...</td>\n",
       "    </tr>\n",
       "    <tr>\n",
       "      <th>62299</th>\n",
       "      <td>Joe Biden</td>\n",
       "      <td>We need to:\\n\\nBuild bridges, not walls.\\nOpen...</td>\n",
       "      <td>[0.1440064, 0.6309633, -0.5758265, 0.000754478...</td>\n",
       "    </tr>\n",
       "    <tr>\n",
       "      <th>62300</th>\n",
       "      <td>Joe Biden</td>\n",
       "      <td>Jodie –– you have my word: I will always stand...</td>\n",
       "      <td>[0.2725731, -0.70888513, -0.1249712, -0.266237...</td>\n",
       "    </tr>\n",
       "  </tbody>\n",
       "</table>\n",
       "<p>62301 rows × 3 columns</p>\n",
       "</div>"
      ],
      "text/plain": [
       "               name                                               text  \\\n",
       "0      Barack Obama  Mr. President, I have come to the floor today ...   \n",
       "1      Barack Obama  Thank you. It's an honor to be here today with...   \n",
       "2      Barack Obama  When I was first asked to speak here, I though...   \n",
       "3      Barack Obama  Throughout American history, there have been m...   \n",
       "4      Barack Obama  Thank you. Half a century after the first few ...   \n",
       "...             ...                                                ...   \n",
       "62296     Joe Biden  As president, I’ll build an economy that rewar...   \n",
       "62297     Joe Biden  Let’s put dogs back in the White House. https:...   \n",
       "62298     Joe Biden  We have in our hands the ultimate power: the p...   \n",
       "62299     Joe Biden  We need to:\\n\\nBuild bridges, not walls.\\nOpen...   \n",
       "62300     Joe Biden  Jodie –– you have my word: I will always stand...   \n",
       "\n",
       "                                         text_embeddings  \n",
       "0      [-0.14592953, 0.15516426, -0.25789413, -0.5349...  \n",
       "1      [-0.25582245, 0.08599489, -0.15229775, -0.4307...  \n",
       "2      [-0.1502317, 0.104145594, -0.27518904, -0.5698...  \n",
       "3      [-0.061100293, 0.3181456, -0.39384323, -0.3624...  \n",
       "4      [-0.14999233, 0.12417714, -0.29248372, -0.4996...  \n",
       "...                                                  ...  \n",
       "62296  [0.16159704, -0.14173323, -0.40259805, -0.0009...  \n",
       "62297  [0.4020463, -0.11940291, -1.0294363, -0.551373...  \n",
       "62298  [-0.052387785, -0.6381019, -0.3384863, -0.6108...  \n",
       "62299  [0.1440064, 0.6309633, -0.5758265, 0.000754478...  \n",
       "62300  [0.2725731, -0.70888513, -0.1249712, -0.266237...  \n",
       "\n",
       "[62301 rows x 3 columns]"
      ]
     },
     "execution_count": 8,
     "metadata": {},
     "output_type": "execute_result"
    }
   ],
   "source": [
    "df['text_embeddings'] = df['text'].apply(vectorize_text, args=(word2vec_model, tokenizer))\n",
    "df"
   ]
  },
  {
   "cell_type": "markdown",
   "id": "55441fc0-b6f8-4464-b722-59a67e2ae90b",
   "metadata": {},
   "source": [
    "# Train"
   ]
  },
  {
   "cell_type": "code",
   "execution_count": 9,
   "id": "ebdf368d-af1a-4603-ad20-975b11f345c5",
   "metadata": {},
   "outputs": [],
   "source": [
    "X = np.array(df['text_embeddings'].tolist())\n",
    "Y = df['name']\n",
    "\n",
    "label_encoder = LabelEncoder()\n",
    "Y_encoded = label_encoder.fit_transform(Y)\n",
    "\n",
    "X_train, X_test, Y_train, Y_test = train_test_split(X, Y_encoded, test_size=0.2, random_state=72)"
   ]
  },
  {
   "cell_type": "code",
   "execution_count": 10,
   "id": "80a0deb5-4688-4faf-92cb-7a884ae57949",
   "metadata": {},
   "outputs": [
    {
     "name": "stderr",
     "output_type": "stream",
     "text": [
      "/Library/Frameworks/Python.framework/Versions/3.10/lib/python3.10/site-packages/keras/src/layers/core/dense.py:88: UserWarning: Do not pass an `input_shape`/`input_dim` argument to a layer. When using Sequential models, prefer using an `Input(shape)` object as the first layer in the model instead.\n",
      "  super().__init__(activity_regularizer=activity_regularizer, **kwargs)\n"
     ]
    }
   ],
   "source": [
    "model = Sequential([\n",
    "    Dense(128, activation='relu', input_shape=(300,)),\n",
    "    Dropout(0.31034557751664393),\n",
    "    Dense(39, activation='relu'),\n",
    "    Dropout(0.31034557751664393),\n",
    "    Dense(len(label_encoder.classes_), activation='softmax')\n",
    "])"
   ]
  },
  {
   "cell_type": "code",
   "execution_count": 11,
   "id": "d3e73f66-d535-41a2-8d5a-dbdad1f5ee42",
   "metadata": {},
   "outputs": [
    {
     "name": "stdout",
     "output_type": "stream",
     "text": [
      "Epoch 1/10\n",
      "\u001b[1m779/779\u001b[0m \u001b[32m━━━━━━━━━━━━━━━━━━━━\u001b[0m\u001b[37m\u001b[0m \u001b[1m2s\u001b[0m 1ms/step - accuracy: 0.8300 - loss: 0.4815\n",
      "Epoch 2/10\n",
      "\u001b[1m779/779\u001b[0m \u001b[32m━━━━━━━━━━━━━━━━━━━━\u001b[0m\u001b[37m\u001b[0m \u001b[1m1s\u001b[0m 2ms/step - accuracy: 0.8998 - loss: 0.2930\n",
      "Epoch 3/10\n",
      "\u001b[1m779/779\u001b[0m \u001b[32m━━━━━━━━━━━━━━━━━━━━\u001b[0m\u001b[37m\u001b[0m \u001b[1m1s\u001b[0m 2ms/step - accuracy: 0.9113 - loss: 0.2586\n",
      "Epoch 4/10\n",
      "\u001b[1m779/779\u001b[0m \u001b[32m━━━━━━━━━━━━━━━━━━━━\u001b[0m\u001b[37m\u001b[0m \u001b[1m1s\u001b[0m 1ms/step - accuracy: 0.9161 - loss: 0.2379\n",
      "Epoch 5/10\n",
      "\u001b[1m779/779\u001b[0m \u001b[32m━━━━━━━━━━━━━━━━━━━━\u001b[0m\u001b[37m\u001b[0m \u001b[1m1s\u001b[0m 2ms/step - accuracy: 0.9244 - loss: 0.2222\n",
      "Epoch 6/10\n",
      "\u001b[1m779/779\u001b[0m \u001b[32m━━━━━━━━━━━━━━━━━━━━\u001b[0m\u001b[37m\u001b[0m \u001b[1m1s\u001b[0m 1ms/step - accuracy: 0.9279 - loss: 0.2044\n",
      "Epoch 7/10\n",
      "\u001b[1m779/779\u001b[0m \u001b[32m━━━━━━━━━━━━━━━━━━━━\u001b[0m\u001b[37m\u001b[0m \u001b[1m1s\u001b[0m 1ms/step - accuracy: 0.9332 - loss: 0.1920\n",
      "Epoch 8/10\n",
      "\u001b[1m779/779\u001b[0m \u001b[32m━━━━━━━━━━━━━━━━━━━━\u001b[0m\u001b[37m\u001b[0m \u001b[1m1s\u001b[0m 2ms/step - accuracy: 0.9344 - loss: 0.1848\n",
      "Epoch 9/10\n",
      "\u001b[1m779/779\u001b[0m \u001b[32m━━━━━━━━━━━━━━━━━━━━\u001b[0m\u001b[37m\u001b[0m \u001b[1m1s\u001b[0m 2ms/step - accuracy: 0.9362 - loss: 0.1805\n",
      "Epoch 10/10\n",
      "\u001b[1m779/779\u001b[0m \u001b[32m━━━━━━━━━━━━━━━━━━━━\u001b[0m\u001b[37m\u001b[0m \u001b[1m1s\u001b[0m 1ms/step - accuracy: 0.9394 - loss: 0.1698\n",
      "\u001b[1m390/390\u001b[0m \u001b[32m━━━━━━━━━━━━━━━━━━━━\u001b[0m\u001b[37m\u001b[0m \u001b[1m0s\u001b[0m 931us/step\n"
     ]
    }
   ],
   "source": [
    "model.compile(optimizer=Adam(learning_rate=0.0012908313546078774), loss='sparse_categorical_crossentropy', metrics=['accuracy'])\n",
    "\n",
    "model.fit(X_train, Y_train, epochs=10, batch_size=64)\n",
    "Y_pred = model.predict(X_test)"
   ]
  },
  {
   "cell_type": "markdown",
   "id": "517b0201-a2f3-43e8-b5e3-7ff7427f29ed",
   "metadata": {},
   "source": [
    "# Evaluation"
   ]
  },
  {
   "cell_type": "code",
   "execution_count": 12,
   "id": "ef26a769-dfba-44e8-adeb-d32b139d3fa0",
   "metadata": {},
   "outputs": [],
   "source": [
    "Y_pred_decode = [label_encoder.classes_[np.argmax(x)] for x in Y_pred]\n",
    "Y_test_decode = [label_encoder.classes_[x] for x in Y_test]"
   ]
  },
  {
   "cell_type": "code",
   "execution_count": 13,
   "id": "3a873201-fe1b-47bc-acee-4fcbf6736136",
   "metadata": {},
   "outputs": [
    {
     "name": "stdout",
     "output_type": "stream",
     "text": [
      "Classification Report:\n",
      "               precision    recall  f1-score   support\n",
      "\n",
      "Barack Obama       0.86      0.84      0.85      1379\n",
      "Donald Trump       0.95      0.98      0.96      9564\n",
      "   Joe Biden       0.84      0.72      0.77      1334\n",
      "       other       0.74      0.56      0.64       184\n",
      "\n",
      "    accuracy                           0.93     12461\n",
      "   macro avg       0.85      0.77      0.81     12461\n",
      "weighted avg       0.93      0.93      0.93     12461\n",
      "\n"
     ]
    }
   ],
   "source": [
    "print(\"Classification Report:\\n\", classification_report(Y_test_decode, Y_pred_decode, labels=label_encoder.classes_))"
   ]
  },
  {
   "cell_type": "code",
   "execution_count": 14,
   "id": "5d6cdcfa-c60a-45f9-a52f-501b3fdd996b",
   "metadata": {},
   "outputs": [
    {
     "data": {
      "image/png": "[encoded data removed]",
      "text/plain": [
       "<Figure size 640x480 with 2 Axes>"
      ]
     },
     "metadata": {},
     "output_type": "display_data"
    }
   ],
   "source": [
    "confusion = confusion_matrix(Y_test_decode, Y_pred_decode, labels=label_encoder.classes_)\n",
    "disp = ConfusionMatrixDisplay(confusion_matrix=confusion,\n",
    "                               display_labels=label_encoder.classes_)\n",
    "\n",
    "ax = plt.subplot(1, 1, 1)\n",
    "ax.grid(False)\n",
    "disp.plot(ax=ax)\n",
    "plt.show()"
   ]
  },
  {
   "cell_type": "markdown",
   "id": "9a044658-d141-420d-9e5a-f4133a0f508a",
   "metadata": {},
   "source": [
    "# Test"
   ]
  },
  {
   "cell_type": "code",
   "execution_count": 15,
   "id": "a1958054-2354-4095-b6c6-2a9be7bbe730",
   "metadata": {},
   "outputs": [
    {
     "name": "stdout",
     "output_type": "stream",
     "text": [
      "\u001b[1m1/1\u001b[0m \u001b[32m━━━━━━━━━━━━━━━━━━━━\u001b[0m\u001b[37m\u001b[0m \u001b[1m0s\u001b[0m 15ms/step\n",
      "Barack Obama\n"
     ]
    }
   ],
   "source": [
    "predict_class = clasification_from_model('Thank you. It\\'s an honor to be here today', model, word2vec_model,tokenizer)\n",
    "\n",
    "print(label_encoder.classes_[predict_class])"
   ]
  },
  {
   "cell_type": "markdown",
   "id": "c5ba8f81-0f4a-4297-a2de-c50633f0bf60",
   "metadata": {},
   "source": [
    "# Hyperparameter research"
   ]
  },
  {
   "cell_type": "code",
   "execution_count": 78,
   "id": "4a7a585a-59a3-4acc-b5e1-735af99aa2a1",
   "metadata": {},
   "outputs": [
    {
     "name": "stderr",
     "output_type": "stream",
     "text": [
      "[I 2024-05-18 12:03:14,017] A new study created in memory with name: no-name-362f0863-4991-47fd-b335-f0ffba4cc1a4\n",
      "/Library/Frameworks/Python.framework/Versions/3.10/lib/python3.10/site-packages/keras/src/layers/core/dense.py:88: UserWarning: Do not pass an `input_shape`/`input_dim` argument to a layer. When using Sequential models, prefer using an `Input(shape)` object as the first layer in the model instead.\n",
      "  super().__init__(activity_regularizer=activity_regularizer, **kwargs)\n",
      "[I 2024-05-18 12:03:27,385] Trial 0 finished with value: 0.925848662853241 and parameters: {'num_hidden_units_1': 125, 'num_hidden_units_2': 38, 'dropout_rate': 0.44753137810297183, 'learning_rate': 0.000695691744072681}. Best is trial 0 with value: 0.925848662853241.\n",
      "[I 2024-05-18 12:03:42,755] Trial 1 finished with value: 0.9274536371231079 and parameters: {'num_hidden_units_1': 128, 'num_hidden_units_2': 42, 'dropout_rate': 0.2722935239562355, 'learning_rate': 0.00028736119268954734}. Best is trial 1 with value: 0.9274536371231079.\n",
      "[I 2024-05-18 12:03:56,243] Trial 2 finished with value: 0.8829949498176575 and parameters: {'num_hidden_units_1': 111, 'num_hidden_units_2': 52, 'dropout_rate': 0.34066438151210143, 'learning_rate': 2.8051979070478163e-05}. Best is trial 1 with value: 0.9274536371231079.\n",
      "[I 2024-05-18 12:04:06,015] Trial 3 finished with value: 0.7675146460533142 and parameters: {'num_hidden_units_1': 36, 'num_hidden_units_2': 55, 'dropout_rate': 0.49025777167331325, 'learning_rate': 0.046469973706880274}. Best is trial 1 with value: 0.9274536371231079.\n",
      "[I 2024-05-18 12:04:15,911] Trial 4 finished with value: 0.9098788499832153 and parameters: {'num_hidden_units_1': 49, 'num_hidden_units_2': 35, 'dropout_rate': 0.4267118836359278, 'learning_rate': 0.00020712827293121853}. Best is trial 1 with value: 0.9274536371231079.\n",
      "[I 2024-05-18 12:04:28,043] Trial 5 finished with value: 0.9096380472183228 and parameters: {'num_hidden_units_1': 110, 'num_hidden_units_2': 47, 'dropout_rate': 0.3279029250978347, 'learning_rate': 9.320239659591249e-05}. Best is trial 1 with value: 0.9274536371231079.\n",
      "[I 2024-05-18 12:04:41,066] Trial 6 finished with value: 0.9077120423316956 and parameters: {'num_hidden_units_1': 120, 'num_hidden_units_2': 58, 'dropout_rate': 0.29838793096512517, 'learning_rate': 0.012607027353067367}. Best is trial 1 with value: 0.9274536371231079.\n",
      "[I 2024-05-18 12:04:50,507] Trial 7 finished with value: 0.894470751285553 and parameters: {'num_hidden_units_1': 32, 'num_hidden_units_2': 34, 'dropout_rate': 0.4174772563847175, 'learning_rate': 0.00012490520603984566}. Best is trial 1 with value: 0.9274536371231079.\n",
      "[I 2024-05-18 12:05:02,591] Trial 8 finished with value: 0.9018537998199463 and parameters: {'num_hidden_units_1': 106, 'num_hidden_units_2': 40, 'dropout_rate': 0.3362822870449743, 'learning_rate': 5.770887998608668e-05}. Best is trial 1 with value: 0.9274536371231079.\n",
      "[I 2024-05-18 12:05:16,101] Trial 9 finished with value: 0.9097183346748352 and parameters: {'num_hidden_units_1': 122, 'num_hidden_units_2': 49, 'dropout_rate': 0.264250486711487, 'learning_rate': 0.011369232325886424}. Best is trial 1 with value: 0.9274536371231079.\n",
      "[I 2024-05-18 12:05:28,121] Trial 10 finished with value: 0.8673461079597473 and parameters: {'num_hidden_units_1': 82, 'num_hidden_units_2': 21, 'dropout_rate': 0.21576881041601578, 'learning_rate': 1.1795696706012643e-05}. Best is trial 1 with value: 0.9274536371231079.\n",
      "[I 2024-05-18 12:05:39,687] Trial 11 finished with value: 0.9227991104125977 and parameters: {'num_hidden_units_1': 86, 'num_hidden_units_2': 27, 'dropout_rate': 0.40766362260167516, 'learning_rate': 0.0010391857853243676}. Best is trial 1 with value: 0.9274536371231079.\n",
      "[I 2024-05-18 12:05:51,924] Trial 12 finished with value: 0.9225583672523499 and parameters: {'num_hidden_units_1': 98, 'num_hidden_units_2': 42, 'dropout_rate': 0.4993346112548111, 'learning_rate': 0.0008554253185390672}. Best is trial 1 with value: 0.9274536371231079.\n",
      "[I 2024-05-18 12:06:02,918] Trial 13 finished with value: 0.9268919229507446 and parameters: {'num_hidden_units_1': 63, 'num_hidden_units_2': 63, 'dropout_rate': 0.22079713374278315, 'learning_rate': 0.0008835723967021912}. Best is trial 1 with value: 0.9274536371231079.\n",
      "[I 2024-05-18 12:06:14,291] Trial 14 finished with value: 0.9246448874473572 and parameters: {'num_hidden_units_1': 66, 'num_hidden_units_2': 64, 'dropout_rate': 0.20107505436412706, 'learning_rate': 0.0028716452369578673}. Best is trial 1 with value: 0.9274536371231079.\n",
      "[I 2024-05-18 12:06:25,461] Trial 15 finished with value: 0.9230399131774902 and parameters: {'num_hidden_units_1': 68, 'num_hidden_units_2': 62, 'dropout_rate': 0.2521371285378149, 'learning_rate': 0.0003231656832650429}. Best is trial 1 with value: 0.9274536371231079.\n",
      "[I 2024-05-18 12:06:36,267] Trial 16 finished with value: 0.9225583672523499 and parameters: {'num_hidden_units_1': 63, 'num_hidden_units_2': 18, 'dropout_rate': 0.2569401148070689, 'learning_rate': 0.004954720128186719}. Best is trial 1 with value: 0.9274536371231079.\n",
      "[I 2024-05-18 12:06:46,452] Trial 17 finished with value: 0.9230399131774902 and parameters: {'num_hidden_units_1': 54, 'num_hidden_units_2': 27, 'dropout_rate': 0.2943614437593551, 'learning_rate': 0.002432302202791733}. Best is trial 1 with value: 0.9274536371231079.\n",
      "[I 2024-05-18 12:06:58,158] Trial 18 finished with value: 0.9248054027557373 and parameters: {'num_hidden_units_1': 94, 'num_hidden_units_2': 46, 'dropout_rate': 0.23021601262859442, 'learning_rate': 0.00034575356337815746}. Best is trial 1 with value: 0.9274536371231079.\n",
      "[I 2024-05-18 12:07:09,500] Trial 19 finished with value: 0.7675146460533142 and parameters: {'num_hidden_units_1': 74, 'num_hidden_units_2': 59, 'dropout_rate': 0.2935719620100204, 'learning_rate': 0.05008895095799515}. Best is trial 1 with value: 0.9274536371231079.\n",
      "[I 2024-05-18 12:07:19,294] Trial 20 finished with value: 0.9184656143188477 and parameters: {'num_hidden_units_1': 46, 'num_hidden_units_2': 29, 'dropout_rate': 0.38878825769969183, 'learning_rate': 0.002143760534591727}. Best is trial 1 with value: 0.9274536371231079.\n",
      "[I 2024-05-18 12:07:32,105] Trial 21 finished with value: 0.9271326661109924 and parameters: {'num_hidden_units_1': 127, 'num_hidden_units_2': 38, 'dropout_rate': 0.3849822580196824, 'learning_rate': 0.0007042948140981559}. Best is trial 1 with value: 0.9274536371231079.\n",
      "[I 2024-05-18 12:07:45,109] Trial 22 finished with value: 0.9288981556892395 and parameters: {'num_hidden_units_1': 128, 'num_hidden_units_2': 44, 'dropout_rate': 0.3707381898207744, 'learning_rate': 0.0006760994048750574}. Best is trial 22 with value: 0.9288981556892395.\n",
      "[I 2024-05-18 12:07:58,481] Trial 23 finished with value: 0.9260894060134888 and parameters: {'num_hidden_units_1': 128, 'num_hidden_units_2': 43, 'dropout_rate': 0.37087558912947693, 'learning_rate': 0.00042909699716725747}. Best is trial 22 with value: 0.9288981556892395.\n",
      "[I 2024-05-18 12:08:11,243] Trial 24 finished with value: 0.8962362408638 and parameters: {'num_hidden_units_1': 116, 'num_hidden_units_2': 35, 'dropout_rate': 0.3701710805806292, 'learning_rate': 4.566213919340966e-05}. Best is trial 22 with value: 0.9288981556892395.\n",
      "[I 2024-05-18 12:08:23,480] Trial 25 finished with value: 0.9126875996589661 and parameters: {'num_hidden_units_1': 100, 'num_hidden_units_2': 44, 'dropout_rate': 0.455393831847937, 'learning_rate': 0.00019065116881093728}. Best is trial 22 with value: 0.9288981556892395.\n",
      "[I 2024-05-18 12:08:36,259] Trial 26 finished with value: 0.9267314076423645 and parameters: {'num_hidden_units_1': 117, 'num_hidden_units_2': 51, 'dropout_rate': 0.3642798697558759, 'learning_rate': 0.0019058221777777536}. Best is trial 22 with value: 0.9288981556892395.\n",
      "[I 2024-05-18 12:08:49,297] Trial 27 finished with value: 0.9299414157867432 and parameters: {'num_hidden_units_1': 127, 'num_hidden_units_2': 39, 'dropout_rate': 0.31756226651688785, 'learning_rate': 0.0004908935877701694}. Best is trial 27 with value: 0.9299414157867432.\n",
      "[I 2024-05-18 12:09:01,770] Trial 28 finished with value: 0.9173421263694763 and parameters: {'num_hidden_units_1': 104, 'num_hidden_units_2': 34, 'dropout_rate': 0.27140165173855185, 'learning_rate': 0.006695756221745281}. Best is trial 27 with value: 0.9299414157867432.\n",
      "[I 2024-05-18 12:09:14,322] Trial 29 finished with value: 0.9235213994979858 and parameters: {'num_hidden_units_1': 90, 'num_hidden_units_2': 31, 'dropout_rate': 0.3137510969872615, 'learning_rate': 0.00040763393035498936}. Best is trial 27 with value: 0.9299414157867432.\n",
      "[I 2024-05-18 12:09:28,281] Trial 30 finished with value: 0.9289783835411072 and parameters: {'num_hidden_units_1': 116, 'num_hidden_units_2': 38, 'dropout_rate': 0.3483405027360731, 'learning_rate': 0.0012911329995276852}. Best is trial 27 with value: 0.9299414157867432.\n",
      "[I 2024-05-18 12:09:43,976] Trial 31 finished with value: 0.931947648525238 and parameters: {'num_hidden_units_1': 128, 'num_hidden_units_2': 39, 'dropout_rate': 0.31034557751664393, 'learning_rate': 0.0012908313546078774}. Best is trial 31 with value: 0.931947648525238.\n",
      "[I 2024-05-18 12:09:58,262] Trial 32 finished with value: 0.9299414157867432 and parameters: {'num_hidden_units_1': 114, 'num_hidden_units_2': 39, 'dropout_rate': 0.35451039839159226, 'learning_rate': 0.0013709468216538863}. Best is trial 31 with value: 0.931947648525238.\n",
      "[I 2024-05-18 12:10:13,187] Trial 33 finished with value: 0.9286574125289917 and parameters: {'num_hidden_units_1': 113, 'num_hidden_units_2': 39, 'dropout_rate': 0.3152237295549877, 'learning_rate': 0.0011147412964157024}. Best is trial 31 with value: 0.931947648525238.\n",
      "[I 2024-05-18 12:10:27,962] Trial 34 finished with value: 0.9211138486862183 and parameters: {'num_hidden_units_1': 122, 'num_hidden_units_2': 38, 'dropout_rate': 0.3502055720692458, 'learning_rate': 0.0046760770861393785}. Best is trial 31 with value: 0.931947648525238.\n",
      "[I 2024-05-18 12:10:42,449] Trial 35 finished with value: 0.928577184677124 and parameters: {'num_hidden_units_1': 113, 'num_hidden_units_2': 41, 'dropout_rate': 0.31789852441088906, 'learning_rate': 0.0016543594078956374}. Best is trial 31 with value: 0.931947648525238.\n",
      "[I 2024-05-18 12:10:56,368] Trial 36 finished with value: 0.8935880064964294 and parameters: {'num_hidden_units_1': 108, 'num_hidden_units_2': 31, 'dropout_rate': 0.3524898101600208, 'learning_rate': 0.019201981150938432}. Best is trial 31 with value: 0.931947648525238.\n",
      "[I 2024-05-18 12:11:11,452] Trial 37 finished with value: 0.924484372138977 and parameters: {'num_hidden_units_1': 121, 'num_hidden_units_2': 36, 'dropout_rate': 0.2886559085497279, 'learning_rate': 0.003196047986934201}. Best is trial 31 with value: 0.931947648525238.\n",
      "[I 2024-05-18 12:11:26,405] Trial 38 finished with value: 0.9183050990104675 and parameters: {'num_hidden_units_1': 116, 'num_hidden_units_2': 47, 'dropout_rate': 0.3361622128959725, 'learning_rate': 0.0002036363958502309}. Best is trial 31 with value: 0.931947648525238.\n",
      "[I 2024-05-18 12:11:41,265] Trial 39 finished with value: 0.7675146460533142 and parameters: {'num_hidden_units_1': 123, 'num_hidden_units_2': 32, 'dropout_rate': 0.325045424825758, 'learning_rate': 0.09056007679865774}. Best is trial 31 with value: 0.931947648525238.\n",
      "[I 2024-05-18 12:11:55,341] Trial 40 finished with value: 0.9264906644821167 and parameters: {'num_hidden_units_1': 103, 'num_hidden_units_2': 53, 'dropout_rate': 0.4464109476172684, 'learning_rate': 0.0013467483017392933}. Best is trial 31 with value: 0.931947648525238.\n",
      "[I 2024-05-18 12:12:08,284] Trial 41 finished with value: 0.9271326661109924 and parameters: {'num_hidden_units_1': 127, 'num_hidden_units_2': 44, 'dropout_rate': 0.34850373844442506, 'learning_rate': 0.00058101347917567}. Best is trial 31 with value: 0.931947648525238.\n",
      "[I 2024-05-18 12:12:20,924] Trial 42 finished with value: 0.9255276322364807 and parameters: {'num_hidden_units_1': 118, 'num_hidden_units_2': 37, 'dropout_rate': 0.39303556312462107, 'learning_rate': 0.0005458559953011793}. Best is trial 31 with value: 0.931947648525238.\n",
      "[I 2024-05-18 12:12:33,263] Trial 43 finished with value: 0.9141321182250977 and parameters: {'num_hidden_units_1': 111, 'num_hidden_units_2': 41, 'dropout_rate': 0.3052152063978903, 'learning_rate': 0.0001227168800669773}. Best is trial 31 with value: 0.931947648525238.\n",
      "[I 2024-05-18 12:12:46,032] Trial 44 finished with value: 0.9264103770256042 and parameters: {'num_hidden_units_1': 124, 'num_hidden_units_2': 40, 'dropout_rate': 0.3612180412308491, 'learning_rate': 0.0012604161726885949}. Best is trial 31 with value: 0.931947648525238.\n",
      "[I 2024-05-18 12:12:58,951] Trial 45 finished with value: 0.925848662853241 and parameters: {'num_hidden_units_1': 128, 'num_hidden_units_2': 46, 'dropout_rate': 0.33449601032718995, 'learning_rate': 0.004139748440157573}. Best is trial 31 with value: 0.931947648525238.\n",
      "[I 2024-05-18 12:13:11,798] Trial 46 finished with value: 0.9191878437995911 and parameters: {'num_hidden_units_1': 120, 'num_hidden_units_2': 49, 'dropout_rate': 0.28167583707520694, 'learning_rate': 0.007698468313905005}. Best is trial 31 with value: 0.931947648525238.\n",
      "[I 2024-05-18 12:13:24,002] Trial 47 finished with value: 0.9262499213218689 and parameters: {'num_hidden_units_1': 108, 'num_hidden_units_2': 33, 'dropout_rate': 0.3837667991882658, 'learning_rate': 0.0006254051615171293}. Best is trial 31 with value: 0.931947648525238.\n",
      "[I 2024-05-18 12:13:36,597] Trial 48 finished with value: 0.9178236126899719 and parameters: {'num_hidden_units_1': 113, 'num_hidden_units_2': 36, 'dropout_rate': 0.40265228711933576, 'learning_rate': 0.00022072202134248964}. Best is trial 31 with value: 0.931947648525238.\n",
      "[I 2024-05-18 12:13:49,377] Trial 49 finished with value: 0.9027365446090698 and parameters: {'num_hidden_units_1': 124, 'num_hidden_units_2': 43, 'dropout_rate': 0.43612085243467275, 'learning_rate': 8.035697774198026e-05}. Best is trial 31 with value: 0.931947648525238.\n"
     ]
    },
    {
     "name": "stdout",
     "output_type": "stream",
     "text": [
      "Best hyperparameters:  {'num_hidden_units_1': 128, 'num_hidden_units_2': 39, 'dropout_rate': 0.31034557751664393, 'learning_rate': 0.0012908313546078774}\n"
     ]
    }
   ],
   "source": [
    "import optuna\n",
    "from sklearn.model_selection import train_test_split\n",
    "from sklearn.preprocessing import LabelEncoder\n",
    "from tensorflow.keras.models import Sequential\n",
    "from tensorflow.keras.layers import Dense, Dropout\n",
    "from tensorflow.keras.optimizers import Adam\n",
    "import numpy as np\n",
    "\n",
    "def create_model(trial):\n",
    "    # Définir l'architecture du modèle en fonction des hyperparamètres\n",
    "    num_hidden_units_1 = trial.suggest_int('num_hidden_units_1', 32, 128)\n",
    "    num_hidden_units_2 = trial.suggest_int('num_hidden_units_2', 16, 64)\n",
    "    dropout_rate = trial.suggest_float('dropout_rate', 0.2, 0.5)\n",
    "    learning_rate = trial.suggest_float('learning_rate', 1e-5, 1e-1, log=True)\n",
    "    \n",
    "    model = Sequential([\n",
    "        Dense(num_hidden_units_1, activation='relu', input_shape=(300,)),\n",
    "        Dropout(dropout_rate),\n",
    "        Dense(num_hidden_units_2, activation='relu'),\n",
    "        Dropout(dropout_rate),\n",
    "        Dense(len(label_encoder.classes_), activation='softmax')\n",
    "    ])\n",
    "    \n",
    "    model.compile(optimizer=Adam(learning_rate=learning_rate), \n",
    "                  loss='sparse_categorical_crossentropy', \n",
    "                  metrics=['accuracy'])\n",
    "    return model\n",
    "\n",
    "def objective(trial):\n",
    "    model = create_model(trial)\n",
    "    \n",
    "    model.fit(X_train, Y_train, \n",
    "              validation_data=(X_test, Y_test),\n",
    "              epochs=10, \n",
    "              batch_size=64, \n",
    "              verbose=0)\n",
    "    \n",
    "    score = model.evaluate(X_test, Y_test, verbose=0)\n",
    "    return score[1]  # Utiliser la précision comme mesure d'objectif\n",
    "\n",
    "# Créer l'étude Optuna et optimiser\n",
    "study = optuna.create_study(direction='maximize')\n",
    "study.optimize(objective, n_trials=50)\n",
    "\n",
    "print('Best hyperparameters: ', study.best_params)\n",
    "\n"
   ]
  },
  {
   "cell_type": "code",
   "execution_count": null,
   "id": "65ac34f3-9847-440f-9572-5b93702d3d05",
   "metadata": {},
   "outputs": [],
   "source": []
  }
 ],
 "metadata": {
  "kernelspec": {
   "display_name": "Python 3 (ipykernel)",
   "language": "python",
   "name": "python3"
  },
  "language_info": {
   "codemirror_mode": {
    "name": "ipython",
    "version": 3
   },
   "file_extension": ".py",
   "mimetype": "text/x-python",
   "name": "python",
   "nbconvert_exporter": "python",
   "pygments_lexer": "ipython3",
   "version": "3.10.11"
  }
 },
 "nbformat": 4,
 "nbformat_minor": 5
}
