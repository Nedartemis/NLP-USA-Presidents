{
 "cells": [
  {
   "cell_type": "code",
   "execution_count": 2,
   "metadata": {},
   "outputs": [],
   "source": [
    "from typing import Dict, List\n",
    "\n",
    "import matplotlib.pyplot as plt\n",
    "import pandas as pd\n",
    "import path_imports\n",
    "from sklearn.feature_extraction.text import (\n",
    "    CountVectorizer,\n",
    ")\n",
    "from sklearn.metrics import (\n",
    "    ConfusionMatrixDisplay,\n",
    "    classification_report,\n",
    "    confusion_matrix,\n",
    ")\n",
    "from sklearn.model_selection import (\n",
    "    train_test_split,\n",
    ")\n",
    "from sklearn.naive_bayes import MultinomialNB\n",
    "from sklearn.utils.class_weight import compute_sample_weight\n",
    "from spacy.lang.en.stop_words import STOP_WORDS as en_stop\n",
    "from spacy.lang.fr.stop_words import STOP_WORDS as fr_stop\n",
    "\n",
    "from src.classification.my_naive_bayes import (\n",
    "    CountVectorizer,\n",
    "    MultinomialNB,\n",
    "    MyNaiveBayes,\n",
    "    en_stop,\n",
    ")\n",
    "from src.read_corpus import read_corpus"
   ]
  },
  {
   "cell_type": "markdown",
   "metadata": {},
   "source": [
    "## Create dataset"
   ]
  },
  {
   "cell_type": "markdown",
   "metadata": {},
   "source": [
    "### Read corpus"
   ]
  },
  {
   "cell_type": "code",
   "execution_count": 3,
   "metadata": {},
   "outputs": [
    {
     "name": "stderr",
     "output_type": "stream",
     "text": [
      "100%|██████████| 29/29 [00:03<00:00,  7.81it/s]\n"
     ]
    },
    {
     "data": {
      "text/html": [
       "<div>\n",
       "<style scoped>\n",
       "    .dataframe tbody tr th:only-of-type {\n",
       "        vertical-align: middle;\n",
       "    }\n",
       "\n",
       "    .dataframe tbody tr th {\n",
       "        vertical-align: top;\n",
       "    }\n",
       "\n",
       "    .dataframe thead th {\n",
       "        text-align: right;\n",
       "    }\n",
       "</style>\n",
       "<table border=\"1\" class=\"dataframe\">\n",
       "  <thead>\n",
       "    <tr style=\"text-align: right;\">\n",
       "      <th></th>\n",
       "      <th>category</th>\n",
       "      <th>name</th>\n",
       "      <th>date</th>\n",
       "      <th>text</th>\n",
       "    </tr>\n",
       "  </thead>\n",
       "  <tbody>\n",
       "    <tr>\n",
       "      <th>0</th>\n",
       "      <td>speech</td>\n",
       "      <td>Donald Trump</td>\n",
       "      <td>2019</td>\n",
       "      <td>Thank you everybody. Thank you and Vice Presi...</td>\n",
       "    </tr>\n",
       "    <tr>\n",
       "      <th>1</th>\n",
       "      <td>speech</td>\n",
       "      <td>Donald Trump</td>\n",
       "      <td>2019</td>\n",
       "      <td>ell, thank you very much. And hello, Tupelo. T...</td>\n",
       "    </tr>\n",
       "    <tr>\n",
       "      <th>2</th>\n",
       "      <td>speech</td>\n",
       "      <td>Donald Trump</td>\n",
       "      <td>2019</td>\n",
       "      <td>Thank you very much everybody. Thank you. Wow...</td>\n",
       "    </tr>\n",
       "    <tr>\n",
       "      <th>3</th>\n",
       "      <td>speech</td>\n",
       "      <td>Donald Trump</td>\n",
       "      <td>2020</td>\n",
       "      <td>Thank you, thank you. Wow. Wow, and I'm thrill...</td>\n",
       "    </tr>\n",
       "    <tr>\n",
       "      <th>4</th>\n",
       "      <td>speech</td>\n",
       "      <td>Donald Trump</td>\n",
       "      <td>2020</td>\n",
       "      <td>Wow, that's a big crowd. This is a big crowd. ...</td>\n",
       "    </tr>\n",
       "    <tr>\n",
       "      <th>...</th>\n",
       "      <td>...</td>\n",
       "      <td>...</td>\n",
       "      <td>...</td>\n",
       "      <td>...</td>\n",
       "    </tr>\n",
       "    <tr>\n",
       "      <th>107</th>\n",
       "      <td>state-the-union-written-messages</td>\n",
       "      <td>Harry S Truman</td>\n",
       "      <td>December 20, 1948</td>\n",
       "      <td>\\nCITATION ACCOMPANYING THE AWARD OF\\nTHE MEDA...</td>\n",
       "    </tr>\n",
       "    <tr>\n",
       "      <th>108</th>\n",
       "      <td>state-the-union-written-messages</td>\n",
       "      <td>Harry S Truman</td>\n",
       "      <td>June 01, 1945</td>\n",
       "      <td>\\nCITATION FOR THE LEGION OF MERIT\\nDEGREE OF ...</td>\n",
       "    </tr>\n",
       "    <tr>\n",
       "      <th>109</th>\n",
       "      <td>state-the-union-written-messages</td>\n",
       "      <td>Dwight D. Eisenhower</td>\n",
       "      <td>August 04, 1955</td>\n",
       "      <td>\\n[Text read by Cmdr. Edward L. Beach, Naval A...</td>\n",
       "    </tr>\n",
       "    <tr>\n",
       "      <th>110</th>\n",
       "      <td>state-the-union-written-messages</td>\n",
       "      <td>Harry S Truman</td>\n",
       "      <td>September 10, 1945</td>\n",
       "      <td>\\nCITATION FOR THE MEDAL OF HONOR\\nGENERAL JON...</td>\n",
       "    </tr>\n",
       "    <tr>\n",
       "      <th>111</th>\n",
       "      <td>state-the-union-written-messages</td>\n",
       "      <td>Lyndon B. Johnson</td>\n",
       "      <td>July 09, 1968</td>\n",
       "      <td>\\nCITATION TO ACCOMPANY THE AWARD OF THE PRESI...</td>\n",
       "    </tr>\n",
       "  </tbody>\n",
       "</table>\n",
       "<p>137685 rows × 4 columns</p>\n",
       "</div>"
      ],
      "text/plain": [
       "                             category                  name  \\\n",
       "0                              speech          Donald Trump   \n",
       "1                              speech          Donald Trump   \n",
       "2                              speech          Donald Trump   \n",
       "3                              speech          Donald Trump   \n",
       "4                              speech          Donald Trump   \n",
       "..                                ...                   ...   \n",
       "107  state-the-union-written-messages        Harry S Truman   \n",
       "108  state-the-union-written-messages        Harry S Truman   \n",
       "109  state-the-union-written-messages  Dwight D. Eisenhower   \n",
       "110  state-the-union-written-messages        Harry S Truman   \n",
       "111  state-the-union-written-messages     Lyndon B. Johnson   \n",
       "\n",
       "                   date                                               text  \n",
       "0                  2019   Thank you everybody. Thank you and Vice Presi...  \n",
       "1                  2019  ell, thank you very much. And hello, Tupelo. T...  \n",
       "2                  2019   Thank you very much everybody. Thank you. Wow...  \n",
       "3                  2020  Thank you, thank you. Wow. Wow, and I'm thrill...  \n",
       "4                  2020  Wow, that's a big crowd. This is a big crowd. ...  \n",
       "..                  ...                                                ...  \n",
       "107   December 20, 1948  \\nCITATION ACCOMPANYING THE AWARD OF\\nTHE MEDA...  \n",
       "108       June 01, 1945  \\nCITATION FOR THE LEGION OF MERIT\\nDEGREE OF ...  \n",
       "109     August 04, 1955  \\n[Text read by Cmdr. Edward L. Beach, Naval A...  \n",
       "110  September 10, 1945  \\nCITATION FOR THE MEDAL OF HONOR\\nGENERAL JON...  \n",
       "111       July 09, 1968  \\nCITATION TO ACCOMPANY THE AWARD OF THE PRESI...  \n",
       "\n",
       "[137685 rows x 4 columns]"
      ]
     },
     "execution_count": 3,
     "metadata": {},
     "output_type": "execute_result"
    }
   ],
   "source": [
    "df_all = read_corpus()\n",
    "df_all"
   ]
  },
  {
   "cell_type": "markdown",
   "metadata": {},
   "source": [
    "### Filter by categories and by president"
   ]
  },
  {
   "cell_type": "code",
   "execution_count": 4,
   "metadata": {},
   "outputs": [
    {
     "data": {
      "text/plain": [
       "(['tweet'], ['Donald Trump', 'Barack Obama', 'Joe Biden'])"
      ]
     },
     "execution_count": 4,
     "metadata": {},
     "output_type": "execute_result"
    }
   ],
   "source": [
    "# categories = [\"debate\", \"speech\", \"tweet\"]\n",
    "categories = [\"tweet\"]\n",
    "presidents = [\"Barack Obama\", \"Donald Trump\", \"Joe Biden\"]\n",
    "\n",
    "df = df_all.copy()\n",
    "df = df[df[\"category\"].isin(categories)]\n",
    "df = df[df[\"name\"].isin(presidents)]\n",
    "df[\"category\"].unique().tolist(), df[\"name\"].unique().tolist()"
   ]
  },
  {
   "cell_type": "markdown",
   "metadata": {},
   "source": [
    "### Split into train and test"
   ]
  },
  {
   "cell_type": "code",
   "execution_count": 5,
   "metadata": {},
   "outputs": [
    {
     "name": "stdout",
     "output_type": "stream",
     "text": [
      "sample weights unique coefs : [0.42540184 2.89457703 3.29155445]\n"
     ]
    }
   ],
   "source": [
    "X = df[\"text\"]\n",
    "y = df[\"name\"]\n",
    "\n",
    "X_train, X_test, y_train, y_test = train_test_split(\n",
    "    X, y, test_size=0.2, random_state=42\n",
    ")\n",
    "sample_weights = compute_sample_weight(class_weight=\"balanced\", y=y_train)\n",
    "print(\n",
    "    \"sample weights unique coefs :\",\n",
    "    pd.DataFrame(sample_weights, columns=[\"name\"]).name.unique(),\n",
    ")"
   ]
  },
  {
   "cell_type": "markdown",
   "metadata": {},
   "source": [
    "## Create model"
   ]
  },
  {
   "cell_type": "code",
   "execution_count": 6,
   "metadata": {},
   "outputs": [],
   "source": [
    "model = MyNaiveBayes(\n",
    "    cv=CountVectorizer(tokenizer=None, ngram_range=(1, 1), stop_words=list(en_stop)),\n",
    "    clf=MultinomialNB(),\n",
    ")"
   ]
  },
  {
   "cell_type": "markdown",
   "metadata": {},
   "source": [
    "## Train"
   ]
  },
  {
   "cell_type": "code",
   "execution_count": 7,
   "metadata": {},
   "outputs": [
    {
     "name": "stderr",
     "output_type": "stream",
     "text": [
      "/home/secouss/repos/nlp-usa-presidents/.venv/lib/python3.12/site-packages/sklearn/feature_extraction/text.py:408: UserWarning: Your stop_words may be inconsistent with your preprocessing. Tokenizing the stop words generated tokens ['ll', 've'] not in stop_words.\n",
      "  warnings.warn(\n"
     ]
    },
    {
     "name": "stdout",
     "output_type": "stream",
     "text": [
      "Features dimension: (47665, 54950)\n"
     ]
    },
    {
     "data": {
      "text/plain": [
       "[('countvectorizer',\n",
       "  CountVectorizer(stop_words=['’ve', 'since', 'yet', '‘s', 'your', 'next', 'him',\n",
       "                              'against', 'will', 'seeming', 'ever', 'could', 're',\n",
       "                              'whereafter', 'there', 'formerly', 'the', 'hereby',\n",
       "                              'well', 'without', 'back', 'upon', 'until', 'whom',\n",
       "                              'themselves', 'latterly', 'her', 'by', 'might',\n",
       "                              'neither', ...])),\n",
       " ('multinomialnb', MultinomialNB())]"
      ]
     },
     "execution_count": 7,
     "metadata": {},
     "output_type": "execute_result"
    }
   ],
   "source": [
    "model.fit(X_train, y_train, multinomialnb__sample_weight=sample_weights)\n",
    "print(f\"Features dimension: {len(X_train), len(model.cv.vocabulary_)}\")\n",
    "model.model.steps"
   ]
  },
  {
   "cell_type": "markdown",
   "metadata": {},
   "source": [
    "## Evaluate"
   ]
  },
  {
   "cell_type": "markdown",
   "metadata": {},
   "source": [
    "### Predict"
   ]
  },
  {
   "cell_type": "code",
   "execution_count": 8,
   "metadata": {},
   "outputs": [],
   "source": [
    "y_pred = model.predict(X_test)"
   ]
  },
  {
   "cell_type": "markdown",
   "metadata": {},
   "source": [
    "### Table (precision, recall, f1-score)"
   ]
  },
  {
   "cell_type": "code",
   "execution_count": 9,
   "metadata": {},
   "outputs": [
    {
     "name": "stdout",
     "output_type": "stream",
     "text": [
      "Classification Report:\n",
      "               precision    recall  f1-score   support\n",
      "\n",
      "Barack Obama       0.92      0.94      0.93      1362\n",
      "Donald Trump       0.99      0.89      0.94      9345\n",
      "   Joe Biden       0.53      0.94      0.68      1210\n",
      "\n",
      "    accuracy                           0.90     11917\n",
      "   macro avg       0.81      0.92      0.85     11917\n",
      "weighted avg       0.94      0.90      0.91     11917\n",
      "\n"
     ]
    }
   ],
   "source": [
    "print(\"Classification Report:\\n\", classification_report(y_test, y_pred))"
   ]
  },
  {
   "cell_type": "markdown",
   "metadata": {},
   "source": [
    "### Confusion Matrix"
   ]
  },
  {
   "cell_type": "code",
   "execution_count": 10,
   "metadata": {},
   "outputs": [
    {
     "data": {
      "image/png": "[encoded data removed]",
      "text/plain": [
       "<Figure size 640x480 with 2 Axes>"
      ]
     },
     "metadata": {},
     "output_type": "display_data"
    }
   ],
   "source": [
    "cm = confusion_matrix(y_test, y_pred, labels=model.clf.classes_)\n",
    "disp = ConfusionMatrixDisplay(confusion_matrix=cm, display_labels=model.clf.classes_)\n",
    "disp.plot()\n",
    "plt.show()"
   ]
  },
  {
   "cell_type": "markdown",
   "metadata": {},
   "source": [
    "## Explicabilities"
   ]
  },
  {
   "cell_type": "markdown",
   "metadata": {},
   "source": [
    "### Which words are the most used for each president "
   ]
  },
  {
   "cell_type": "code",
   "execution_count": 11,
   "metadata": {},
   "outputs": [
    {
     "name": "stdout",
     "output_type": "stream",
     "text": [
      "Barack Obama : ['ofa', 'bo', 'http', 'president', 'obama', 'com', 'twitter', 'pic', 'health', 'congress', 'time', 'americans', 'today', 'care', 'watch']\n",
      "Donald Trump : ['co', 'https', 'realdonaldtrump', 'great', 'trump', 'amp', 'http', 'thank', 'president', 'people', 'country', 'thanks', 'new', 'america', 'big']\n",
      "Joe Biden : ['co', 'https', 'president', 'trump', 'donald', 'need', 'today', 'biden', 'country', 'http', 'nation', 'america', 'll', 'day', 'american']\n"
     ]
    }
   ],
   "source": [
    "res = model.get_most_important_token(n=15)\n",
    "for president, word in res.items():\n",
    "    print(f\"{president} : {word}\")"
   ]
  },
  {
   "cell_type": "markdown",
   "metadata": {},
   "source": [
    "### Which text fails ? What does they contain ?"
   ]
  },
  {
   "cell_type": "code",
   "execution_count": 12,
   "metadata": {},
   "outputs": [
    {
     "data": {
      "text/plain": [
       "['Every CEO in America should be focusing on workers, families, and communities — not executive compensation and share prices.',\n",
       " \"It's not enough to just thank our essential workers — we need to pay them. As president, I’ll:\\n\\n- Raise the minimum wage to $15\\n- End the tipped minimum wage\\n- End the sub-minimum wage for people with disabilities\\n- Ensure everyone has strong benefits\",\n",
       " 'President @BarackObama turns 51 tomorrow—join the First Lady and sign his birthday card: http://t.co/U1VQRjdu',\n",
       " 'From 18 tax cuts to more access to loans, find out how President Obama is giving small businesses a leg up: http://t.co/4DtjRmNL',\n",
       " 'There are actions that Congress can take right now if they were to listen to the majority of the American people who want to see our government take action to stop gun violence.',\n",
       " '“He has done more for Israel’s security than any President since Harry Truman.”—VP Biden on President Obama',\n",
       " 'President Obama: \"We are on pace to double our exports. That\\'s creating tens of thousands of jobs all across the country.\" #TeamBarack',\n",
       " 'A #FF this week for @ObamaInaugural—everything you need to know for President Obama and VP Biden’s inauguration on January 21, 2013.',\n",
       " 'I will be speaking more about the events in Minnesota later today.']"
      ]
     },
     "execution_count": 12,
     "metadata": {},
     "output_type": "execute_result"
    }
   ],
   "source": [
    "dfr = pd.DataFrame({\"text\": list(X_test), \"true\": list(y_test), \"pred\": y_pred})\n",
    "\n",
    "true_label = \"Joe Biden\"\n",
    "predicted_label = \"Barack Obama\"\n",
    "\n",
    "dft = dfr.copy()\n",
    "dft = dft[dft[\"true\"] == true_label]\n",
    "dft = dft[dft[\"pred\"] == predicted_label]\n",
    "dft.text.head(n=10).to_list()"
   ]
  },
  {
   "cell_type": "markdown",
   "metadata": {},
   "source": [
    "### Given a text, which words have influenced the most for predicting the president"
   ]
  },
  {
   "cell_type": "markdown",
   "metadata": {},
   "source": [
    "#### Take one"
   ]
  },
  {
   "cell_type": "code",
   "execution_count": 13,
   "metadata": {},
   "outputs": [
    {
     "data": {
      "text/plain": [
       "('Joe Biden',\n",
       " 'A #FF this week for @ObamaInaugural—everything you need to know for President Obama and VP Biden’s inauguration on January 21, 2013.')"
      ]
     },
     "execution_count": 13,
     "metadata": {},
     "output_type": "execute_result"
    }
   ],
   "source": [
    "sample = dft.iloc[7]\n",
    "text = sample[\"text\"]\n",
    "name = sample[\"true\"]\n",
    "name, text"
   ]
  },
  {
   "cell_type": "markdown",
   "metadata": {},
   "source": [
    "#### See the prediction"
   ]
  },
  {
   "cell_type": "code",
   "execution_count": 14,
   "metadata": {},
   "outputs": [
    {
     "data": {
      "text/plain": [
       "'Barack Obama'"
      ]
     },
     "execution_count": 14,
     "metadata": {},
     "output_type": "execute_result"
    }
   ],
   "source": [
    "model.predict([text])[0]"
   ]
  },
  {
   "cell_type": "markdown",
   "metadata": {},
   "source": [
    "#### Show the words that have influenced the most the prediction"
   ]
  },
  {
   "cell_type": "code",
   "execution_count": 15,
   "metadata": {},
   "outputs": [
    {
     "data": {
      "text/plain": [
       "{'Barack Obama': array(['president', 'obama'], dtype=object),\n",
       " 'Donald Trump': array(['president', 'obama', 'need', 'know', 'biden'], dtype=object),\n",
       " 'Joe Biden': array(['president', 'need', 'biden', 'vp', 'know'], dtype=object)}"
      ]
     },
     "execution_count": 15,
     "metadata": {},
     "output_type": "execute_result"
    }
   ],
   "source": [
    "model.most_important_words(text)"
   ]
  }
 ],
 "metadata": {
  "kernelspec": {
   "display_name": ".venv",
   "language": "python",
   "name": "python3"
  },
  "language_info": {
   "codemirror_mode": {
    "name": "ipython",
    "version": 3
   },
   "file_extension": ".py",
   "mimetype": "text/x-python",
   "name": "python",
   "nbconvert_exporter": "python",
   "pygments_lexer": "ipython3",
   "version": "3.12.3"
  }
 },
 "nbformat": 4,
 "nbformat_minor": 2
}
