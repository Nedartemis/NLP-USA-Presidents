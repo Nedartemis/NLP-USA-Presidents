{
 "cells": [
  {
   "cell_type": "markdown",
   "id": "eae851b7-8b70-4a35-80fb-b7c548032b80",
   "metadata": {},
   "source": [
    "# PyTorch implementation of feed-forward neural networks"
   ]
  },
  {
   "cell_type": "markdown",
   "id": "75105c54-aac1-4011-9a59-00ab4cc31798",
   "metadata": {},
   "source": [
    "## Import librairies"
   ]
  },
  {
   "cell_type": "code",
   "execution_count": 44,
   "id": "a685ce16-8bbd-4493-a961-e4004f2526e3",
   "metadata": {},
   "outputs": [],
   "source": [
    "from importlib import reload\n",
    "\n",
    "import path_imports\n",
    "import src.classification.my_fnn_torch\n",
    "\n",
    "reload(src.classification.my_fnn_torch)\n",
    "\n",
    "import eli5\n",
    "import gensim.downloader\n",
    "import matplotlib.pyplot as plt\n",
    "from eli5.lime import TextExplainer\n",
    "from sklearn.metrics import (\n",
    "    ConfusionMatrixDisplay,\n",
    "    classification_report,\n",
    "    confusion_matrix,\n",
    ")\n",
    "from sklearn.model_selection import train_test_split\n",
    "\n",
    "from src.classification.my_fnn_torch import MyFnnTorch\n",
    "from src.read_corpus import read_corpus"
   ]
  },
  {
   "cell_type": "markdown",
   "id": "1d55db79-32e6-43ca-baad-8540ce4d9e28",
   "metadata": {},
   "source": [
    "## Load pretrained Word2vec models"
   ]
  },
  {
   "cell_type": "code",
   "execution_count": 2,
   "id": "cd3692f6-49af-45a5-b932-d9013a1f7a9f",
   "metadata": {},
   "outputs": [
    {
     "name": "stdout",
     "output_type": "stream",
     "text": [
      "['fasttext-wiki-news-subwords-300', 'conceptnet-numberbatch-17-06-300', 'word2vec-ruscorpora-300', 'word2vec-google-news-300', 'glove-wiki-gigaword-50', 'glove-wiki-gigaword-100', 'glove-wiki-gigaword-200', 'glove-wiki-gigaword-300', 'glove-twitter-25', 'glove-twitter-50', 'glove-twitter-100', 'glove-twitter-200', '__testing_word2vec-matrix-synopsis']\n"
     ]
    }
   ],
   "source": [
    "print(list(gensim.downloader.info()['models'].keys()))"
   ]
  },
  {
   "cell_type": "code",
   "execution_count": 3,
   "id": "63276d95-6947-49e0-b3bb-321e1e414acc",
   "metadata": {},
   "outputs": [
    {
     "name": "stdout",
     "output_type": "stream",
     "text": [
      "[('ryan', 0.5959905385971069), ('brian', 0.5930478572845459), ('anderson', 0.5515516400337219), ('murphy', 0.5254671573638916), ('sean', 0.5238237977027893), ('michael', 0.5100076794624329), ('smith', 0.5093246102333069), ('chris', 0.49988123774528503), ('kelly', 0.49805787205696106), ('jeff', 0.49499109387397766)]\n",
      "[('queen', 0.6713277101516724)]\n"
     ]
    }
   ],
   "source": [
    "pretrained_wv = gensim.downloader.load('glove-wiki-gigaword-300')\n",
    "print(pretrained_wv.most_similar('kevin'))\n",
    "print(pretrained_wv.most_similar(positive=['woman', 'king'], negative=['man'], topn=1))"
   ]
  },
  {
   "cell_type": "markdown",
   "id": "603c92fa",
   "metadata": {},
   "source": [
    "## Load dataset and split dataset"
   ]
  },
  {
   "cell_type": "markdown",
   "id": "16d5ce65",
   "metadata": {},
   "source": [
    "### Load"
   ]
  },
  {
   "cell_type": "code",
   "execution_count": 27,
   "id": "f4b129ee",
   "metadata": {},
   "outputs": [
    {
     "name": "stderr",
     "output_type": "stream",
     "text": [
      "100%|██████████| 29/29 [00:03<00:00,  8.62it/s]\n"
     ]
    },
    {
     "data": {
      "text/html": [
       "<div>\n",
       "<style scoped>\n",
       "    .dataframe tbody tr th:only-of-type {\n",
       "        vertical-align: middle;\n",
       "    }\n",
       "\n",
       "    .dataframe tbody tr th {\n",
       "        vertical-align: top;\n",
       "    }\n",
       "\n",
       "    .dataframe thead th {\n",
       "        text-align: right;\n",
       "    }\n",
       "</style>\n",
       "<table border=\"1\" class=\"dataframe\">\n",
       "  <thead>\n",
       "    <tr style=\"text-align: right;\">\n",
       "      <th></th>\n",
       "      <th>category</th>\n",
       "      <th>name</th>\n",
       "      <th>date</th>\n",
       "      <th>text</th>\n",
       "    </tr>\n",
       "  </thead>\n",
       "  <tbody>\n",
       "    <tr>\n",
       "      <th>0</th>\n",
       "      <td>tweet</td>\n",
       "      <td>Donald Trump</td>\n",
       "      <td>2011-08-02 18:07:48</td>\n",
       "      <td>Republicans and Democrats have both created ou...</td>\n",
       "    </tr>\n",
       "    <tr>\n",
       "      <th>1</th>\n",
       "      <td>tweet</td>\n",
       "      <td>Donald Trump</td>\n",
       "      <td>2020-03-03 01:34:50</td>\n",
       "      <td>I was thrilled to be back in the Great city of...</td>\n",
       "    </tr>\n",
       "    <tr>\n",
       "      <th>2</th>\n",
       "      <td>tweet</td>\n",
       "      <td>Donald Trump</td>\n",
       "      <td>2020-09-12 20:10:58</td>\n",
       "      <td>The Unsolicited Mail In Ballot Scam is a major...</td>\n",
       "    </tr>\n",
       "    <tr>\n",
       "      <th>3</th>\n",
       "      <td>tweet</td>\n",
       "      <td>Donald Trump</td>\n",
       "      <td>2020-02-01 16:14:02</td>\n",
       "      <td>Getting a little exercise this morning! https:...</td>\n",
       "    </tr>\n",
       "    <tr>\n",
       "      <th>4</th>\n",
       "      <td>tweet</td>\n",
       "      <td>Donald Trump</td>\n",
       "      <td>2020-10-23 04:52:14</td>\n",
       "      <td>https://t.co/4qwCKQOiOw</td>\n",
       "    </tr>\n",
       "    <tr>\n",
       "      <th>...</th>\n",
       "      <td>...</td>\n",
       "      <td>...</td>\n",
       "      <td>...</td>\n",
       "      <td>...</td>\n",
       "    </tr>\n",
       "    <tr>\n",
       "      <th>6032</th>\n",
       "      <td>tweet</td>\n",
       "      <td>Joe Biden</td>\n",
       "      <td>2020-11-01 11:40</td>\n",
       "      <td>As president, I’ll build an economy that rewar...</td>\n",
       "    </tr>\n",
       "    <tr>\n",
       "      <th>6033</th>\n",
       "      <td>tweet</td>\n",
       "      <td>Joe Biden</td>\n",
       "      <td>2020-11-01 12:01</td>\n",
       "      <td>Let’s put dogs back in the White House. https:...</td>\n",
       "    </tr>\n",
       "    <tr>\n",
       "      <th>6034</th>\n",
       "      <td>tweet</td>\n",
       "      <td>Joe Biden</td>\n",
       "      <td>2020-11-01 12:20</td>\n",
       "      <td>We have in our hands the ultimate power: the p...</td>\n",
       "    </tr>\n",
       "    <tr>\n",
       "      <th>6035</th>\n",
       "      <td>tweet</td>\n",
       "      <td>Joe Biden</td>\n",
       "      <td>2020-11-01 12:40</td>\n",
       "      <td>We need to:\\n\\nBuild bridges, not walls.\\nOpen...</td>\n",
       "    </tr>\n",
       "    <tr>\n",
       "      <th>6036</th>\n",
       "      <td>tweet</td>\n",
       "      <td>Joe Biden</td>\n",
       "      <td>2020-11-01 13:01</td>\n",
       "      <td>Jodie –– you have my word: I will always stand...</td>\n",
       "    </tr>\n",
       "  </tbody>\n",
       "</table>\n",
       "<p>59582 rows × 4 columns</p>\n",
       "</div>"
      ],
      "text/plain": [
       "     category          name                 date  \\\n",
       "0       tweet  Donald Trump  2011-08-02 18:07:48   \n",
       "1       tweet  Donald Trump  2020-03-03 01:34:50   \n",
       "2       tweet  Donald Trump  2020-09-12 20:10:58   \n",
       "3       tweet  Donald Trump  2020-02-01 16:14:02   \n",
       "4       tweet  Donald Trump  2020-10-23 04:52:14   \n",
       "...       ...           ...                  ...   \n",
       "6032    tweet     Joe Biden     2020-11-01 11:40   \n",
       "6033    tweet     Joe Biden     2020-11-01 12:01   \n",
       "6034    tweet     Joe Biden     2020-11-01 12:20   \n",
       "6035    tweet     Joe Biden     2020-11-01 12:40   \n",
       "6036    tweet     Joe Biden     2020-11-01 13:01   \n",
       "\n",
       "                                                   text  \n",
       "0     Republicans and Democrats have both created ou...  \n",
       "1     I was thrilled to be back in the Great city of...  \n",
       "2     The Unsolicited Mail In Ballot Scam is a major...  \n",
       "3     Getting a little exercise this morning! https:...  \n",
       "4                               https://t.co/4qwCKQOiOw  \n",
       "...                                                 ...  \n",
       "6032  As president, I’ll build an economy that rewar...  \n",
       "6033  Let’s put dogs back in the White House. https:...  \n",
       "6034  We have in our hands the ultimate power: the p...  \n",
       "6035  We need to:\\n\\nBuild bridges, not walls.\\nOpen...  \n",
       "6036  Jodie –– you have my word: I will always stand...  \n",
       "\n",
       "[59582 rows x 4 columns]"
      ]
     },
     "execution_count": 27,
     "metadata": {},
     "output_type": "execute_result"
    }
   ],
   "source": [
    "dfp = read_corpus(categories=[\"tweet\"], presidents=[\"Barack Obama\", \"Donald Trump\", \"Joe Biden\"])\n",
    "dfp"
   ]
  },
  {
   "cell_type": "markdown",
   "id": "5bf03f44",
   "metadata": {},
   "source": [
    "## Split"
   ]
  },
  {
   "cell_type": "code",
   "execution_count": 28,
   "id": "be07191a",
   "metadata": {},
   "outputs": [
    {
     "data": {
      "text/plain": [
       "((47665,), (47665,))"
      ]
     },
     "execution_count": 28,
     "metadata": {},
     "output_type": "execute_result"
    }
   ],
   "source": [
    "X = dfp[\"text\"]\n",
    "y = dfp[\"name\"]\n",
    "\n",
    "# Split the data\n",
    "X_train, X_test, y_train, y_test = train_test_split(\n",
    "    X, y, test_size=0.2, random_state=42\n",
    ")\n",
    "X_train.shape, y_train.shape"
   ]
  },
  {
   "cell_type": "markdown",
   "id": "e509a66d",
   "metadata": {},
   "source": [
    "## Feed-forward neural network with torch"
   ]
  },
  {
   "cell_type": "markdown",
   "id": "1cfe9505",
   "metadata": {},
   "source": [
    "### Load the model"
   ]
  },
  {
   "cell_type": "code",
   "execution_count": 114,
   "id": "13c69d03",
   "metadata": {},
   "outputs": [],
   "source": [
    "model = MyFnnTorch(num_classes=3, word2vec=pretrained_wv, nb_epochs=3)"
   ]
  },
  {
   "cell_type": "markdown",
   "id": "ee6b6073",
   "metadata": {},
   "source": [
    "### Train the model"
   ]
  },
  {
   "cell_type": "code",
   "execution_count": 115,
   "id": "9ef79da1",
   "metadata": {},
   "outputs": [
    {
     "name": "stdout",
     "output_type": "stream",
     "text": [
      "Epoch [1/3], Loss: 0.0909\n",
      "Precision: 0.9199, Recall: 0.9215, F1 Score: 0.9206\n",
      "Epoch [2/3], Loss: 0.2136\n",
      "Precision: 0.9188, Recall: 0.9175, F1 Score: 0.9149\n",
      "Epoch [3/3], Loss: 0.2729\n",
      "Precision: 0.9302, Recall: 0.9296, F1 Score: 0.9298\n"
     ]
    }
   ],
   "source": [
    "model.fit(X_train, y_train, X_test, y_test)"
   ]
  },
  {
   "cell_type": "markdown",
   "id": "15cb2ef6",
   "metadata": {},
   "source": [
    "### Prediction"
   ]
  },
  {
   "cell_type": "code",
   "execution_count": 64,
   "id": "a974654d",
   "metadata": {},
   "outputs": [
    {
     "name": "stdout",
     "output_type": "stream",
     "text": [
      "Republicans and Democrats have both created our economic problems.\n"
     ]
    },
    {
     "data": {
      "text/plain": [
       "array(['Donald Trump'], dtype=object)"
      ]
     },
     "execution_count": 64,
     "metadata": {},
     "output_type": "execute_result"
    }
   ],
   "source": [
    "text = dfp[dfp[\"name\"] == \"Donald Trump\"].iloc[0][\"text\"]\n",
    "print(text)\n",
    "model.predict([text])"
   ]
  },
  {
   "cell_type": "markdown",
   "id": "92d68d02",
   "metadata": {},
   "source": [
    "## Evaluation"
   ]
  },
  {
   "cell_type": "markdown",
   "id": "11c38a89",
   "metadata": {},
   "source": [
    "### Table (precision, recall, f1-score)"
   ]
  },
  {
   "cell_type": "code",
   "execution_count": 105,
   "id": "669e204b",
   "metadata": {},
   "outputs": [
    {
     "name": "stdout",
     "output_type": "stream",
     "text": [
      "Classification Report:\n",
      "               precision    recall  f1-score   support\n",
      "\n",
      "Barack Obama       0.86      0.83      0.85      1362\n",
      "Donald Trump       0.95      0.98      0.96      9345\n",
      "   Joe Biden       0.84      0.65      0.74      1210\n",
      "\n",
      "    accuracy                           0.93     11917\n",
      "   macro avg       0.88      0.82      0.85     11917\n",
      "weighted avg       0.93      0.93      0.93     11917\n",
      "\n"
     ]
    }
   ],
   "source": [
    "y_pred = model.predict(X_test)\n",
    "print(\"Classification Report:\\n\", classification_report(y_test, y_pred))"
   ]
  },
  {
   "cell_type": "markdown",
   "id": "6ce4c1b4",
   "metadata": {},
   "source": [
    "### Confusion Matrix"
   ]
  },
  {
   "cell_type": "code",
   "execution_count": 33,
   "id": "35d127ca",
   "metadata": {},
   "outputs": [
    {
     "data": {
      "image/png": "[encoded data removed]",
      "text/plain": [
       "<Figure size 640x480 with 2 Axes>"
      ]
     },
     "metadata": {},
     "output_type": "display_data"
    }
   ],
   "source": [
    "cm = confusion_matrix(y_test, y_pred, labels=model.label_encoder.classes_)\n",
    "disp = ConfusionMatrixDisplay(confusion_matrix=cm, display_labels=model.label_encoder.classes_)\n",
    "disp.plot()\n",
    "plt.show()"
   ]
  },
  {
   "cell_type": "markdown",
   "id": "0fa35c73",
   "metadata": {},
   "source": [
    "## Explicability"
   ]
  },
  {
   "cell_type": "code",
   "execution_count": 106,
   "id": "5e406f1f",
   "metadata": {},
   "outputs": [],
   "source": [
    "dfp[\"pred\"] = model.predict(X)"
   ]
  },
  {
   "cell_type": "code",
   "execution_count": 113,
   "id": "8a1859f2",
   "metadata": {},
   "outputs": [
    {
     "name": "stdout",
     "output_type": "stream",
     "text": [
      "(35, 5)\n"
     ]
    },
    {
     "data": {
      "text/html": [
       "<div>\n",
       "<style scoped>\n",
       "    .dataframe tbody tr th:only-of-type {\n",
       "        vertical-align: middle;\n",
       "    }\n",
       "\n",
       "    .dataframe tbody tr th {\n",
       "        vertical-align: top;\n",
       "    }\n",
       "\n",
       "    .dataframe thead th {\n",
       "        text-align: right;\n",
       "    }\n",
       "</style>\n",
       "<table border=\"1\" class=\"dataframe\">\n",
       "  <thead>\n",
       "    <tr style=\"text-align: right;\">\n",
       "      <th></th>\n",
       "      <th>category</th>\n",
       "      <th>date</th>\n",
       "      <th>text</th>\n",
       "      <th>pred</th>\n",
       "    </tr>\n",
       "    <tr>\n",
       "      <th>name</th>\n",
       "      <th></th>\n",
       "      <th></th>\n",
       "      <th></th>\n",
       "      <th></th>\n",
       "    </tr>\n",
       "  </thead>\n",
       "  <tbody>\n",
       "    <tr>\n",
       "      <th>Barack Obama</th>\n",
       "      <td>2</td>\n",
       "      <td>2</td>\n",
       "      <td>2</td>\n",
       "      <td>2</td>\n",
       "    </tr>\n",
       "    <tr>\n",
       "      <th>Donald Trump</th>\n",
       "      <td>31</td>\n",
       "      <td>31</td>\n",
       "      <td>31</td>\n",
       "      <td>31</td>\n",
       "    </tr>\n",
       "    <tr>\n",
       "      <th>Joe Biden</th>\n",
       "      <td>2</td>\n",
       "      <td>2</td>\n",
       "      <td>2</td>\n",
       "      <td>2</td>\n",
       "    </tr>\n",
       "  </tbody>\n",
       "</table>\n",
       "</div>"
      ],
      "text/plain": [
       "              category  date  text  pred\n",
       "name                                    \n",
       "Barack Obama         2     2     2     2\n",
       "Donald Trump        31    31    31    31\n",
       "Joe Biden            2     2     2     2"
      ]
     },
     "execution_count": 113,
     "metadata": {},
     "output_type": "execute_result"
    }
   ],
   "source": [
    "dfp2 = dfp.copy()\n",
    "if False:\n",
    "    true_label = \"Barack Obama\"\n",
    "    pred_label = \"Donald Trump\"\n",
    "    dfp2 = dfp2[dfp2[\"name\"] == true_label]\n",
    "    dfp2 = dfp2[dfp2[\"pred\"] == pred_label]\n",
    "\n",
    "if True:\n",
    "    dfp2 = dfp2[dfp2[\"text\"].str.contains(\"congrats\")]\n",
    "\n",
    "print(dfp2.shape)\n",
    "sample = dfp2.iloc[0]\n",
    "text = sample[\"text\"]\n",
    "name = sample[\"name\"]\n",
    "text, name\n",
    "\n",
    "dfp2.shape"
   ]
  },
  {
   "cell_type": "code",
   "execution_count": 109,
   "id": "342251bf",
   "metadata": {},
   "outputs": [
    {
     "name": "stderr",
     "output_type": "stream",
     "text": [
      "/home/secouss/repos/nlp-usa-presidents/.venv/lib/python3.10/site-packages/sklearn/linear_model/_stochastic_gradient.py:173: FutureWarning: The loss 'log' was deprecated in v1.1 and will be removed in version 1.3. Use `loss='log_loss'` which is equivalent.\n",
      "  warnings.warn(\n",
      "/home/secouss/repos/nlp-usa-presidents/.venv/lib/python3.10/site-packages/sklearn/utils/deprecation.py:87: FutureWarning: Function get_feature_names is deprecated; get_feature_names is deprecated in 1.0 and will be removed in 1.2. Please use get_feature_names_out instead.\n",
      "  warnings.warn(msg, category=FutureWarning)\n"
     ]
    },
    {
     "data": {
      "text/html": [
       "\n",
       "    <style>\n",
       "    table.eli5-weights tr:hover {\n",
       "        filter: brightness(85%);\n",
       "    }\n",
       "</style>\n",
       "\n",
       "\n",
       "\n",
       "    \n",
       "\n",
       "    \n",
       "\n",
       "    \n",
       "\n",
       "    \n",
       "\n",
       "    \n",
       "\n",
       "    \n",
       "\n",
       "\n",
       "    \n",
       "\n",
       "    \n",
       "\n",
       "    \n",
       "\n",
       "    \n",
       "        \n",
       "\n",
       "    \n",
       "\n",
       "    \n",
       "        \n",
       "    \n",
       "        \n",
       "        \n",
       "    \n",
       "        <p style=\"margin-bottom: 0.5em; margin-top: 0em\">\n",
       "            <b>\n",
       "    \n",
       "        y=Barack Obama\n",
       "    \n",
       "</b>\n",
       "\n",
       "    \n",
       "    (probability <b>0.010</b>, score <b>-4.610</b>)\n",
       "\n",
       "top features\n",
       "        </p>\n",
       "    \n",
       "    <table class=\"eli5-weights\"\n",
       "           style=\"border-collapse: collapse; border: none; margin-top: 0em; table-layout: auto; margin-bottom: 2em;\">\n",
       "        <thead>\n",
       "        <tr style=\"border: none;\">\n",
       "            \n",
       "                <th style=\"padding: 0 1em 0 0.5em; text-align: right; border: none;\" title=\"Feature contribution already accounts for the feature value (for linear models, contribution = weight * feature value), and the sum of feature contributions is equal to the score or, for some classifiers, to the probability. Feature values are shown if &quot;show_feature_values&quot; is True.\">\n",
       "                    Contribution<sup>?</sup>\n",
       "                </th>\n",
       "            \n",
       "            <th style=\"padding: 0 0.5em 0 0.5em; text-align: left; border: none;\">Feature</th>\n",
       "            \n",
       "        </tr>\n",
       "        </thead>\n",
       "        <tbody>\n",
       "        \n",
       "        \n",
       "\n",
       "        \n",
       "        \n",
       "            <tr style=\"background-color: hsl(0, 100.00%, 94.68%); border: none;\">\n",
       "    <td style=\"padding: 0 1em 0 0.5em; text-align: right; border: none;\">\n",
       "        -0.808\n",
       "    </td>\n",
       "    <td style=\"padding: 0 0.5em 0 0.5em; text-align: left; border: none;\">\n",
       "        &lt;BIAS&gt;\n",
       "    </td>\n",
       "    \n",
       "</tr>\n",
       "        \n",
       "            <tr style=\"background-color: hsl(0, 100.00%, 84.27%); border: none;\">\n",
       "    <td style=\"padding: 0 1em 0 0.5em; text-align: right; border: none;\">\n",
       "        -3.803\n",
       "    </td>\n",
       "    <td style=\"padding: 0 0.5em 0 0.5em; text-align: left; border: none;\">\n",
       "        Highlighted in text (sum)\n",
       "    </td>\n",
       "    \n",
       "</tr>\n",
       "        \n",
       "\n",
       "        </tbody>\n",
       "    </table>\n",
       "\n",
       "    \n",
       "\n",
       "\n",
       "\n",
       "    <p style=\"margin-bottom: 2.5em; margin-top:-0.5em;\">\n",
       "        <span style=\"background-color: hsl(120, 100.00%, 93.57%); opacity: 0.81\" title=\"0.143\">from</span><span style=\"opacity: 0.80\"> </span><span style=\"background-color: hsl(120, 100.00%, 90.34%); opacity: 0.83\" title=\"0.256\">a</span><span style=\"opacity: 0.80\"> </span><span style=\"background-color: hsl(0, 100.00%, 89.24%); opacity: 0.83\" title=\"-0.299\">big</span><span style=\"opacity: 0.80\"> </span><span style=\"background-color: hsl(120, 100.00%, 96.87%); opacity: 0.81\" title=\"0.051\">nba</span><span style=\"opacity: 0.80\"> </span><span style=\"background-color: hsl(0, 100.00%, 87.93%); opacity: 0.84\" title=\"-0.352\">fan</span><span style=\"opacity: 0.80\"> </span><span style=\"background-color: hsl(0, 100.00%, 66.55%); opacity: 0.95\" title=\"-1.510\">congrats</span><span style=\"opacity: 0.80\"> </span><span style=\"background-color: hsl(120, 100.00%, 88.04%); opacity: 0.84\" title=\"0.347\">to</span><span style=\"opacity: 0.80\"> </span><span style=\"background-color: hsl(120, 100.00%, 76.64%); opacity: 0.89\" title=\"0.904\">future</span><span style=\"opacity: 0.80\"> </span><span style=\"background-color: hsl(120, 100.00%, 88.92%); opacity: 0.83\" title=\"0.312\">hall</span><span style=\"opacity: 0.80\"> </span><span style=\"background-color: hsl(120, 100.00%, 87.88%); opacity: 0.84\" title=\"0.354\">of</span><span style=\"opacity: 0.80\"> </span><span style=\"background-color: hsl(120, 100.00%, 89.49%); opacity: 0.83\" title=\"0.289\">famers</span><span style=\"opacity: 0.80\"> </span><span style=\"background-color: hsl(0, 100.00%, 99.75%); opacity: 0.80\" title=\"-0.001\">dwyane</span><span style=\"opacity: 0.80\"> </span><span style=\"background-color: hsl(0, 100.00%, 96.52%); opacity: 0.81\" title=\"-0.059\">wade</span><span style=\"opacity: 0.80\"> </span><span style=\"background-color: hsl(0, 100.00%, 85.41%); opacity: 0.85\" title=\"-0.462\">and</span><span style=\"opacity: 0.80\"> </span><span style=\"background-color: hsl(0, 100.00%, 95.15%); opacity: 0.81\" title=\"-0.096\">dirk</span><span style=\"opacity: 0.80\"> </span><span style=\"background-color: hsl(120, 100.00%, 92.74%); opacity: 0.82\" title=\"0.170\">nowitzki</span><span style=\"opacity: 0.80\">—</span><span style=\"background-color: hsl(120, 100.00%, 93.68%); opacity: 0.81\" title=\"0.140\">not</span><span style=\"opacity: 0.80\"> </span><span style=\"background-color: hsl(0, 100.00%, 98.96%); opacity: 0.80\" title=\"-0.011\">just</span><span style=\"opacity: 0.80\"> </span><span style=\"background-color: hsl(120, 100.00%, 72.58%); opacity: 0.92\" title=\"1.137\">all</span><span style=\"opacity: 0.80\">-</span><span style=\"background-color: hsl(120, 100.00%, 73.74%); opacity: 0.91\" title=\"1.069\">time</span><span style=\"opacity: 0.80\"> </span><span style=\"background-color: hsl(0, 100.00%, 89.53%); opacity: 0.83\" title=\"-0.287\">greats</span><span style=\"opacity: 0.80\"> </span><span style=\"background-color: hsl(120, 100.00%, 96.90%); opacity: 0.81\" title=\"0.051\">but</span><span style=\"opacity: 0.80\"> </span><span style=\"background-color: hsl(120, 100.00%, 67.98%); opacity: 0.95\" title=\"1.419\">class</span><span style=\"opacity: 0.80\"> </span><span style=\"background-color: hsl(120, 100.00%, 87.92%); opacity: 0.84\" title=\"0.352\">acts</span><span style=\"opacity: 0.80\"> </span><span style=\"background-color: hsl(0, 100.00%, 81.35%); opacity: 0.87\" title=\"-0.655\">too</span><span style=\"opacity: 0.80\">.</span>\n",
       "    </p>\n",
       "\n",
       "    \n",
       "        \n",
       "    \n",
       "        \n",
       "        \n",
       "    \n",
       "        <p style=\"margin-bottom: 0.5em; margin-top: 0em\">\n",
       "            <b>\n",
       "    \n",
       "        y=Donald Trump\n",
       "    \n",
       "</b>\n",
       "\n",
       "    \n",
       "    (probability <b>0.988</b>, score <b>4.196</b>)\n",
       "\n",
       "top features\n",
       "        </p>\n",
       "    \n",
       "    <table class=\"eli5-weights\"\n",
       "           style=\"border-collapse: collapse; border: none; margin-top: 0em; table-layout: auto; margin-bottom: 2em;\">\n",
       "        <thead>\n",
       "        <tr style=\"border: none;\">\n",
       "            \n",
       "                <th style=\"padding: 0 1em 0 0.5em; text-align: right; border: none;\" title=\"Feature contribution already accounts for the feature value (for linear models, contribution = weight * feature value), and the sum of feature contributions is equal to the score or, for some classifiers, to the probability. Feature values are shown if &quot;show_feature_values&quot; is True.\">\n",
       "                    Contribution<sup>?</sup>\n",
       "                </th>\n",
       "            \n",
       "            <th style=\"padding: 0 0.5em 0 0.5em; text-align: left; border: none;\">Feature</th>\n",
       "            \n",
       "        </tr>\n",
       "        </thead>\n",
       "        <tbody>\n",
       "        \n",
       "            <tr style=\"background-color: hsl(120, 100.00%, 85.21%); border: none;\">\n",
       "    <td style=\"padding: 0 1em 0 0.5em; text-align: right; border: none;\">\n",
       "        +3.483\n",
       "    </td>\n",
       "    <td style=\"padding: 0 0.5em 0 0.5em; text-align: left; border: none;\">\n",
       "        Highlighted in text (sum)\n",
       "    </td>\n",
       "    \n",
       "</tr>\n",
       "        \n",
       "            <tr style=\"background-color: hsl(120, 100.00%, 95.13%); border: none;\">\n",
       "    <td style=\"padding: 0 1em 0 0.5em; text-align: right; border: none;\">\n",
       "        +0.713\n",
       "    </td>\n",
       "    <td style=\"padding: 0 0.5em 0 0.5em; text-align: left; border: none;\">\n",
       "        &lt;BIAS&gt;\n",
       "    </td>\n",
       "    \n",
       "</tr>\n",
       "        \n",
       "        \n",
       "\n",
       "        \n",
       "        \n",
       "\n",
       "        </tbody>\n",
       "    </table>\n",
       "\n",
       "    \n",
       "\n",
       "\n",
       "\n",
       "    <p style=\"margin-bottom: 2.5em; margin-top:-0.5em;\">\n",
       "        <span style=\"background-color: hsl(0, 100.00%, 91.19%); opacity: 0.82\" title=\"-0.225\">from</span><span style=\"opacity: 0.80\"> </span><span style=\"background-color: hsl(0, 100.00%, 95.75%); opacity: 0.81\" title=\"-0.079\">a</span><span style=\"opacity: 0.80\"> </span><span style=\"background-color: hsl(120, 100.00%, 74.90%); opacity: 0.90\" title=\"1.002\">big</span><span style=\"opacity: 0.80\"> </span><span style=\"background-color: hsl(0, 100.00%, 96.03%); opacity: 0.81\" title=\"-0.072\">nba</span><span style=\"opacity: 0.80\"> </span><span style=\"background-color: hsl(120, 100.00%, 71.85%); opacity: 0.92\" title=\"1.180\">fan</span><span style=\"opacity: 0.80\"> </span><span style=\"background-color: hsl(120, 100.00%, 68.65%); opacity: 0.94\" title=\"1.376\">congrats</span><span style=\"opacity: 0.80\"> </span><span style=\"background-color: hsl(0, 100.00%, 82.67%); opacity: 0.86\" title=\"-0.590\">to</span><span style=\"opacity: 0.80\"> </span><span style=\"background-color: hsl(0, 100.00%, 77.91%); opacity: 0.89\" title=\"-0.835\">future</span><span style=\"opacity: 0.80\"> </span><span style=\"background-color: hsl(0, 100.00%, 93.04%); opacity: 0.82\" title=\"-0.160\">hall</span><span style=\"opacity: 0.80\"> </span><span style=\"background-color: hsl(0, 100.00%, 82.50%); opacity: 0.86\" title=\"-0.598\">of</span><span style=\"opacity: 0.80\"> </span><span style=\"background-color: hsl(0, 100.00%, 87.56%); opacity: 0.84\" title=\"-0.368\">famers</span><span style=\"opacity: 0.80\"> </span><span style=\"background-color: hsl(0, 100.00%, 94.16%); opacity: 0.81\" title=\"-0.125\">dwyane</span><span style=\"opacity: 0.80\"> </span><span style=\"background-color: hsl(0, 100.00%, 98.36%); opacity: 0.80\" title=\"-0.020\">wade</span><span style=\"opacity: 0.80\"> </span><span style=\"background-color: hsl(0, 100.00%, 96.78%); opacity: 0.81\" title=\"-0.053\">and</span><span style=\"opacity: 0.80\"> </span><span style=\"background-color: hsl(120, 100.00%, 99.39%); opacity: 0.80\" title=\"0.005\">dirk</span><span style=\"opacity: 0.80\"> </span><span style=\"background-color: hsl(120, 100.00%, 97.74%); opacity: 0.80\" title=\"0.032\">nowitzki</span><span style=\"opacity: 0.80\">—</span><span style=\"background-color: hsl(120, 100.00%, 98.10%); opacity: 0.80\" title=\"0.025\">not</span><span style=\"opacity: 0.80\"> </span><span style=\"background-color: hsl(120, 100.00%, 95.41%); opacity: 0.81\" title=\"0.088\">just</span><span style=\"opacity: 0.80\"> </span><span style=\"background-color: hsl(0, 100.00%, 92.22%); opacity: 0.82\" title=\"-0.188\">all</span><span style=\"opacity: 0.80\">-</span><span style=\"background-color: hsl(0, 100.00%, 92.14%); opacity: 0.82\" title=\"-0.191\">time</span><span style=\"opacity: 0.80\"> </span><span style=\"background-color: hsl(120, 100.00%, 78.97%); opacity: 0.88\" title=\"0.778\">greats</span><span style=\"opacity: 0.80\"> </span><span style=\"background-color: hsl(0, 100.00%, 95.53%); opacity: 0.81\" title=\"-0.085\">but</span><span style=\"opacity: 0.80\"> </span><span style=\"background-color: hsl(0, 100.00%, 60.00%); opacity: 1.00\" title=\"-1.950\">class</span><span style=\"opacity: 0.80\"> </span><span style=\"background-color: hsl(0, 100.00%, 79.82%); opacity: 0.88\" title=\"-0.734\">acts</span><span style=\"opacity: 0.80\"> </span><span style=\"background-color: hsl(120, 100.00%, 74.10%); opacity: 0.91\" title=\"1.048\">too</span><span style=\"opacity: 0.80\">.</span>\n",
       "    </p>\n",
       "\n",
       "    \n",
       "        \n",
       "    \n",
       "        \n",
       "        \n",
       "    \n",
       "        <p style=\"margin-bottom: 0.5em; margin-top: 0em\">\n",
       "            <b>\n",
       "    \n",
       "        y=Joe Biden\n",
       "    \n",
       "</b>\n",
       "\n",
       "    \n",
       "    (probability <b>0.002</b>, score <b>-5.998</b>)\n",
       "\n",
       "top features\n",
       "        </p>\n",
       "    \n",
       "    <table class=\"eli5-weights\"\n",
       "           style=\"border-collapse: collapse; border: none; margin-top: 0em; table-layout: auto; margin-bottom: 2em;\">\n",
       "        <thead>\n",
       "        <tr style=\"border: none;\">\n",
       "            \n",
       "                <th style=\"padding: 0 1em 0 0.5em; text-align: right; border: none;\" title=\"Feature contribution already accounts for the feature value (for linear models, contribution = weight * feature value), and the sum of feature contributions is equal to the score or, for some classifiers, to the probability. Feature values are shown if &quot;show_feature_values&quot; is True.\">\n",
       "                    Contribution<sup>?</sup>\n",
       "                </th>\n",
       "            \n",
       "            <th style=\"padding: 0 0.5em 0 0.5em; text-align: left; border: none;\">Feature</th>\n",
       "            \n",
       "        </tr>\n",
       "        </thead>\n",
       "        <tbody>\n",
       "        \n",
       "        \n",
       "\n",
       "        \n",
       "        \n",
       "            <tr style=\"background-color: hsl(0, 100.00%, 95.50%); border: none;\">\n",
       "    <td style=\"padding: 0 1em 0 0.5em; text-align: right; border: none;\">\n",
       "        -0.637\n",
       "    </td>\n",
       "    <td style=\"padding: 0 0.5em 0 0.5em; text-align: left; border: none;\">\n",
       "        &lt;BIAS&gt;\n",
       "    </td>\n",
       "    \n",
       "</tr>\n",
       "        \n",
       "            <tr style=\"background-color: hsl(0, 100.00%, 80.00%); border: none;\">\n",
       "    <td style=\"padding: 0 1em 0 0.5em; text-align: right; border: none;\">\n",
       "        -5.361\n",
       "    </td>\n",
       "    <td style=\"padding: 0 0.5em 0 0.5em; text-align: left; border: none;\">\n",
       "        Highlighted in text (sum)\n",
       "    </td>\n",
       "    \n",
       "</tr>\n",
       "        \n",
       "\n",
       "        </tbody>\n",
       "    </table>\n",
       "\n",
       "    \n",
       "\n",
       "\n",
       "\n",
       "    <p style=\"margin-bottom: 2.5em; margin-top:-0.5em;\">\n",
       "        <span style=\"background-color: hsl(120, 100.00%, 92.04%); opacity: 0.82\" title=\"0.194\">from</span><span style=\"opacity: 0.80\"> </span><span style=\"background-color: hsl(0, 100.00%, 96.15%); opacity: 0.81\" title=\"-0.069\">a</span><span style=\"opacity: 0.80\"> </span><span style=\"background-color: hsl(0, 100.00%, 70.58%); opacity: 0.93\" title=\"-1.257\">big</span><span style=\"opacity: 0.80\"> </span><span style=\"background-color: hsl(0, 100.00%, 94.48%); opacity: 0.81\" title=\"-0.115\">nba</span><span style=\"opacity: 0.80\"> </span><span style=\"background-color: hsl(0, 100.00%, 65.66%); opacity: 0.96\" title=\"-1.568\">fan</span><span style=\"opacity: 0.80\"> </span><span style=\"background-color: hsl(0, 100.00%, 74.38%); opacity: 0.91\" title=\"-1.031\">congrats</span><span style=\"opacity: 0.80\"> </span><span style=\"background-color: hsl(120, 100.00%, 85.69%); opacity: 0.85\" title=\"0.449\">to</span><span style=\"opacity: 0.80\"> </span><span style=\"background-color: hsl(120, 100.00%, 83.82%); opacity: 0.85\" title=\"0.535\">future</span><span style=\"opacity: 0.80\"> </span><span style=\"background-color: hsl(0, 100.00%, 98.47%); opacity: 0.80\" title=\"-0.018\">hall</span><span style=\"opacity: 0.80\"> </span><span style=\"background-color: hsl(120, 100.00%, 81.05%); opacity: 0.87\" title=\"0.670\">of</span><span style=\"opacity: 0.80\"> </span><span style=\"background-color: hsl(120, 100.00%, 88.85%); opacity: 0.83\" title=\"0.315\">famers</span><span style=\"opacity: 0.80\"> </span><span style=\"background-color: hsl(120, 100.00%, 92.62%); opacity: 0.82\" title=\"0.174\">dwyane</span><span style=\"opacity: 0.80\"> </span><span style=\"background-color: hsl(120, 100.00%, 93.82%); opacity: 0.81\" title=\"0.135\">wade</span><span style=\"opacity: 0.80\"> </span><span style=\"background-color: hsl(120, 100.00%, 85.98%); opacity: 0.84\" title=\"0.436\">and</span><span style=\"opacity: 0.80\"> </span><span style=\"background-color: hsl(120, 100.00%, 97.28%); opacity: 0.80\" title=\"0.042\">dirk</span><span style=\"opacity: 0.80\"> </span><span style=\"background-color: hsl(0, 100.00%, 90.70%); opacity: 0.82\" title=\"-0.243\">nowitzki</span><span style=\"opacity: 0.80\">—</span><span style=\"background-color: hsl(0, 100.00%, 92.40%); opacity: 0.82\" title=\"-0.182\">not</span><span style=\"opacity: 0.80\"> </span><span style=\"background-color: hsl(0, 100.00%, 97.27%); opacity: 0.80\" title=\"-0.042\">just</span><span style=\"opacity: 0.80\"> </span><span style=\"background-color: hsl(0, 100.00%, 85.90%); opacity: 0.85\" title=\"-0.439\">all</span><span style=\"opacity: 0.80\">-</span><span style=\"background-color: hsl(0, 100.00%, 84.10%); opacity: 0.85\" title=\"-0.522\">time</span><span style=\"opacity: 0.80\"> </span><span style=\"background-color: hsl(0, 100.00%, 74.09%); opacity: 0.91\" title=\"-1.048\">greats</span><span style=\"opacity: 0.80\"> </span><span style=\"background-color: hsl(120, 100.00%, 93.54%); opacity: 0.81\" title=\"0.144\">but</span><span style=\"opacity: 0.80\"> </span><span style=\"background-color: hsl(120, 100.00%, 62.41%); opacity: 0.98\" title=\"1.784\">class</span><span style=\"opacity: 0.80\"> </span><span style=\"background-color: hsl(120, 100.00%, 77.96%); opacity: 0.89\" title=\"0.832\">acts</span><span style=\"opacity: 0.80\"> </span><span style=\"background-color: hsl(0, 100.00%, 72.66%); opacity: 0.92\" title=\"-1.132\">too</span><span style=\"opacity: 0.80\">.</span>\n",
       "    </p>\n",
       "\n",
       "    \n",
       "\n",
       "\n",
       "    \n",
       "\n",
       "    \n",
       "\n",
       "    \n",
       "\n",
       "\n",
       "    \n",
       "\n",
       "    \n",
       "\n",
       "    \n",
       "\n",
       "    \n",
       "\n",
       "    \n",
       "\n",
       "    \n",
       "\n",
       "\n",
       "    \n",
       "\n",
       "    \n",
       "\n",
       "    \n",
       "\n",
       "    \n",
       "\n",
       "    \n",
       "\n",
       "    \n",
       "\n",
       "\n",
       "\n"
      ],
      "text/plain": [
       "<IPython.core.display.HTML object>"
      ]
     },
     "execution_count": 109,
     "metadata": {},
     "output_type": "execute_result"
    }
   ],
   "source": [
    "te = TextExplainer(random_state=42, n_samples=5000)\n",
    "te.fit(text, lambda X : model.predict_proba(X).detach().numpy())\n",
    "te.show_prediction(target_names=model.label_encoder.classes_.tolist())"
   ]
  },
  {
   "cell_type": "code",
   "execution_count": 104,
   "id": "5cf9a187",
   "metadata": {},
   "outputs": [
    {
     "data": {
      "text/plain": [
       "{'mean_KL_divergence': 0.03386734930533107, 'score': 1.0}"
      ]
     },
     "execution_count": 104,
     "metadata": {},
     "output_type": "execute_result"
    }
   ],
   "source": [
    "te.metrics_"
   ]
  },
  {
   "cell_type": "code",
   "execution_count": null,
   "id": "064e9935",
   "metadata": {},
   "outputs": [],
   "source": [
    "# des samples ou finalement il n'y a rien pour bien prédire, c'est le bias qui prend le dessus \n",
    "# congrats --> Donald Trump\n"
   ]
  }
 ],
 "metadata": {
  "kernelspec": {
   "display_name": "Python 3 (ipykernel)",
   "language": "python",
   "name": "python3"
  },
  "language_info": {
   "codemirror_mode": {
    "name": "ipython",
    "version": 3
   },
   "file_extension": ".py",
   "mimetype": "text/x-python",
   "name": "python",
   "nbconvert_exporter": "python",
   "pygments_lexer": "ipython3",
   "version": "3.10.14"
  }
 },
 "nbformat": 4,
 "nbformat_minor": 5
}
