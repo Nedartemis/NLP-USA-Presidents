{
 "cells": [
  {
   "cell_type": "markdown",
   "id": "eae851b7-8b70-4a35-80fb-b7c548032b80",
   "metadata": {},
   "source": [
    "# PyTorch implementation of feed-forward neural networks"
   ]
  },
  {
   "cell_type": "markdown",
   "id": "75105c54-aac1-4011-9a59-00ab4cc31798",
   "metadata": {},
   "source": [
    "## Import librairies"
   ]
  },
  {
   "cell_type": "code",
   "execution_count": 1,
   "id": "a685ce16-8bbd-4493-a961-e4004f2526e3",
   "metadata": {},
   "outputs": [
    {
     "name": "stderr",
     "output_type": "stream",
     "text": [
      "2024-05-19 09:50:24.458558: I tensorflow/core/util/port.cc:113] oneDNN custom operations are on. You may see slightly different numerical results due to floating-point round-off errors from different computation orders. To turn them off, set the environment variable `TF_ENABLE_ONEDNN_OPTS=0`.\n",
      "2024-05-19 09:50:24.495061: I tensorflow/core/platform/cpu_feature_guard.cc:210] This TensorFlow binary is optimized to use available CPU instructions in performance-critical operations.\n",
      "To enable the following instructions: AVX2 AVX512F AVX512_VNNI FMA, in other operations, rebuild TensorFlow with the appropriate compiler flags.\n",
      "2024-05-19 09:50:25.109198: W tensorflow/compiler/tf2tensorrt/utils/py_utils.cc:38] TF-TRT Warning: Could not find TensorRT\n"
     ]
    }
   ],
   "source": [
    "from importlib import reload\n",
    "\n",
    "import path_imports\n",
    "\n",
    "import notebooks.save_manager\n",
    "import src.classification.my_fnn_torch\n",
    "import src.classification.my_naive_bayes\n",
    "import src.word2vec.word2vec\n",
    "\n",
    "reload(src.classification.my_fnn_torch)\n",
    "reload(src.classification.my_naive_bayes)\n",
    "reload(notebooks.save_manager)\n",
    "reload(src.word2vec.word2vec)\n",
    "\n",
    "from typing import Any, Callable, Dict, List, Tuple\n",
    "\n",
    "import gensim.downloader\n",
    "import matplotlib.pyplot as plt\n",
    "import pandas as pd\n",
    "from eli5.lime import TextExplainer\n",
    "from gensim.models import KeyedVectors, Word2Vec\n",
    "from gensim.models.keyedvectors import KeyedVectors\n",
    "from sklearn.linear_model import LogisticRegression\n",
    "from sklearn.metrics import (\n",
    "    ConfusionMatrixDisplay,\n",
    "    classification_report,\n",
    "    confusion_matrix,\n",
    ")\n",
    "from sklearn.model_selection import train_test_split\n",
    "from sklearn.utils.class_weight import compute_sample_weight\n",
    "from tqdm import tqdm\n",
    "\n",
    "from notebooks.save_manager import SaveManager\n",
    "from src.classification.my_fnn_torch import MyFnnTorch\n",
    "from src.classification.my_logistic_regression import MyLogisticRegression\n",
    "from src.classification.my_naive_bayes import (\n",
    "    CountVectorizer,\n",
    "    MultinomialNB,\n",
    "    MyNaiveBayes,\n",
    "    en_stop,\n",
    ")\n",
    "from src.preprocessing.utils import convertURL\n",
    "from src.read_corpus import read_corpus\n",
    "from src.word2vec.word2vec import create_model_word2vec"
   ]
  },
  {
   "cell_type": "markdown",
   "id": "b1457775",
   "metadata": {},
   "source": [
    "## Load and filter dataset"
   ]
  },
  {
   "cell_type": "code",
   "execution_count": 7,
   "id": "f77158c0",
   "metadata": {},
   "outputs": [
    {
     "name": "stderr",
     "output_type": "stream",
     "text": [
      "100%|██████████| 29/29 [00:03<00:00,  8.68it/s]\n"
     ]
    },
    {
     "data": {
      "text/html": [
       "<div>\n",
       "<style scoped>\n",
       "    .dataframe tbody tr th:only-of-type {\n",
       "        vertical-align: middle;\n",
       "    }\n",
       "\n",
       "    .dataframe tbody tr th {\n",
       "        vertical-align: top;\n",
       "    }\n",
       "\n",
       "    .dataframe thead th {\n",
       "        text-align: right;\n",
       "    }\n",
       "</style>\n",
       "<table border=\"1\" class=\"dataframe\">\n",
       "  <thead>\n",
       "    <tr style=\"text-align: right;\">\n",
       "      <th></th>\n",
       "      <th>category</th>\n",
       "      <th>name</th>\n",
       "      <th>date</th>\n",
       "      <th>text</th>\n",
       "    </tr>\n",
       "  </thead>\n",
       "  <tbody>\n",
       "    <tr>\n",
       "      <th>0</th>\n",
       "      <td>tweet</td>\n",
       "      <td>Donald Trump</td>\n",
       "      <td>2011-08-02 18:07:48</td>\n",
       "      <td>Republicans and Democrats have both created ou...</td>\n",
       "    </tr>\n",
       "    <tr>\n",
       "      <th>1</th>\n",
       "      <td>tweet</td>\n",
       "      <td>Donald Trump</td>\n",
       "      <td>2020-03-03 01:34:50</td>\n",
       "      <td>I was thrilled to be back in the Great city of...</td>\n",
       "    </tr>\n",
       "    <tr>\n",
       "      <th>2</th>\n",
       "      <td>tweet</td>\n",
       "      <td>Donald Trump</td>\n",
       "      <td>2020-09-12 20:10:58</td>\n",
       "      <td>The Unsolicited Mail In Ballot Scam is a major...</td>\n",
       "    </tr>\n",
       "    <tr>\n",
       "      <th>3</th>\n",
       "      <td>tweet</td>\n",
       "      <td>Donald Trump</td>\n",
       "      <td>2020-02-01 16:14:02</td>\n",
       "      <td>Getting a little exercise this morning! https:...</td>\n",
       "    </tr>\n",
       "    <tr>\n",
       "      <th>4</th>\n",
       "      <td>tweet</td>\n",
       "      <td>Donald Trump</td>\n",
       "      <td>2020-10-23 04:52:14</td>\n",
       "      <td>https://t.co/4qwCKQOiOw</td>\n",
       "    </tr>\n",
       "    <tr>\n",
       "      <th>...</th>\n",
       "      <td>...</td>\n",
       "      <td>...</td>\n",
       "      <td>...</td>\n",
       "      <td>...</td>\n",
       "    </tr>\n",
       "    <tr>\n",
       "      <th>6032</th>\n",
       "      <td>tweet</td>\n",
       "      <td>Joe Biden</td>\n",
       "      <td>2020-11-01 11:40</td>\n",
       "      <td>As president, I’ll build an economy that rewar...</td>\n",
       "    </tr>\n",
       "    <tr>\n",
       "      <th>6033</th>\n",
       "      <td>tweet</td>\n",
       "      <td>Joe Biden</td>\n",
       "      <td>2020-11-01 12:01</td>\n",
       "      <td>Let’s put dogs back in the White House. https:...</td>\n",
       "    </tr>\n",
       "    <tr>\n",
       "      <th>6034</th>\n",
       "      <td>tweet</td>\n",
       "      <td>Joe Biden</td>\n",
       "      <td>2020-11-01 12:20</td>\n",
       "      <td>We have in our hands the ultimate power: the p...</td>\n",
       "    </tr>\n",
       "    <tr>\n",
       "      <th>6035</th>\n",
       "      <td>tweet</td>\n",
       "      <td>Joe Biden</td>\n",
       "      <td>2020-11-01 12:40</td>\n",
       "      <td>We need to:\\n\\nBuild bridges, not walls.\\nOpen...</td>\n",
       "    </tr>\n",
       "    <tr>\n",
       "      <th>6036</th>\n",
       "      <td>tweet</td>\n",
       "      <td>Joe Biden</td>\n",
       "      <td>2020-11-01 13:01</td>\n",
       "      <td>Jodie –– you have my word: I will always stand...</td>\n",
       "    </tr>\n",
       "  </tbody>\n",
       "</table>\n",
       "<p>59582 rows × 4 columns</p>\n",
       "</div>"
      ],
      "text/plain": [
       "     category          name                 date  \\\n",
       "0       tweet  Donald Trump  2011-08-02 18:07:48   \n",
       "1       tweet  Donald Trump  2020-03-03 01:34:50   \n",
       "2       tweet  Donald Trump  2020-09-12 20:10:58   \n",
       "3       tweet  Donald Trump  2020-02-01 16:14:02   \n",
       "4       tweet  Donald Trump  2020-10-23 04:52:14   \n",
       "...       ...           ...                  ...   \n",
       "6032    tweet     Joe Biden     2020-11-01 11:40   \n",
       "6033    tweet     Joe Biden     2020-11-01 12:01   \n",
       "6034    tweet     Joe Biden     2020-11-01 12:20   \n",
       "6035    tweet     Joe Biden     2020-11-01 12:40   \n",
       "6036    tweet     Joe Biden     2020-11-01 13:01   \n",
       "\n",
       "                                                   text  \n",
       "0     Republicans and Democrats have both created ou...  \n",
       "1     I was thrilled to be back in the Great city of...  \n",
       "2     The Unsolicited Mail In Ballot Scam is a major...  \n",
       "3     Getting a little exercise this morning! https:...  \n",
       "4                               https://t.co/4qwCKQOiOw  \n",
       "...                                                 ...  \n",
       "6032  As president, I’ll build an economy that rewar...  \n",
       "6033  Let’s put dogs back in the White House. https:...  \n",
       "6034  We have in our hands the ultimate power: the p...  \n",
       "6035  We need to:\\n\\nBuild bridges, not walls.\\nOpen...  \n",
       "6036  Jodie –– you have my word: I will always stand...  \n",
       "\n",
       "[59582 rows x 4 columns]"
      ]
     },
     "execution_count": 7,
     "metadata": {},
     "output_type": "execute_result"
    }
   ],
   "source": [
    "categories = [\"tweet\"]\n",
    "presidents = ['Donald Trump', 'Barack Obama', 'Joe Biden']\n",
    "df = read_corpus(categories=categories, presidents=presidents)\n",
    "df"
   ]
  },
  {
   "cell_type": "code",
   "execution_count": 8,
   "id": "e74f0026",
   "metadata": {},
   "outputs": [
    {
     "data": {
      "text/plain": [
       "array(['Donald Trump', 'Barack Obama', 'Joe Biden'], dtype=object)"
      ]
     },
     "execution_count": 8,
     "metadata": {},
     "output_type": "execute_result"
    }
   ],
   "source": [
    "df[\"name\"].unique()"
   ]
  },
  {
   "cell_type": "code",
   "execution_count": 9,
   "id": "5d21a245",
   "metadata": {},
   "outputs": [],
   "source": [
    "timer_manager = SaveManager(categories=categories, presidents=presidents)"
   ]
  },
  {
   "cell_type": "markdown",
   "id": "5d63dbb0",
   "metadata": {},
   "source": [
    "## Pre-process"
   ]
  },
  {
   "cell_type": "code",
   "execution_count": 10,
   "id": "71831f36",
   "metadata": {},
   "outputs": [
    {
     "name": "stdout",
     "output_type": "stream",
     "text": [
      "I was thrilled to be back in the Great city of Charlotte, North Carolina with thousands of hardworking American Patriots who love our Country, cherish our values, respect our laws, and always put AMERICA FIRST! Thank you for a wonderful evening!! #KAG2020 https://t.co/dNJZfRsl9y\n",
      "I was thrilled to be back in the Great city of Charlotte, North Carolina with thousands of hardworking American Patriots who love our Country, cherish our values, respect our laws, and always put AMERICA FIRST! Thank you for a wonderful evening!! #KAG2020 TOKURL\n"
     ]
    },
    {
     "data": {
      "text/plain": [
       "(59582, 4)"
      ]
     },
     "execution_count": 10,
     "metadata": {},
     "output_type": "execute_result"
    }
   ],
   "source": [
    "convert_url = True\n",
    "def preprocess(df : pd.DataFrame, convert_url : bool) -> pd.DataFrame:\n",
    "\n",
    "    count = df.groupby(by=\"name\").count()\n",
    "    df = df[df[\"name\"].isin(count[count[\"text\"] > 15].index.to_list())]\n",
    "\n",
    "    if convert_url:\n",
    "        df[\"text\"] = df[\"text\"].apply(convertURL)\n",
    "    return df\n",
    "\n",
    "df2 = df[df[\"text\"].str.contains(\"http\")]\n",
    "if df2.shape[0]:\n",
    "    text = df2.iloc[0][\"text\"]\n",
    "    print(text)\n",
    "    print(convertURL(text))\n",
    "\n",
    "df = preprocess(df, convert_url=convert_url)\n",
    "df.shape"
   ]
  },
  {
   "cell_type": "markdown",
   "id": "bba0bde8",
   "metadata": {},
   "source": [
    "## Commun Hyperparamters"
   ]
  },
  {
   "cell_type": "markdown",
   "id": "f306033c",
   "metadata": {},
   "source": [
    "### Tokenizer"
   ]
  },
  {
   "cell_type": "code",
   "execution_count": 11,
   "id": "62d93558",
   "metadata": {},
   "outputs": [
    {
     "name": "stderr",
     "output_type": "stream",
     "text": [
      "[nltk_data] Downloading package wordnet to /home/secouss/nltk_data...\n",
      "[nltk_data]   Package wordnet is already up-to-date!\n"
     ]
    }
   ],
   "source": [
    "from src.preprocessing.regexp_tokenizer import RegexpTokenizer\n",
    "from src.preprocessing.byte_pair.hugging_face import MyBpeTokenizerHuggingFace\n",
    "from src.preprocessing.byte_pair.byte_pair_class import MyBpeTokenizerBytePair\n",
    "from src.preprocessing.gpt_tokenizer import MyGPTTokenizer\n",
    "import os"
   ]
  },
  {
   "cell_type": "code",
   "execution_count": 12,
   "id": "0c4271e6",
   "metadata": {},
   "outputs": [],
   "source": [
    "TYPE_TOKENIZER = Callable[[str], List[str]]"
   ]
  },
  {
   "cell_type": "markdown",
   "id": "b8a1613a",
   "metadata": {},
   "source": [
    "#### BytePair encoding"
   ]
  },
  {
   "cell_type": "code",
   "execution_count": 13,
   "id": "0087c5cc",
   "metadata": {},
   "outputs": [],
   "source": [
    "# Store all the words in a file\n",
    "DIR_TMP = \"./tmp\"\n",
    "os.makedirs(DIR_TMP, exist_ok=True)\n",
    "PATH_FILE_ALL_WORDS = os.path.join(DIR_TMP, \"all_words.txt\")\n",
    "all_words = df[\"text\"].str.cat(sep=\" \")\n",
    "with open(PATH_FILE_ALL_WORDS, mode=\"w\") as writer:\n",
    "    writer.write(all_words)\n",
    "files_corpus = [PATH_FILE_ALL_WORDS]"
   ]
  },
  {
   "cell_type": "code",
   "execution_count": 14,
   "id": "5ee732ec",
   "metadata": {},
   "outputs": [
    {
     "name": "stdout",
     "output_type": "stream",
     "text": [
      "\n",
      "\n",
      "\n",
      "['ĠI', 'Ġd', 'on', \"'\", 't', 'Ġl', 'o', 've', 'Ġyou']\n"
     ]
    }
   ],
   "source": [
    "# Create the tokenizer\n",
    "with timer_manager.timer(\"Create MyBpeTokenizerHuggingFace\"):\n",
    "    bpe_tokenizer_hugging_face = MyBpeTokenizerHuggingFace.create_tokenizer(files_corpus)\n",
    "print(bpe_tokenizer_hugging_face.tokenize(\"I don't love you\"))"
   ]
  },
  {
   "cell_type": "code",
   "execution_count": 17,
   "id": "1f7a4f04",
   "metadata": {},
   "outputs": [
    {
     "name": "stderr",
     "output_type": "stream",
     "text": [
      "create corpus: 100%|██████████| 52916/52916 [00:00<00:00, 141960.90it/s]\n",
      "Byte_pair: 100%|██████████| 600/600 [01:23<00:00,  7.15it/s]\n",
      "write into file: 100%|██████████| 1031/1031 [00:00<00:00, 2160003.71it/s]\n"
     ]
    },
    {
     "data": {
      "text/plain": [
       "['I', ' ', 'don', ' ', \"'\", ' ', 't', ' ', 'lo', 've', ' ', 'y', 'ou']"
      ]
     },
     "execution_count": 17,
     "metadata": {},
     "output_type": "execute_result"
    }
   ],
   "source": [
    "# ~two minutes to compute\n",
    "with timer_manager.timer(\"Create MyBpeTokenizerBytePair\"):\n",
    "    bpe_tokenizer_home_made = MyBpeTokenizerBytePair.create_tokenizer(files_corpus)\n",
    "bpe_tokenizer_home_made.tokenize(\"I don't love you\")"
   ]
  },
  {
   "cell_type": "markdown",
   "id": "8c2433ef",
   "metadata": {},
   "source": [
    "#### Regexp Tokenizer"
   ]
  },
  {
   "cell_type": "code",
   "execution_count": 18,
   "id": "1ef1e2d6",
   "metadata": {},
   "outputs": [],
   "source": [
    "regexp_tokenizer = RegexpTokenizer()"
   ]
  },
  {
   "cell_type": "markdown",
   "id": "2d36e321",
   "metadata": {},
   "source": [
    "#### All tokenizer"
   ]
  },
  {
   "cell_type": "code",
   "execution_count": 19,
   "id": "b5f0c4fc",
   "metadata": {},
   "outputs": [
    {
     "data": {
      "text/html": [
       "<div>\n",
       "<style scoped>\n",
       "    .dataframe tbody tr th:only-of-type {\n",
       "        vertical-align: middle;\n",
       "    }\n",
       "\n",
       "    .dataframe tbody tr th {\n",
       "        vertical-align: top;\n",
       "    }\n",
       "\n",
       "    .dataframe thead th {\n",
       "        text-align: right;\n",
       "    }\n",
       "</style>\n",
       "<table border=\"1\" class=\"dataframe\">\n",
       "  <thead>\n",
       "    <tr style=\"text-align: right;\">\n",
       "      <th></th>\n",
       "      <th>name</th>\n",
       "      <th>model</th>\n",
       "    </tr>\n",
       "  </thead>\n",
       "  <tbody>\n",
       "    <tr>\n",
       "      <th>0</th>\n",
       "      <td>bpe_hugging_face</td>\n",
       "      <td>&lt;bound method MyBpeTokenizerHuggingFace.tokeni...</td>\n",
       "    </tr>\n",
       "    <tr>\n",
       "      <th>1</th>\n",
       "      <td>bpe_home_made</td>\n",
       "      <td>&lt;bound method MyBpeTokenizerBytePair.tokenize ...</td>\n",
       "    </tr>\n",
       "    <tr>\n",
       "      <th>2</th>\n",
       "      <td>lemma</td>\n",
       "      <td>&lt;bound method RegexpTokenizer.lemma_tokenize o...</td>\n",
       "    </tr>\n",
       "    <tr>\n",
       "      <th>3</th>\n",
       "      <td>sent</td>\n",
       "      <td>&lt;bound method RegexpTokenizer.sent_tokenizer o...</td>\n",
       "    </tr>\n",
       "    <tr>\n",
       "      <th>4</th>\n",
       "      <td>tweet</td>\n",
       "      <td>&lt;bound method RegexpTokenizer.tweet_tokenizer ...</td>\n",
       "    </tr>\n",
       "    <tr>\n",
       "      <th>5</th>\n",
       "      <td>whitespaces</td>\n",
       "      <td>&lt;bound method RegexpTokenizer.whitespaces_toke...</td>\n",
       "    </tr>\n",
       "    <tr>\n",
       "      <th>6</th>\n",
       "      <td>nlpReg</td>\n",
       "      <td>&lt;bound method RegexpTokenizer.nlpReg_tokenizer...</td>\n",
       "    </tr>\n",
       "    <tr>\n",
       "      <th>7</th>\n",
       "      <td>gpt</td>\n",
       "      <td>&lt;bound method MyGPTTokenizer.tokenize of &lt;src....</td>\n",
       "    </tr>\n",
       "  </tbody>\n",
       "</table>\n",
       "</div>"
      ],
      "text/plain": [
       "               name                                              model\n",
       "0  bpe_hugging_face  <bound method MyBpeTokenizerHuggingFace.tokeni...\n",
       "1     bpe_home_made  <bound method MyBpeTokenizerBytePair.tokenize ...\n",
       "2             lemma  <bound method RegexpTokenizer.lemma_tokenize o...\n",
       "3              sent  <bound method RegexpTokenizer.sent_tokenizer o...\n",
       "4             tweet  <bound method RegexpTokenizer.tweet_tokenizer ...\n",
       "5       whitespaces  <bound method RegexpTokenizer.whitespaces_toke...\n",
       "6            nlpReg  <bound method RegexpTokenizer.nlpReg_tokenizer...\n",
       "7               gpt  <bound method MyGPTTokenizer.tokenize of <src...."
      ]
     },
     "execution_count": 19,
     "metadata": {},
     "output_type": "execute_result"
    }
   ],
   "source": [
    "tokenizers = pd.DataFrame([\n",
    "    [\"bpe_hugging_face\", bpe_tokenizer_hugging_face.tokenize],\n",
    "    [\"bpe_home_made\", bpe_tokenizer_home_made.tokenize],\n",
    "    [\"lemma\", regexp_tokenizer.lemma_tokenize],\n",
    "    [\"sent\", regexp_tokenizer.sent_tokenizer],\n",
    "    [\"tweet\", regexp_tokenizer.tweet_tokenizer],\n",
    "    [\"whitespaces\", regexp_tokenizer.whitespaces_tokenizer],\n",
    "    [\"nlpReg\", regexp_tokenizer.nlpReg_tokenizer],\n",
    "    [\"gpt\", MyGPTTokenizer().tokenize]\n",
    "], columns=[\"name\", \"model\"])\n",
    "tokenizers"
   ]
  },
  {
   "cell_type": "markdown",
   "id": "822ccbdf",
   "metadata": {},
   "source": [
    "### Word2vec"
   ]
  },
  {
   "cell_type": "markdown",
   "id": "aa55c143",
   "metadata": {},
   "source": [
    "#### From dataset"
   ]
  },
  {
   "cell_type": "code",
   "execution_count": 20,
   "id": "9c128fd1",
   "metadata": {},
   "outputs": [
    {
     "name": "stdout",
     "output_type": "stream",
     "text": [
      "begin of Tokenisation\n"
     ]
    },
    {
     "name": "stderr",
     "output_type": "stream",
     "text": [
      "100%|██████████| 59582/59582 [00:08<00:00, 7155.78it/s]\n"
     ]
    },
    {
     "name": "stdout",
     "output_type": "stream",
     "text": [
      "1575192\n",
      "End of Tokenisation\n",
      "begin train\n",
      "Epoch #1 end\n",
      "Epoch #2 end\n",
      "Epoch #3 end\n",
      "Epoch #4 end\n",
      "Epoch #5 end\n",
      "Epoch #6 end\n",
      "Epoch #7 end\n",
      "Epoch #8 end\n",
      "Epoch #9 end\n",
      "Epoch #10 end\n",
      "Time to compute : 13.466352701187134\n"
     ]
    },
    {
     "data": {
      "text/plain": [
       "100"
      ]
     },
     "execution_count": 20,
     "metadata": {},
     "output_type": "execute_result"
    }
   ],
   "source": [
    "with timer_manager.timer(\"create_model_word2vec\"):\n",
    "    word2vec_from_dataset = create_model_word2vec(df=df)\n",
    "word2vec_from_dataset.vector_size"
   ]
  },
  {
   "cell_type": "code",
   "execution_count": 21,
   "id": "2aa5346f",
   "metadata": {},
   "outputs": [
    {
     "name": "stdout",
     "output_type": "stream",
     "text": [
      "[('pres', 0.6165893077850342)]\n"
     ]
    }
   ],
   "source": [
    "print(word2vec_from_dataset.wv.most_similar(positive=['president', 'lincoln'],topn=1))"
   ]
  },
  {
   "cell_type": "markdown",
   "id": "6fa4ad4e",
   "metadata": {},
   "source": [
    "#### Pre-trained"
   ]
  },
  {
   "cell_type": "code",
   "execution_count": 22,
   "id": "0afe2a37",
   "metadata": {},
   "outputs": [
    {
     "name": "stdout",
     "output_type": "stream",
     "text": [
      "['fasttext-wiki-news-subwords-300', 'conceptnet-numberbatch-17-06-300', 'word2vec-ruscorpora-300', 'word2vec-google-news-300', 'glove-wiki-gigaword-50', 'glove-wiki-gigaword-100', 'glove-wiki-gigaword-200', 'glove-wiki-gigaword-300', 'glove-twitter-25', 'glove-twitter-50', 'glove-twitter-100', 'glove-twitter-200', '__testing_word2vec-matrix-synopsis']\n"
     ]
    }
   ],
   "source": [
    "print(list(gensim.downloader.info()['models'].keys()))"
   ]
  },
  {
   "cell_type": "code",
   "execution_count": 23,
   "id": "f02ff452",
   "metadata": {},
   "outputs": [
    {
     "data": {
      "text/plain": [
       "50"
      ]
     },
     "execution_count": 23,
     "metadata": {},
     "output_type": "execute_result"
    }
   ],
   "source": [
    "word2vec_pretrained50 : KeyedVectors = gensim.downloader.load('glove-wiki-gigaword-50')\n",
    "word2vec_pretrained50.vector_size"
   ]
  },
  {
   "cell_type": "code",
   "execution_count": 24,
   "id": "2276f751",
   "metadata": {},
   "outputs": [
    {
     "data": {
      "text/plain": [
       "100"
      ]
     },
     "execution_count": 24,
     "metadata": {},
     "output_type": "execute_result"
    }
   ],
   "source": [
    "word2vec_pretrained100 : KeyedVectors = gensim.downloader.load('glove-wiki-gigaword-100')\n",
    "word2vec_pretrained100.vector_size"
   ]
  },
  {
   "cell_type": "code",
   "execution_count": 25,
   "id": "6e352f68",
   "metadata": {},
   "outputs": [
    {
     "data": {
      "text/plain": [
       "300"
      ]
     },
     "execution_count": 25,
     "metadata": {},
     "output_type": "execute_result"
    }
   ],
   "source": [
    "word2vec_pretrained300 : KeyedVectors = gensim.downloader.load('glove-wiki-gigaword-300')\n",
    "word2vec_pretrained300.vector_size"
   ]
  },
  {
   "cell_type": "markdown",
   "id": "cc005f90",
   "metadata": {},
   "source": [
    "#### All together"
   ]
  },
  {
   "cell_type": "code",
   "execution_count": 26,
   "id": "99f4daa7",
   "metadata": {},
   "outputs": [
    {
     "data": {
      "text/html": [
       "<div>\n",
       "<style scoped>\n",
       "    .dataframe tbody tr th:only-of-type {\n",
       "        vertical-align: middle;\n",
       "    }\n",
       "\n",
       "    .dataframe tbody tr th {\n",
       "        vertical-align: top;\n",
       "    }\n",
       "\n",
       "    .dataframe thead th {\n",
       "        text-align: right;\n",
       "    }\n",
       "</style>\n",
       "<table border=\"1\" class=\"dataframe\">\n",
       "  <thead>\n",
       "    <tr style=\"text-align: right;\">\n",
       "      <th></th>\n",
       "      <th>name</th>\n",
       "      <th>model</th>\n",
       "    </tr>\n",
       "  </thead>\n",
       "  <tbody>\n",
       "    <tr>\n",
       "      <th>0</th>\n",
       "      <td>from_dataset</td>\n",
       "      <td>[[0.93498254, -0.24203962, -0.18223701, -0.261...</td>\n",
       "    </tr>\n",
       "    <tr>\n",
       "      <th>1</th>\n",
       "      <td>glove-wiki-gigaword-50</td>\n",
       "      <td>[[0.418, 0.24968, -0.41242, 0.1217, 0.34527, -...</td>\n",
       "    </tr>\n",
       "    <tr>\n",
       "      <th>2</th>\n",
       "      <td>glove-wiki-gigaword-100</td>\n",
       "      <td>[[-0.038194, -0.24487, 0.72812, -0.39961, 0.08...</td>\n",
       "    </tr>\n",
       "    <tr>\n",
       "      <th>3</th>\n",
       "      <td>glove-wiki-gigaword-300</td>\n",
       "      <td>[[0.04656, 0.21318, -0.0074364, -0.45854, -0.0...</td>\n",
       "    </tr>\n",
       "  </tbody>\n",
       "</table>\n",
       "</div>"
      ],
      "text/plain": [
       "                      name                                              model\n",
       "0             from_dataset  [[0.93498254, -0.24203962, -0.18223701, -0.261...\n",
       "1   glove-wiki-gigaword-50  [[0.418, 0.24968, -0.41242, 0.1217, 0.34527, -...\n",
       "2  glove-wiki-gigaword-100  [[-0.038194, -0.24487, 0.72812, -0.39961, 0.08...\n",
       "3  glove-wiki-gigaword-300  [[0.04656, 0.21318, -0.0074364, -0.45854, -0.0..."
      ]
     },
     "execution_count": 26,
     "metadata": {},
     "output_type": "execute_result"
    }
   ],
   "source": [
    "wvs  = pd.DataFrame([\n",
    "    [\"from_dataset\", word2vec_from_dataset.wv],\n",
    "    [\"glove-wiki-gigaword-50\", word2vec_pretrained50],\n",
    "    [\"glove-wiki-gigaword-100\", word2vec_pretrained100],\n",
    "    [\"glove-wiki-gigaword-300\", word2vec_pretrained300]\n",
    "], columns=[\"name\", \"model\"])\n",
    "wvs"
   ]
  },
  {
   "cell_type": "markdown",
   "id": "bd3e01a6",
   "metadata": {},
   "source": [
    "### Others"
   ]
  },
  {
   "cell_type": "code",
   "execution_count": 27,
   "id": "a8789152",
   "metadata": {},
   "outputs": [],
   "source": [
    "ngram_ranges = [(1, 1), (2, 2), (3, 3)]"
   ]
  },
  {
   "cell_type": "markdown",
   "id": "bceb1d25",
   "metadata": {},
   "source": [
    "## Split"
   ]
  },
  {
   "cell_type": "code",
   "execution_count": 28,
   "id": "6205c89f",
   "metadata": {},
   "outputs": [
    {
     "data": {
      "text/plain": [
       "((47665,), (47665,))"
      ]
     },
     "execution_count": 28,
     "metadata": {},
     "output_type": "execute_result"
    }
   ],
   "source": [
    "from sklearn.model_selection import StratifiedKFold\n",
    "\n",
    "X = df[\"text\"]\n",
    "y = df[\"name\"]\n",
    "\n",
    "# Split the data\n",
    "X_train, X_test, y_train, y_test = train_test_split(\n",
    "    X, y, test_size=0.2, random_state=42\n",
    ")\n",
    "\n",
    "X_train.shape, y_train.shape"
   ]
  },
  {
   "cell_type": "markdown",
   "id": "e509a66d",
   "metadata": {},
   "source": [
    "## Models creation and training "
   ]
  },
  {
   "cell_type": "markdown",
   "id": "1cfe9505",
   "metadata": {},
   "source": [
    "### Create the models"
   ]
  },
  {
   "cell_type": "code",
   "execution_count": 29,
   "id": "13c69d03",
   "metadata": {},
   "outputs": [],
   "source": [
    "import torch.nn.functional as F\n",
    "\n",
    "\n",
    "class MyModel:\n",
    "    def fit(**kwargs):\n",
    "        pass\n",
    "\n",
    "    def predict(**kwargs):\n",
    "        pass\n",
    "\n",
    "    def classes() -> List[str]:\n",
    "        pass\n",
    "\n",
    "    hps : dict\n",
    "\n",
    "\n",
    "\n",
    "def init_models(\n",
    "    tokenizer: TYPE_TOKENIZER,\n",
    "    word2vec: Word2Vec,\n",
    "    word2vec_name: str,\n",
    "    ngram_range: Tuple[int, int],\n",
    "    stop_words: List[str],\n",
    "    hps_name: Dict[str, Any],\n",
    ") -> List[MyModel]:\n",
    "\n",
    "    stop_words = [tokenizer(word) for word in stop_words]\n",
    "    init_label = \"time_init\"\n",
    "\n",
    "    hps_nb = dict({**hps_name, \"ngram_range\": ngram_range, \"balanced\" : True})\n",
    "    with timer_manager.timer([str(MyNaiveBayes), hps_nb, init_label]):\n",
    "        naive_bayes = MyNaiveBayes(\n",
    "            cv=CountVectorizer(\n",
    "                ngram_range=ngram_range, tokenizer=tokenizer, stop_words=en_stop\n",
    "            )\n",
    "        )\n",
    "        naive_bayes.hps = hps_nb\n",
    "        if hps_nb[\"balanced\"]:\n",
    "            sample_weights = compute_sample_weight(class_weight=\"balanced\", y=y_train)\n",
    "            naive_bayes.fit = lambda X_train, y_train: naive_bayes.model.fit(X_train, y_train, multinomialnb__sample_weight=sample_weights)\n",
    "        naive_bayes.classes = lambda: naive_bayes.clf.classes_\n",
    "\n",
    "    hps_lr = dict(\n",
    "        {\n",
    "            **hps_name,\n",
    "            \"penalty\": \"l2\",\n",
    "            \"solver\": \"liblinear\",\n",
    "            \"tol\": 0.0008376610960308999,\n",
    "            \"C\": 0.2619722813789074,\n",
    "            \"ngram_range\": ngram_range,\n",
    "        }\n",
    "    )\n",
    "    with timer_manager.timer([str(MyLogisticRegression), hps_lr, init_label]):\n",
    "        lr = MyLogisticRegression(\n",
    "            cv=CountVectorizer(\n",
    "                ngram_range=ngram_range, tokenizer=tokenizer, stop_words=en_stop\n",
    "            ),\n",
    "            clf=LogisticRegression(\n",
    "                penalty=hps_lr[\"penalty\"],\n",
    "                solver=hps_lr[\"solver\"],\n",
    "                tol=hps_lr[\"tol\"],\n",
    "                C=hps_lr[\"C\"],\n",
    "                verbose=1\n",
    "            ),\n",
    "        )\n",
    "        lr.hps = hps_lr\n",
    "        lr.classes = lambda: lr.clf.classes_\n",
    "\n",
    "    hps_fnn = dict({**hps_name, \"nb_epochs\": 10, \"word2vec\": word2vec_name})\n",
    "    with timer_manager.timer([str(MyFnnTorch), hps_fnn, init_label]):\n",
    "        # cv = CountVectorizer(ngram_range=(1, 1), tokenizer=tokenizer, stop_words=en_stop)\n",
    "        # cv.fit(X_train)\n",
    "        fnn_torch = MyFnnTorch(\n",
    "            num_classes=len(y.unique()),\n",
    "            nb_epochs=hps_fnn[\"nb_epochs\"],\n",
    "            word2vec=word2vec,\n",
    "            tokenizer=tokenizer,\n",
    "            # activation=F.relu6\n",
    "            # count_vectorizer=cv,\n",
    "        )\n",
    "        fnn_torch.hps = hps_fnn\n",
    "        fnn_torch.classes = lambda: fnn_torch.label_encoder.classes_\n",
    "\n",
    "    models = [naive_bayes, lr, fnn_torch]\n",
    "    return models\n",
    "\n",
    "\n",
    "tokenizer = tokenizers.iloc[7]\n",
    "wv = wvs.iloc[3]\n",
    "hps_name = {\n",
    "    \"tokenizer\": tokenizer[\"name\"],\n",
    "    \"convertUrl\": convert_url\n",
    "}\n",
    "models = init_models(\n",
    "    tokenizer=tokenizer[\"model\"],\n",
    "    word2vec=wv[\"model\"],\n",
    "    word2vec_name=wv[\"name\"],\n",
    "    ngram_range=ngram_ranges[0],\n",
    "    stop_words=en_stop,\n",
    "    hps_name=hps_name,\n",
    ")"
   ]
  },
  {
   "cell_type": "markdown",
   "id": "ee6b6073",
   "metadata": {},
   "source": [
    "### Train the model"
   ]
  },
  {
   "cell_type": "code",
   "execution_count": 31,
   "id": "9ef79da1",
   "metadata": {},
   "outputs": [
    {
     "name": "stderr",
     "output_type": "stream",
     "text": [
      "train_models:   0%|          | 0/3 [00:00<?, ?it/s]/home/secouss/repos/nlp-usa-presidents/.venv/lib/python3.10/site-packages/sklearn/feature_extraction/text.py:394: UserWarning: Your stop_words may be inconsistent with your preprocessing. Tokenizing the stop words generated tokens ['10138', '10274', '1055', '10655', '1073', '10888', '10924', '11536', '11945', '12116', '1220', '1225', '1245', '12682', '12840', '1336', '13397', '1348', '13486', '1395', '1409', '1431', '14336', '1445', '14622', '14724', '14965', '15031', '15145', '15205', '15247', '1527', '1531', '15930', '1605', '1610', '16514', '16809', '1683', '17106', '17206', '1729', '1752', '17998', '1820', '18238', '18614', '1885', '18864', '19041', '19171', '1919', '19553', '1962', '1964', '2000', '20019', '2002', '2017', '20322', '20375', '20583', '20670', '20708', '20969', '2099', '21470', '21704', '2177', '21903', '2201', '22479', '23478', '2351', '23609', '23770', '24567', '2465', '25030', '2530', '2544', '258', '25849', '263', '26301', '265', '2656', '266', '267', '268', '269', '2727', '2739', '275', '276', '28010', '28074', '28156', '2846', '285', '28753', '28956', '291', '29177', '2940', '29510', '2996', '300', '3002', '30096', '30115', '3055', '3077', '309', '30998', '31121', '316', '31845', '3195', '3207', '32158', '32345', '325', '32676', '3274', '32827', '33222', '3323', '333', '3358', '336', '33871', '339', '3409', '3422', '34232', '3427', '34360', '34431', '3473', '3479', '35124', '35214', '3522', '3528', '355', '3556', '35627', '3565', '35676', '35734', '3646', '3684', '37227', '37241', '373', '37593', '37890', '383', '3852', '388', '39393', '39724', '398', '3983', '39830', '39870', '4004', '4057', '40617', '4070', '4102', '412', '414', '41450', '4151', '4199', '42312', '424', '4265', '4291', '42967', '43063', '4344', '43440', '4345', '4354', '4372', '43741', '438', '44466', '45010', '45359', '455', '456', '45807', '4581', '46068', '4636', '46584', '47492', '4752', '47530', '4805', '485', '491', '4919', '49532', '49818', '49864', '50828', '50998', '51464', '5269', '52898', '53770', '54277', '543', '54719', '54760', '548', '54895', '5562', '56371', '56950', '576', '57753', '57839', '579', '582', '588', '59178', '596', '59723', '59961', '60301', '606', '609', '6095', '61036', '6173', '61752', '61917', '631', '638', '63995', '64', '65', '6518', '657', '66372', '67', '67733', '6797', '6836', '68632', '6881', '69', '69386', '69849', '70614', '7070', '7072', '708', '7096', '71', '716', '71830', '71839', '72', '7259', '726', '73254', '73826', '74303', '74914', '75', '753', '76', '768', '77', '77405', '785', '8154', '818', '8248', '82850', '82977', '83', '83071', '8370', '84270', '86243', '88', '9054', '90579', '906', '9210', '9274', '93057', '9336', '936', '94323', '94427', '9493', '95065', '9514', '956', '959', '9620', '9739', '985', '989', '98936', '998'] not in stop_words.\n",
      "  warnings.warn(\n"
     ]
    },
    {
     "name": "stdout",
     "output_type": "stream",
     "text": [
      "<class 'src.classification.my_naive_bayes.MyNaiveBayes'>\n"
     ]
    },
    {
     "name": "stderr",
     "output_type": "stream",
     "text": [
      "train_models:  33%|███▎      | 1/3 [00:01<00:03,  1.71s/it]/home/secouss/repos/nlp-usa-presidents/.venv/lib/python3.10/site-packages/sklearn/feature_extraction/text.py:394: UserWarning: Your stop_words may be inconsistent with your preprocessing. Tokenizing the stop words generated tokens ['10138', '10274', '1055', '10655', '1073', '10888', '10924', '11536', '11945', '12116', '1220', '1225', '1245', '12682', '12840', '1336', '13397', '1348', '13486', '1395', '1409', '1431', '14336', '1445', '14622', '14724', '14965', '15031', '15145', '15205', '15247', '1527', '1531', '15930', '1605', '1610', '16514', '16809', '1683', '17106', '17206', '1729', '1752', '17998', '1820', '18238', '18614', '1885', '18864', '19041', '19171', '1919', '19553', '1962', '1964', '2000', '20019', '2002', '2017', '20322', '20375', '20583', '20670', '20708', '20969', '2099', '21470', '21704', '2177', '21903', '2201', '22479', '23478', '2351', '23609', '23770', '24567', '2465', '25030', '2530', '2544', '258', '25849', '263', '26301', '265', '2656', '266', '267', '268', '269', '2727', '2739', '275', '276', '28010', '28074', '28156', '2846', '285', '28753', '28956', '291', '29177', '2940', '29510', '2996', '300', '3002', '30096', '30115', '3055', '3077', '309', '30998', '31121', '316', '31845', '3195', '3207', '32158', '32345', '325', '32676', '3274', '32827', '33222', '3323', '333', '3358', '336', '33871', '339', '3409', '3422', '34232', '3427', '34360', '34431', '3473', '3479', '35124', '35214', '3522', '3528', '355', '3556', '35627', '3565', '35676', '35734', '3646', '3684', '37227', '37241', '373', '37593', '37890', '383', '3852', '388', '39393', '39724', '398', '3983', '39830', '39870', '4004', '4057', '40617', '4070', '4102', '412', '414', '41450', '4151', '4199', '42312', '424', '4265', '4291', '42967', '43063', '4344', '43440', '4345', '4354', '4372', '43741', '438', '44466', '45010', '45359', '455', '456', '45807', '4581', '46068', '4636', '46584', '47492', '4752', '47530', '4805', '485', '491', '4919', '49532', '49818', '49864', '50828', '50998', '51464', '5269', '52898', '53770', '54277', '543', '54719', '54760', '548', '54895', '5562', '56371', '56950', '576', '57753', '57839', '579', '582', '588', '59178', '596', '59723', '59961', '60301', '606', '609', '6095', '61036', '6173', '61752', '61917', '631', '638', '63995', '64', '65', '6518', '657', '66372', '67', '67733', '6797', '6836', '68632', '6881', '69', '69386', '69849', '70614', '7070', '7072', '708', '7096', '71', '716', '71830', '71839', '72', '7259', '726', '73254', '73826', '74303', '74914', '75', '753', '76', '768', '77', '77405', '785', '8154', '818', '8248', '82850', '82977', '83', '83071', '8370', '84270', '86243', '88', '9054', '90579', '906', '9210', '9274', '93057', '9336', '936', '94323', '94427', '9493', '95065', '9514', '956', '959', '9620', '9739', '985', '989', '98936', '998'] not in stop_words.\n",
      "  warnings.warn(\n"
     ]
    },
    {
     "name": "stdout",
     "output_type": "stream",
     "text": [
      "<class 'src.classification.my_logistic_regression.MyLogisticRegression'>\n",
      "[LibLinear]iter  1 act 5.872e+03 pre 5.051e+03 delta 2.221e+00 f 8.655e+03 |g| 1.268e+04 CG   3\n",
      "iter  2 act 1.518e+03 pre 1.210e+03 delta 2.737e+00 f 2.783e+03 |g| 3.445e+03 CG   4\n",
      "iter  3 act 5.868e+02 pre 4.626e+02 delta 2.923e+00 f 1.265e+03 |g| 1.259e+03 CG   4\n",
      "iter  4 act 2.539e+02 pre 2.008e+02 delta 3.377e+00 f 6.785e+02 |g| 4.812e+02 CG   5\n",
      "cg reaches trust region boundary\n",
      "iter  5 act 1.206e+02 pre 9.733e+01 delta 4.482e+00 f 4.246e+02 |g| 1.870e+02 CG   7\n",
      "cg reaches trust region boundary\n",
      "iter  6 act 5.160e+01 pre 4.586e+01 delta 5.187e+00 f 3.040e+02 |g| 7.807e+01 CG   8\n",
      "iter  7 act 1.121e+01 pre 9.232e+00 delta 5.187e+00 f 2.524e+02 |g| 3.761e+01 CG   6\n",
      "iter  8 act 3.512e+00 pre 3.039e+00 delta 5.187e+00 f 2.411e+02 |g| 1.319e+01 CG   9\n",
      "iter  9 act 4.294e-01 pre 3.865e-01 delta 5.187e+00 f 2.376e+02 |g| 4.048e+00 CG   9\n",
      "iter  1 act 5.204e+03 pre 4.465e+03 delta 2.742e+00 f 8.655e+03 |g| 9.009e+03 CG   4\n",
      "cg reaches trust region boundary\n",
      "iter  2 act 1.525e+03 pre 1.225e+03 delta 3.698e+00 f 3.451e+03 |g| 2.405e+03 CG   6\n",
      "cg reaches trust region boundary\n",
      "iter  3 act 6.916e+02 pre 5.489e+02 delta 5.123e+00 f 1.927e+03 |g| 8.561e+02 CG   7\n",
      "cg reaches trust region boundary\n",
      "iter  4 act 3.412e+02 pre 2.726e+02 delta 6.912e+00 f 1.235e+03 |g| 3.265e+02 CG   8\n",
      "cg reaches trust region boundary\n",
      "iter  5 act 1.565e+02 pre 1.343e+02 delta 8.366e+00 f 8.937e+02 |g| 1.448e+02 CG  10\n",
      "iter  6 act 3.342e+01 pre 3.102e+01 delta 8.366e+00 f 7.372e+02 |g| 6.713e+01 CG  11\n",
      "iter  7 act 3.255e+00 pre 3.069e+00 delta 8.366e+00 f 7.038e+02 |g| 1.927e+01 CG  14\n",
      "iter  8 act 2.026e-01 pre 1.968e-01 delta 8.366e+00 f 7.006e+02 |g| 3.217e+00 CG  16\n",
      "iter  1 act 5.372e+03 pre 4.694e+03 delta 2.094e+00 f 8.655e+03 |g| 1.125e+04 CG   3\n",
      "cg reaches trust region boundary\n",
      "iter  2 act 1.363e+03 pre 1.105e+03 delta 2.843e+00 f 3.283e+03 |g| 2.669e+03 CG   5\n",
      "cg reaches trust region boundary\n",
      "iter  3 act 6.248e+02 pre 5.008e+02 delta 3.947e+00 f 1.920e+03 |g| 9.920e+02 CG   6\n",
      "cg reaches trust region boundary\n",
      "iter  4 act 3.385e+02 pre 2.717e+02 delta 5.463e+00 f 1.295e+03 |g| 4.187e+02 CG   5\n",
      "cg reaches trust region boundary\n",
      "iter  5 act 1.808e+02 pre 1.545e+02 delta 6.603e+00 f 9.569e+02 |g| 1.959e+02 CG   5\n",
      "cg reaches trust region boundary\n",
      "iter  6 act 9.029e+01 pre 8.231e+01 delta 7.407e+00 f 7.761e+02 |g| 1.198e+02 CG   9\n"
     ]
    },
    {
     "name": "stderr",
     "output_type": "stream",
     "text": [
      "train_models:  67%|██████▋   | 2/3 [00:05<00:02,  2.98s/it]"
     ]
    },
    {
     "name": "stdout",
     "output_type": "stream",
     "text": [
      "iter  7 act 1.406e+01 pre 1.358e+01 delta 7.407e+00 f 6.858e+02 |g| 4.392e+01 CG  13\n",
      "iter  8 act 9.368e-01 pre 9.166e-01 delta 7.407e+00 f 6.718e+02 |g| 7.349e+00 CG  16\n",
      "<class 'src.classification.my_fnn_torch.MyFnnTorch'>\n",
      "Epoch [1/10], Loss: 0.4311\n",
      "Epoch [2/10], Loss: 0.4918\n",
      "Epoch [3/10], Loss: 0.3173\n",
      "Epoch [4/10], Loss: 0.4523\n",
      "Epoch [5/10], Loss: 0.3512\n",
      "Epoch [6/10], Loss: 0.3108\n",
      "Epoch [7/10], Loss: 0.4118\n",
      "Epoch [8/10], Loss: 0.3973\n",
      "Epoch [9/10], Loss: 0.4782\n"
     ]
    },
    {
     "name": "stderr",
     "output_type": "stream",
     "text": [
      "train_models: 100%|██████████| 3/3 [00:26<00:00,  8.99s/it]"
     ]
    },
    {
     "name": "stdout",
     "output_type": "stream",
     "text": [
      "Epoch [10/10], Loss: 0.4055\n"
     ]
    },
    {
     "name": "stderr",
     "output_type": "stream",
     "text": [
      "\n"
     ]
    }
   ],
   "source": [
    "def train(model : MyModel) -> None:\n",
    "    name = str(model.__class__)\n",
    "    print(name)\n",
    "    with timer_manager.timer([name, model.hps, \"time_train\"]):\n",
    "        model.fit(X_train, y_train)\n",
    "def train_all(models : List[MyModel]) -> None:\n",
    "    for model in tqdm(models, desc=\"train_models\"):\n",
    "        train(model)\n",
    "train_all(models)"
   ]
  },
  {
   "cell_type": "markdown",
   "id": "15cb2ef6",
   "metadata": {},
   "source": [
    "### Prediction"
   ]
  },
  {
   "cell_type": "code",
   "execution_count": 32,
   "id": "a974654d",
   "metadata": {},
   "outputs": [
    {
     "name": "stdout",
     "output_type": "stream",
     "text": [
      "Republicans and Democrats have both created our economic problems.\n"
     ]
    },
    {
     "name": "stderr",
     "output_type": "stream",
     "text": [
      "train_models: 100%|██████████| 3/3 [00:00<00:00, 839.92it/s]"
     ]
    },
    {
     "name": "stdout",
     "output_type": "stream",
     "text": [
      "<src.classification.my_naive_bayes.MyNaiveBayes object at 0x7e7774712ec0> ['Donald Trump']\n",
      "<src.classification.my_logistic_regression.MyLogisticRegression object at 0x7e7774711540> ['Donald Trump']\n",
      "<src.classification.my_fnn_torch.MyFnnTorch object at 0x7e7774712b90> ['Joe Biden']\n"
     ]
    },
    {
     "name": "stderr",
     "output_type": "stream",
     "text": [
      "\n"
     ]
    }
   ],
   "source": [
    "text = df[df[\"name\"] == \"Donald Trump\"].iloc[0][\"text\"]\n",
    "print(text)\n",
    "def predict(models :List[MyModel], text : str) -> None:\n",
    "    for model in tqdm(models, desc=\"train_models\"):\n",
    "        print(model, model.predict([text]))\n",
    "predict(models, text)"
   ]
  },
  {
   "cell_type": "markdown",
   "id": "92d68d02",
   "metadata": {},
   "source": [
    "## Evaluation"
   ]
  },
  {
   "cell_type": "markdown",
   "id": "11c38a89",
   "metadata": {},
   "source": [
    "### Table (precision, recall, f1-score)"
   ]
  },
  {
   "cell_type": "code",
   "execution_count": 142,
   "id": "9ddcdd43",
   "metadata": {},
   "outputs": [
    {
     "name": "stdout",
     "output_type": "stream",
     "text": [
      "Epoch [1/200], Loss: 2.1362\n",
      "Precision: 0.1254, Recall: 0.2258, F1 Score: 0.1382\n",
      "Epoch [2/200], Loss: 1.9465\n",
      "Precision: 0.1166, Recall: 0.2284, F1 Score: 0.1454\n",
      "Epoch [3/200], Loss: 2.3751\n",
      "Precision: 0.1402, Recall: 0.2309, F1 Score: 0.1489\n",
      "Epoch [4/200], Loss: 1.9042\n",
      "Precision: 0.1121, Recall: 0.1970, F1 Score: 0.1283\n",
      "Epoch [5/200], Loss: 2.0631\n",
      "Precision: 0.1274, Recall: 0.2384, F1 Score: 0.1604\n",
      "Epoch [6/200], Loss: 2.2421\n",
      "Precision: 0.1156, Recall: 0.2058, F1 Score: 0.1232\n",
      "Epoch [7/200], Loss: 2.1447\n",
      "Precision: 0.1310, Recall: 0.2284, F1 Score: 0.1514\n",
      "Epoch [8/200], Loss: 1.9935\n",
      "Precision: 0.1127, Recall: 0.1844, F1 Score: 0.1195\n",
      "Epoch [9/200], Loss: 2.0367\n",
      "Precision: 0.1409, Recall: 0.2196, F1 Score: 0.1599\n",
      "Epoch [10/200], Loss: 2.0395\n",
      "Precision: 0.1479, Recall: 0.2371, F1 Score: 0.1747\n",
      "Epoch [11/200], Loss: 2.1700\n",
      "Precision: 0.1613, Recall: 0.2221, F1 Score: 0.1584\n",
      "Epoch [12/200], Loss: 2.1098\n",
      "Precision: 0.1465, Recall: 0.2371, F1 Score: 0.1558\n",
      "Epoch [13/200], Loss: 2.1069\n",
      "Precision: 0.1770, Recall: 0.2346, F1 Score: 0.1699\n",
      "Epoch [14/200], Loss: 2.1109\n",
      "Precision: 0.1165, Recall: 0.2045, F1 Score: 0.1078\n",
      "Epoch [15/200], Loss: 2.3872\n",
      "Precision: 0.1450, Recall: 0.2284, F1 Score: 0.1488\n",
      "Epoch [16/200], Loss: 2.1380\n",
      "Precision: 0.0900, Recall: 0.2070, F1 Score: 0.0913\n",
      "Epoch [17/200], Loss: 2.0551\n",
      "Precision: 0.1201, Recall: 0.2233, F1 Score: 0.1444\n",
      "Epoch [18/200], Loss: 2.1815\n",
      "Precision: 0.1450, Recall: 0.2271, F1 Score: 0.1452\n",
      "Epoch [19/200], Loss: 1.8386\n",
      "Precision: 0.1081, Recall: 0.1819, F1 Score: 0.1199\n",
      "Epoch [20/200], Loss: 2.0662\n",
      "Precision: 0.1481, Recall: 0.2271, F1 Score: 0.1547\n",
      "Epoch [21/200], Loss: 1.9414\n",
      "Precision: 0.1678, Recall: 0.2258, F1 Score: 0.1565\n",
      "Epoch [22/200], Loss: 2.0624\n",
      "Precision: 0.1363, Recall: 0.2384, F1 Score: 0.1603\n",
      "Epoch [23/200], Loss: 2.2778\n",
      "Precision: 0.1311, Recall: 0.2484, F1 Score: 0.1595\n",
      "Epoch [24/200], Loss: 2.0514\n",
      "Precision: 0.1410, Recall: 0.2321, F1 Score: 0.1479\n",
      "Epoch [25/200], Loss: 2.2418\n",
      "Precision: 0.1404, Recall: 0.2396, F1 Score: 0.1534\n",
      "Epoch [26/200], Loss: 1.9411\n",
      "Precision: 0.1392, Recall: 0.2371, F1 Score: 0.1603\n",
      "Epoch [27/200], Loss: 2.2917\n",
      "Precision: 0.0956, Recall: 0.1619, F1 Score: 0.0758\n",
      "Epoch [28/200], Loss: 2.0355\n",
      "Precision: 0.1041, Recall: 0.2221, F1 Score: 0.1326\n",
      "Epoch [29/200], Loss: 2.2526\n",
      "Precision: 0.1151, Recall: 0.2296, F1 Score: 0.1522\n",
      "Epoch [30/200], Loss: 2.0345\n",
      "Precision: 0.1228, Recall: 0.2284, F1 Score: 0.1508\n",
      "Epoch [31/200], Loss: 2.1140\n",
      "Precision: 0.1464, Recall: 0.2346, F1 Score: 0.1465\n",
      "Epoch [32/200], Loss: 2.2041\n",
      "Precision: 0.1591, Recall: 0.2133, F1 Score: 0.1436\n",
      "Epoch [33/200], Loss: 1.9844\n",
      "Precision: 0.1483, Recall: 0.2321, F1 Score: 0.1537\n",
      "Epoch [34/200], Loss: 2.0760\n",
      "Precision: 0.1412, Recall: 0.2083, F1 Score: 0.1331\n",
      "Epoch [35/200], Loss: 2.1438\n",
      "Precision: 0.1209, Recall: 0.2196, F1 Score: 0.1347\n",
      "Epoch [36/200], Loss: 1.9231\n",
      "Precision: 0.1511, Recall: 0.2309, F1 Score: 0.1555\n",
      "Epoch [37/200], Loss: 2.1035\n",
      "Precision: 0.1209, Recall: 0.2171, F1 Score: 0.1472\n",
      "Epoch [38/200], Loss: 2.1594\n",
      "Precision: 0.1044, Recall: 0.2108, F1 Score: 0.1346\n",
      "Epoch [39/200], Loss: 2.2192\n",
      "Precision: 0.0778, Recall: 0.2120, F1 Score: 0.1004\n",
      "Epoch [40/200], Loss: 2.0508\n",
      "Precision: 0.1148, Recall: 0.2183, F1 Score: 0.1420\n",
      "Epoch [41/200], Loss: 1.9812\n",
      "Precision: 0.1311, Recall: 0.2371, F1 Score: 0.1593\n",
      "Epoch [42/200], Loss: 2.0780\n",
      "Precision: 0.1135, Recall: 0.2196, F1 Score: 0.1453\n",
      "Epoch [43/200], Loss: 2.0336\n",
      "Precision: 0.1372, Recall: 0.2371, F1 Score: 0.1587\n",
      "Epoch [44/200], Loss: 1.9762\n",
      "Precision: 0.1154, Recall: 0.2258, F1 Score: 0.1395\n",
      "Epoch [45/200], Loss: 1.8932\n",
      "Precision: 0.1145, Recall: 0.2221, F1 Score: 0.1211\n",
      "Epoch [46/200], Loss: 2.0303\n",
      "Precision: 0.1273, Recall: 0.2359, F1 Score: 0.1592\n",
      "Epoch [47/200], Loss: 2.0529\n",
      "Precision: 0.1016, Recall: 0.2070, F1 Score: 0.1044\n",
      "Epoch [48/200], Loss: 1.9294\n",
      "Precision: 0.1295, Recall: 0.2020, F1 Score: 0.1252\n",
      "Epoch [49/200], Loss: 2.1149\n",
      "Precision: 0.1413, Recall: 0.2146, F1 Score: 0.1328\n",
      "Epoch [50/200], Loss: 2.0743\n",
      "Precision: 0.1525, Recall: 0.2309, F1 Score: 0.1606\n",
      "Epoch [51/200], Loss: 1.9855\n",
      "Precision: 0.1262, Recall: 0.2346, F1 Score: 0.1601\n",
      "Epoch [52/200], Loss: 2.0631\n",
      "Precision: 0.1144, Recall: 0.2108, F1 Score: 0.1134\n",
      "Epoch [53/200], Loss: 2.2789\n",
      "Precision: 0.1059, Recall: 0.1920, F1 Score: 0.1253\n",
      "Epoch [54/200], Loss: 2.2763\n",
      "Precision: 0.1185, Recall: 0.2371, F1 Score: 0.1509\n",
      "Epoch [55/200], Loss: 1.9226\n",
      "Precision: 0.1067, Recall: 0.2108, F1 Score: 0.1051\n",
      "Epoch [56/200], Loss: 1.9017\n",
      "Precision: 0.1200, Recall: 0.2208, F1 Score: 0.1240\n",
      "Epoch [57/200], Loss: 2.0759\n",
      "Precision: 0.1253, Recall: 0.1945, F1 Score: 0.1342\n",
      "Epoch [58/200], Loss: 2.0487\n",
      "Precision: 0.0918, Recall: 0.1970, F1 Score: 0.1199\n",
      "Epoch [59/200], Loss: 1.9095\n",
      "Precision: 0.1489, Recall: 0.2359, F1 Score: 0.1507\n",
      "Epoch [60/200], Loss: 1.8765\n",
      "Precision: 0.1170, Recall: 0.2346, F1 Score: 0.1513\n",
      "Epoch [61/200], Loss: 1.9611\n",
      "Precision: 0.1247, Recall: 0.2309, F1 Score: 0.1436\n"
     ]
    },
    {
     "ename": "KeyboardInterrupt",
     "evalue": "",
     "output_type": "error",
     "traceback": [
      "\u001b[0;31m---------------------------------------------------------------------------\u001b[0m",
      "\u001b[0;31mKeyboardInterrupt\u001b[0m                         Traceback (most recent call last)",
      "Cell \u001b[0;32mIn[142], line 1\u001b[0m\n\u001b[0;32m----> 1\u001b[0m \u001b[43mmodels\u001b[49m\u001b[43m[\u001b[49m\u001b[38;5;241;43m2\u001b[39;49m\u001b[43m]\u001b[49m\u001b[38;5;241;43m.\u001b[39;49m\u001b[43mfit\u001b[49m\u001b[43m(\u001b[49m\u001b[43mX_train\u001b[49m\u001b[43m,\u001b[49m\u001b[43m \u001b[49m\u001b[43my_train\u001b[49m\u001b[43m,\u001b[49m\u001b[43m \u001b[49m\u001b[43mX_test\u001b[49m\u001b[43m,\u001b[49m\u001b[43m \u001b[49m\u001b[43my_test\u001b[49m\u001b[43m)\u001b[49m\n",
      "File \u001b[0;32m~/repos/nlp-usa-presidents/src/classification/my_fnn_torch.py:208\u001b[0m, in \u001b[0;36mfit\u001b[0;34m(self, X_train_text, y_train_text, X_test_text, y_test_text, batch_size)\u001b[0m\n\u001b[1;32m    205\u001b[0m loss \u001b[38;5;241m=\u001b[39m \u001b[38;5;28mself\u001b[39m\u001b[38;5;241m.\u001b[39mcriterion(outputs, labels)\n\u001b[1;32m    207\u001b[0m \u001b[38;5;66;03m# Backward and optimize\u001b[39;00m\n\u001b[0;32m--> 208\u001b[0m \u001b[38;5;28mself\u001b[39m\u001b[38;5;241m.\u001b[39moptimizer\u001b[38;5;241m.\u001b[39mzero_grad()\n\u001b[1;32m    209\u001b[0m loss\u001b[38;5;241m.\u001b[39mbackward()\n\u001b[1;32m    210\u001b[0m \u001b[38;5;66;03m# nn.utils.clip_grad_norm_(model.parameters(), 1.0)\u001b[39;00m\n",
      "File \u001b[0;32m~/repos/nlp-usa-presidents/.venv/lib/python3.10/site-packages/torch/optim/optimizer.py:391\u001b[0m, in \u001b[0;36mOptimizer.profile_hook_step.<locals>.wrapper\u001b[0;34m(*args, **kwargs)\u001b[0m\n\u001b[1;32m    386\u001b[0m         \u001b[38;5;28;01melse\u001b[39;00m:\n\u001b[1;32m    387\u001b[0m             \u001b[38;5;28;01mraise\u001b[39;00m \u001b[38;5;167;01mRuntimeError\u001b[39;00m(\n\u001b[1;32m    388\u001b[0m                 \u001b[38;5;124mf\u001b[39m\u001b[38;5;124m\"\u001b[39m\u001b[38;5;132;01m{\u001b[39;00mfunc\u001b[38;5;132;01m}\u001b[39;00m\u001b[38;5;124m must return None or a tuple of (new_args, new_kwargs), but got \u001b[39m\u001b[38;5;132;01m{\u001b[39;00mresult\u001b[38;5;132;01m}\u001b[39;00m\u001b[38;5;124m.\u001b[39m\u001b[38;5;124m\"\u001b[39m\n\u001b[1;32m    389\u001b[0m             )\n\u001b[0;32m--> 391\u001b[0m out \u001b[38;5;241m=\u001b[39m \u001b[43mfunc\u001b[49m\u001b[43m(\u001b[49m\u001b[38;5;241;43m*\u001b[39;49m\u001b[43margs\u001b[49m\u001b[43m,\u001b[49m\u001b[43m \u001b[49m\u001b[38;5;241;43m*\u001b[39;49m\u001b[38;5;241;43m*\u001b[39;49m\u001b[43mkwargs\u001b[49m\u001b[43m)\u001b[49m\n\u001b[1;32m    392\u001b[0m \u001b[38;5;28mself\u001b[39m\u001b[38;5;241m.\u001b[39m_optimizer_step_code()\n\u001b[1;32m    394\u001b[0m \u001b[38;5;66;03m# call optimizer step post hooks\u001b[39;00m\n",
      "File \u001b[0;32m~/repos/nlp-usa-presidents/.venv/lib/python3.10/site-packages/torch/optim/optimizer.py:76\u001b[0m, in \u001b[0;36m_use_grad_for_differentiable.<locals>._use_grad\u001b[0;34m(self, *args, **kwargs)\u001b[0m\n\u001b[1;32m     74\u001b[0m     torch\u001b[38;5;241m.\u001b[39mset_grad_enabled(\u001b[38;5;28mself\u001b[39m\u001b[38;5;241m.\u001b[39mdefaults[\u001b[38;5;124m'\u001b[39m\u001b[38;5;124mdifferentiable\u001b[39m\u001b[38;5;124m'\u001b[39m])\n\u001b[1;32m     75\u001b[0m     torch\u001b[38;5;241m.\u001b[39m_dynamo\u001b[38;5;241m.\u001b[39mgraph_break()\n\u001b[0;32m---> 76\u001b[0m     ret \u001b[38;5;241m=\u001b[39m \u001b[43mfunc\u001b[49m\u001b[43m(\u001b[49m\u001b[38;5;28;43mself\u001b[39;49m\u001b[43m,\u001b[49m\u001b[43m \u001b[49m\u001b[38;5;241;43m*\u001b[39;49m\u001b[43margs\u001b[49m\u001b[43m,\u001b[49m\u001b[43m \u001b[49m\u001b[38;5;241;43m*\u001b[39;49m\u001b[38;5;241;43m*\u001b[39;49m\u001b[43mkwargs\u001b[49m\u001b[43m)\u001b[49m\n\u001b[1;32m     77\u001b[0m \u001b[38;5;28;01mfinally\u001b[39;00m:\n\u001b[1;32m     78\u001b[0m     torch\u001b[38;5;241m.\u001b[39m_dynamo\u001b[38;5;241m.\u001b[39mgraph_break()\n",
      "File \u001b[0;32m~/repos/nlp-usa-presidents/.venv/lib/python3.10/site-packages/torch/optim/adamw.py:188\u001b[0m, in \u001b[0;36mAdamW.step\u001b[0;34m(self, closure)\u001b[0m\n\u001b[1;32m    175\u001b[0m     beta1, beta2 \u001b[38;5;241m=\u001b[39m group[\u001b[38;5;124m\"\u001b[39m\u001b[38;5;124mbetas\u001b[39m\u001b[38;5;124m\"\u001b[39m]\n\u001b[1;32m    177\u001b[0m     has_complex \u001b[38;5;241m=\u001b[39m \u001b[38;5;28mself\u001b[39m\u001b[38;5;241m.\u001b[39m_init_group(\n\u001b[1;32m    178\u001b[0m         group,\n\u001b[1;32m    179\u001b[0m         params_with_grad,\n\u001b[0;32m   (...)\u001b[0m\n\u001b[1;32m    185\u001b[0m         state_steps,\n\u001b[1;32m    186\u001b[0m     )\n\u001b[0;32m--> 188\u001b[0m     \u001b[43madamw\u001b[49m\u001b[43m(\u001b[49m\n\u001b[1;32m    189\u001b[0m \u001b[43m        \u001b[49m\u001b[43mparams_with_grad\u001b[49m\u001b[43m,\u001b[49m\n\u001b[1;32m    190\u001b[0m \u001b[43m        \u001b[49m\u001b[43mgrads\u001b[49m\u001b[43m,\u001b[49m\n\u001b[1;32m    191\u001b[0m \u001b[43m        \u001b[49m\u001b[43mexp_avgs\u001b[49m\u001b[43m,\u001b[49m\n\u001b[1;32m    192\u001b[0m \u001b[43m        \u001b[49m\u001b[43mexp_avg_sqs\u001b[49m\u001b[43m,\u001b[49m\n\u001b[1;32m    193\u001b[0m \u001b[43m        \u001b[49m\u001b[43mmax_exp_avg_sqs\u001b[49m\u001b[43m,\u001b[49m\n\u001b[1;32m    194\u001b[0m \u001b[43m        \u001b[49m\u001b[43mstate_steps\u001b[49m\u001b[43m,\u001b[49m\n\u001b[1;32m    195\u001b[0m \u001b[43m        \u001b[49m\u001b[43mamsgrad\u001b[49m\u001b[38;5;241;43m=\u001b[39;49m\u001b[43mamsgrad\u001b[49m\u001b[43m,\u001b[49m\n\u001b[1;32m    196\u001b[0m \u001b[43m        \u001b[49m\u001b[43mbeta1\u001b[49m\u001b[38;5;241;43m=\u001b[39;49m\u001b[43mbeta1\u001b[49m\u001b[43m,\u001b[49m\n\u001b[1;32m    197\u001b[0m \u001b[43m        \u001b[49m\u001b[43mbeta2\u001b[49m\u001b[38;5;241;43m=\u001b[39;49m\u001b[43mbeta2\u001b[49m\u001b[43m,\u001b[49m\n\u001b[1;32m    198\u001b[0m \u001b[43m        \u001b[49m\u001b[43mlr\u001b[49m\u001b[38;5;241;43m=\u001b[39;49m\u001b[43mgroup\u001b[49m\u001b[43m[\u001b[49m\u001b[38;5;124;43m\"\u001b[39;49m\u001b[38;5;124;43mlr\u001b[39;49m\u001b[38;5;124;43m\"\u001b[39;49m\u001b[43m]\u001b[49m\u001b[43m,\u001b[49m\n\u001b[1;32m    199\u001b[0m \u001b[43m        \u001b[49m\u001b[43mweight_decay\u001b[49m\u001b[38;5;241;43m=\u001b[39;49m\u001b[43mgroup\u001b[49m\u001b[43m[\u001b[49m\u001b[38;5;124;43m\"\u001b[39;49m\u001b[38;5;124;43mweight_decay\u001b[39;49m\u001b[38;5;124;43m\"\u001b[39;49m\u001b[43m]\u001b[49m\u001b[43m,\u001b[49m\n\u001b[1;32m    200\u001b[0m \u001b[43m        \u001b[49m\u001b[43meps\u001b[49m\u001b[38;5;241;43m=\u001b[39;49m\u001b[43mgroup\u001b[49m\u001b[43m[\u001b[49m\u001b[38;5;124;43m\"\u001b[39;49m\u001b[38;5;124;43meps\u001b[39;49m\u001b[38;5;124;43m\"\u001b[39;49m\u001b[43m]\u001b[49m\u001b[43m,\u001b[49m\n\u001b[1;32m    201\u001b[0m \u001b[43m        \u001b[49m\u001b[43mmaximize\u001b[49m\u001b[38;5;241;43m=\u001b[39;49m\u001b[43mgroup\u001b[49m\u001b[43m[\u001b[49m\u001b[38;5;124;43m\"\u001b[39;49m\u001b[38;5;124;43mmaximize\u001b[39;49m\u001b[38;5;124;43m\"\u001b[39;49m\u001b[43m]\u001b[49m\u001b[43m,\u001b[49m\n\u001b[1;32m    202\u001b[0m \u001b[43m        \u001b[49m\u001b[43mforeach\u001b[49m\u001b[38;5;241;43m=\u001b[39;49m\u001b[43mgroup\u001b[49m\u001b[43m[\u001b[49m\u001b[38;5;124;43m\"\u001b[39;49m\u001b[38;5;124;43mforeach\u001b[39;49m\u001b[38;5;124;43m\"\u001b[39;49m\u001b[43m]\u001b[49m\u001b[43m,\u001b[49m\n\u001b[1;32m    203\u001b[0m \u001b[43m        \u001b[49m\u001b[43mcapturable\u001b[49m\u001b[38;5;241;43m=\u001b[39;49m\u001b[43mgroup\u001b[49m\u001b[43m[\u001b[49m\u001b[38;5;124;43m\"\u001b[39;49m\u001b[38;5;124;43mcapturable\u001b[39;49m\u001b[38;5;124;43m\"\u001b[39;49m\u001b[43m]\u001b[49m\u001b[43m,\u001b[49m\n\u001b[1;32m    204\u001b[0m \u001b[43m        \u001b[49m\u001b[43mdifferentiable\u001b[49m\u001b[38;5;241;43m=\u001b[39;49m\u001b[43mgroup\u001b[49m\u001b[43m[\u001b[49m\u001b[38;5;124;43m\"\u001b[39;49m\u001b[38;5;124;43mdifferentiable\u001b[39;49m\u001b[38;5;124;43m\"\u001b[39;49m\u001b[43m]\u001b[49m\u001b[43m,\u001b[49m\n\u001b[1;32m    205\u001b[0m \u001b[43m        \u001b[49m\u001b[43mfused\u001b[49m\u001b[38;5;241;43m=\u001b[39;49m\u001b[43mgroup\u001b[49m\u001b[43m[\u001b[49m\u001b[38;5;124;43m\"\u001b[39;49m\u001b[38;5;124;43mfused\u001b[39;49m\u001b[38;5;124;43m\"\u001b[39;49m\u001b[43m]\u001b[49m\u001b[43m,\u001b[49m\n\u001b[1;32m    206\u001b[0m \u001b[43m        \u001b[49m\u001b[43mgrad_scale\u001b[49m\u001b[38;5;241;43m=\u001b[39;49m\u001b[38;5;28;43mgetattr\u001b[39;49m\u001b[43m(\u001b[49m\u001b[38;5;28;43mself\u001b[39;49m\u001b[43m,\u001b[49m\u001b[43m \u001b[49m\u001b[38;5;124;43m\"\u001b[39;49m\u001b[38;5;124;43mgrad_scale\u001b[39;49m\u001b[38;5;124;43m\"\u001b[39;49m\u001b[43m,\u001b[49m\u001b[43m \u001b[49m\u001b[38;5;28;43;01mNone\u001b[39;49;00m\u001b[43m)\u001b[49m\u001b[43m,\u001b[49m\n\u001b[1;32m    207\u001b[0m \u001b[43m        \u001b[49m\u001b[43mfound_inf\u001b[49m\u001b[38;5;241;43m=\u001b[39;49m\u001b[38;5;28;43mgetattr\u001b[39;49m\u001b[43m(\u001b[49m\u001b[38;5;28;43mself\u001b[39;49m\u001b[43m,\u001b[49m\u001b[43m \u001b[49m\u001b[38;5;124;43m\"\u001b[39;49m\u001b[38;5;124;43mfound_inf\u001b[39;49m\u001b[38;5;124;43m\"\u001b[39;49m\u001b[43m,\u001b[49m\u001b[43m \u001b[49m\u001b[38;5;28;43;01mNone\u001b[39;49;00m\u001b[43m)\u001b[49m\u001b[43m,\u001b[49m\n\u001b[1;32m    208\u001b[0m \u001b[43m        \u001b[49m\u001b[43mhas_complex\u001b[49m\u001b[38;5;241;43m=\u001b[39;49m\u001b[43mhas_complex\u001b[49m\u001b[43m,\u001b[49m\n\u001b[1;32m    209\u001b[0m \u001b[43m    \u001b[49m\u001b[43m)\u001b[49m\n\u001b[1;32m    211\u001b[0m \u001b[38;5;28;01mreturn\u001b[39;00m loss\n",
      "File \u001b[0;32m~/repos/nlp-usa-presidents/.venv/lib/python3.10/site-packages/torch/optim/adamw.py:340\u001b[0m, in \u001b[0;36madamw\u001b[0;34m(params, grads, exp_avgs, exp_avg_sqs, max_exp_avg_sqs, state_steps, foreach, capturable, differentiable, fused, grad_scale, found_inf, has_complex, amsgrad, beta1, beta2, lr, weight_decay, eps, maximize)\u001b[0m\n\u001b[1;32m    337\u001b[0m \u001b[38;5;28;01melse\u001b[39;00m:\n\u001b[1;32m    338\u001b[0m     func \u001b[38;5;241m=\u001b[39m _single_tensor_adamw\n\u001b[0;32m--> 340\u001b[0m \u001b[43mfunc\u001b[49m\u001b[43m(\u001b[49m\n\u001b[1;32m    341\u001b[0m \u001b[43m    \u001b[49m\u001b[43mparams\u001b[49m\u001b[43m,\u001b[49m\n\u001b[1;32m    342\u001b[0m \u001b[43m    \u001b[49m\u001b[43mgrads\u001b[49m\u001b[43m,\u001b[49m\n\u001b[1;32m    343\u001b[0m \u001b[43m    \u001b[49m\u001b[43mexp_avgs\u001b[49m\u001b[43m,\u001b[49m\n\u001b[1;32m    344\u001b[0m \u001b[43m    \u001b[49m\u001b[43mexp_avg_sqs\u001b[49m\u001b[43m,\u001b[49m\n\u001b[1;32m    345\u001b[0m \u001b[43m    \u001b[49m\u001b[43mmax_exp_avg_sqs\u001b[49m\u001b[43m,\u001b[49m\n\u001b[1;32m    346\u001b[0m \u001b[43m    \u001b[49m\u001b[43mstate_steps\u001b[49m\u001b[43m,\u001b[49m\n\u001b[1;32m    347\u001b[0m \u001b[43m    \u001b[49m\u001b[43mamsgrad\u001b[49m\u001b[38;5;241;43m=\u001b[39;49m\u001b[43mamsgrad\u001b[49m\u001b[43m,\u001b[49m\n\u001b[1;32m    348\u001b[0m \u001b[43m    \u001b[49m\u001b[43mbeta1\u001b[49m\u001b[38;5;241;43m=\u001b[39;49m\u001b[43mbeta1\u001b[49m\u001b[43m,\u001b[49m\n\u001b[1;32m    349\u001b[0m \u001b[43m    \u001b[49m\u001b[43mbeta2\u001b[49m\u001b[38;5;241;43m=\u001b[39;49m\u001b[43mbeta2\u001b[49m\u001b[43m,\u001b[49m\n\u001b[1;32m    350\u001b[0m \u001b[43m    \u001b[49m\u001b[43mlr\u001b[49m\u001b[38;5;241;43m=\u001b[39;49m\u001b[43mlr\u001b[49m\u001b[43m,\u001b[49m\n\u001b[1;32m    351\u001b[0m \u001b[43m    \u001b[49m\u001b[43mweight_decay\u001b[49m\u001b[38;5;241;43m=\u001b[39;49m\u001b[43mweight_decay\u001b[49m\u001b[43m,\u001b[49m\n\u001b[1;32m    352\u001b[0m \u001b[43m    \u001b[49m\u001b[43meps\u001b[49m\u001b[38;5;241;43m=\u001b[39;49m\u001b[43meps\u001b[49m\u001b[43m,\u001b[49m\n\u001b[1;32m    353\u001b[0m \u001b[43m    \u001b[49m\u001b[43mmaximize\u001b[49m\u001b[38;5;241;43m=\u001b[39;49m\u001b[43mmaximize\u001b[49m\u001b[43m,\u001b[49m\n\u001b[1;32m    354\u001b[0m \u001b[43m    \u001b[49m\u001b[43mcapturable\u001b[49m\u001b[38;5;241;43m=\u001b[39;49m\u001b[43mcapturable\u001b[49m\u001b[43m,\u001b[49m\n\u001b[1;32m    355\u001b[0m \u001b[43m    \u001b[49m\u001b[43mdifferentiable\u001b[49m\u001b[38;5;241;43m=\u001b[39;49m\u001b[43mdifferentiable\u001b[49m\u001b[43m,\u001b[49m\n\u001b[1;32m    356\u001b[0m \u001b[43m    \u001b[49m\u001b[43mgrad_scale\u001b[49m\u001b[38;5;241;43m=\u001b[39;49m\u001b[43mgrad_scale\u001b[49m\u001b[43m,\u001b[49m\n\u001b[1;32m    357\u001b[0m \u001b[43m    \u001b[49m\u001b[43mfound_inf\u001b[49m\u001b[38;5;241;43m=\u001b[39;49m\u001b[43mfound_inf\u001b[49m\u001b[43m,\u001b[49m\n\u001b[1;32m    358\u001b[0m \u001b[43m    \u001b[49m\u001b[43mhas_complex\u001b[49m\u001b[38;5;241;43m=\u001b[39;49m\u001b[43mhas_complex\u001b[49m\u001b[43m,\u001b[49m\n\u001b[1;32m    359\u001b[0m \u001b[43m\u001b[49m\u001b[43m)\u001b[49m\n",
      "File \u001b[0;32m~/repos/nlp-usa-presidents/.venv/lib/python3.10/site-packages/torch/optim/adamw.py:419\u001b[0m, in \u001b[0;36m_single_tensor_adamw\u001b[0;34m(params, grads, exp_avgs, exp_avg_sqs, max_exp_avg_sqs, state_steps, grad_scale, found_inf, amsgrad, beta1, beta2, lr, weight_decay, eps, maximize, capturable, differentiable, has_complex)\u001b[0m\n\u001b[1;32m    416\u001b[0m param\u001b[38;5;241m.\u001b[39mmul_(\u001b[38;5;241m1\u001b[39m \u001b[38;5;241m-\u001b[39m lr \u001b[38;5;241m*\u001b[39m weight_decay)\n\u001b[1;32m    418\u001b[0m \u001b[38;5;66;03m# Decay the first and second moment running average coefficient\u001b[39;00m\n\u001b[0;32m--> 419\u001b[0m \u001b[43mexp_avg\u001b[49m\u001b[38;5;241;43m.\u001b[39;49m\u001b[43mlerp_\u001b[49m\u001b[43m(\u001b[49m\u001b[43mgrad\u001b[49m\u001b[43m,\u001b[49m\u001b[43m \u001b[49m\u001b[38;5;241;43m1\u001b[39;49m\u001b[43m \u001b[49m\u001b[38;5;241;43m-\u001b[39;49m\u001b[43m \u001b[49m\u001b[43mbeta1\u001b[49m\u001b[43m)\u001b[49m\n\u001b[1;32m    420\u001b[0m exp_avg_sq\u001b[38;5;241m.\u001b[39mmul_(beta2)\u001b[38;5;241m.\u001b[39maddcmul_(grad, grad, value\u001b[38;5;241m=\u001b[39m\u001b[38;5;241m1\u001b[39m \u001b[38;5;241m-\u001b[39m beta2)\n\u001b[1;32m    422\u001b[0m \u001b[38;5;28;01mif\u001b[39;00m capturable \u001b[38;5;129;01mor\u001b[39;00m differentiable:\n",
      "\u001b[0;31mKeyboardInterrupt\u001b[0m: "
     ]
    }
   ],
   "source": [
    "models[2].fit(X_train, y_train, X_test, y_test)"
   ]
  },
  {
   "cell_type": "code",
   "execution_count": 33,
   "id": "669e204b",
   "metadata": {},
   "outputs": [
    {
     "name": "stdout",
     "output_type": "stream",
     "text": [
      "<class 'src.classification.my_naive_bayes.MyNaiveBayes'>\n",
      "Classification Report:\n",
      "               precision    recall  f1-score   support\n",
      "\n",
      "Barack Obama       0.77      0.95      0.85      1362\n",
      "Donald Trump       0.99      0.91      0.95      9345\n",
      "   Joe Biden       0.69      0.92      0.79      1210\n",
      "\n",
      "    accuracy                           0.92     11917\n",
      "   macro avg       0.82      0.93      0.86     11917\n",
      "weighted avg       0.94      0.92      0.92     11917\n",
      "\n",
      "<class 'src.classification.my_logistic_regression.MyLogisticRegression'>\n",
      "Classification Report:\n",
      "               precision    recall  f1-score   support\n",
      "\n",
      "Barack Obama       0.99      0.96      0.98      1362\n",
      "Donald Trump       0.98      1.00      0.99      9345\n",
      "   Joe Biden       0.95      0.87      0.91      1210\n",
      "\n",
      "    accuracy                           0.98     11917\n",
      "   macro avg       0.97      0.94      0.96     11917\n",
      "weighted avg       0.98      0.98      0.98     11917\n",
      "\n",
      "<class 'src.classification.my_fnn_torch.MyFnnTorch'>\n",
      "Classification Report:\n",
      "               precision    recall  f1-score   support\n",
      "\n",
      "Barack Obama       0.63      0.84      0.72      1362\n",
      "Donald Trump       0.91      0.97      0.94      9345\n",
      "   Joe Biden       0.42      0.03      0.06      1210\n",
      "\n",
      "    accuracy                           0.86     11917\n",
      "   macro avg       0.65      0.62      0.57     11917\n",
      "weighted avg       0.83      0.86      0.82     11917\n",
      "\n"
     ]
    }
   ],
   "source": [
    "def evaluation(model : List[MyModel]):\n",
    "    print(model.__class__)\n",
    "    y_pred = model.predict(X_test)\n",
    "    print(\"Classification Report:\\n\", classification_report(y_test, y_pred))\n",
    "    d = classification_report(y_test, y_pred, output_dict=True)\n",
    "    timer_manager.fill([str(model.__class__), model.hps, \"classification_report\"], d)\n",
    "\n",
    "def evaluation_all(models : List[MyModel]):\n",
    "    for model in models:\n",
    "        evaluation(model)\n",
    "\n",
    "evaluation_all(models)"
   ]
  },
  {
   "cell_type": "markdown",
   "id": "6ce4c1b4",
   "metadata": {},
   "source": [
    "### Confusion Matrix"
   ]
  },
  {
   "cell_type": "code",
   "execution_count": 34,
   "id": "35d127ca",
   "metadata": {},
   "outputs": [
    {
     "name": "stdout",
     "output_type": "stream",
     "text": [
      "<class 'src.classification.my_naive_bayes.MyNaiveBayes'>\n"
     ]
    },
    {
     "data": {
      "image/png": "[encoded data removed]",
      "text/plain": [
       "<Figure size 640x480 with 2 Axes>"
      ]
     },
     "metadata": {},
     "output_type": "display_data"
    },
    {
     "name": "stdout",
     "output_type": "stream",
     "text": [
      "<class 'src.classification.my_logistic_regression.MyLogisticRegression'>\n"
     ]
    },
    {
     "data": {
      "image/png": "[encoded data removed]",
      "text/plain": [
       "<Figure size 640x480 with 2 Axes>"
      ]
     },
     "metadata": {},
     "output_type": "display_data"
    },
    {
     "name": "stdout",
     "output_type": "stream",
     "text": [
      "<class 'src.classification.my_fnn_torch.MyFnnTorch'>\n"
     ]
    },
    {
     "data": {
      "image/png": "[encoded data removed]",
      "text/plain": [
       "<Figure size 640x480 with 2 Axes>"
      ]
     },
     "metadata": {},
     "output_type": "display_data"
    }
   ],
   "source": [
    "DIR = \"./tmp/cm\"\n",
    "os.makedirs(DIR, exist_ok=True)\n",
    "def evaluation_cm(model : MyModel):\n",
    "    print(model.__class__)\n",
    "    y_pred = model.predict(X_test)\n",
    "\n",
    "    cm = confusion_matrix(y_test, y_pred)\n",
    "\n",
    "    disp = ConfusionMatrixDisplay(confusion_matrix=cm, display_labels=model.classes())\n",
    "    disp.plot()\n",
    "    namefile = str(model.__class__) + \"_\".join(f\"[{name}:{e}]\" for name, e in model.hps.items()) +\".png\"\n",
    "    plt.savefig(os.path.join(DIR, namefile))\n",
    "    plt.show()\n",
    "\n",
    "def evaluation_cm_all(models : List[MyModel]):\n",
    "    for model in models:\n",
    "        evaluation_cm(model)\n",
    " \n",
    "evaluation_cm_all(models)"
   ]
  },
  {
   "cell_type": "markdown",
   "id": "0fa35c73",
   "metadata": {},
   "source": [
    "## Explicability"
   ]
  },
  {
   "cell_type": "code",
   "execution_count": 37,
   "id": "5e406f1f",
   "metadata": {},
   "outputs": [],
   "source": [
    "model = models[0]\n",
    "df[\"pred\"] = model.predict(X)"
   ]
  },
  {
   "cell_type": "code",
   "execution_count": 38,
   "id": "8a1859f2",
   "metadata": {},
   "outputs": [
    {
     "data": {
      "text/plain": [
       "('WE ARE MAKING BIG PROGRESS. RESULTS START TO COME IN NEXT WEEK. MAKE AMERICA GREAT AGAIN!',\n",
       " 'Donald Trump')"
      ]
     },
     "execution_count": 38,
     "metadata": {},
     "output_type": "execute_result"
    }
   ],
   "source": [
    "dfp2 = df.copy()\n",
    "b = True\n",
    "if b:\n",
    "    true_label = \"Donald Trump\"\n",
    "    pred_label = \"Joe Biden\"\n",
    "    dfp2 = dfp2[dfp2[\"name\"] == true_label]\n",
    "    dfp2 = dfp2[dfp2[\"pred\"] == pred_label]\n",
    "\n",
    "if not b:\n",
    "    dfp2 = dfp2[dfp2[\"text\"].str.contains(\"week\")]\n",
    "    print(dfp2.groupby(by=\"name\").count())\n",
    "\n",
    "sample = dfp2.iloc[7]\n",
    "text = sample[\"text\"]\n",
    "name = sample[\"name\"]\n",
    "text, name"
   ]
  },
  {
   "cell_type": "code",
   "execution_count": 39,
   "id": "3289d013",
   "metadata": {},
   "outputs": [
    {
     "data": {
      "text/plain": [
       "array([[3.21919677e-04, 1.41534206e-01, 8.58143874e-01]])"
      ]
     },
     "execution_count": 39,
     "metadata": {},
     "output_type": "execute_result"
    }
   ],
   "source": [
    "predict_proba = model.model.predict_proba\n",
    "predict_proba([text])"
   ]
  },
  {
   "cell_type": "code",
   "execution_count": 40,
   "id": "342251bf",
   "metadata": {},
   "outputs": [
    {
     "name": "stderr",
     "output_type": "stream",
     "text": [
      "/home/secouss/repos/nlp-usa-presidents/.venv/lib/python3.10/site-packages/sklearn/linear_model/_stochastic_gradient.py:173: FutureWarning: The loss 'log' was deprecated in v1.1 and will be removed in version 1.3. Use `loss='log_loss'` which is equivalent.\n",
      "  warnings.warn(\n",
      "/home/secouss/repos/nlp-usa-presidents/.venv/lib/python3.10/site-packages/sklearn/utils/deprecation.py:87: FutureWarning: Function get_feature_names is deprecated; get_feature_names is deprecated in 1.0 and will be removed in 1.2. Please use get_feature_names_out instead.\n",
      "  warnings.warn(msg, category=FutureWarning)\n"
     ]
    },
    {
     "data": {
      "text/html": [
       "\n",
       "    <style>\n",
       "    table.eli5-weights tr:hover {\n",
       "        filter: brightness(85%);\n",
       "    }\n",
       "</style>\n",
       "\n",
       "\n",
       "\n",
       "    \n",
       "\n",
       "    \n",
       "\n",
       "    \n",
       "\n",
       "    \n",
       "\n",
       "    \n",
       "\n",
       "    \n",
       "\n",
       "\n",
       "    \n",
       "\n",
       "    \n",
       "\n",
       "    \n",
       "\n",
       "    \n",
       "        \n",
       "\n",
       "    \n",
       "\n",
       "    \n",
       "        \n",
       "    \n",
       "        \n",
       "        \n",
       "    \n",
       "        <p style=\"margin-bottom: 0.5em; margin-top: 0em\">\n",
       "            <b>\n",
       "    \n",
       "        y=Barack Obama\n",
       "    \n",
       "</b>\n",
       "\n",
       "    \n",
       "    (probability <b>0.000</b>, score <b>-13.487</b>)\n",
       "\n",
       "top features\n",
       "        </p>\n",
       "    \n",
       "    <table class=\"eli5-weights\"\n",
       "           style=\"border-collapse: collapse; border: none; margin-top: 0em; table-layout: auto; margin-bottom: 2em;\">\n",
       "        <thead>\n",
       "        <tr style=\"border: none;\">\n",
       "            \n",
       "                <th style=\"padding: 0 1em 0 0.5em; text-align: right; border: none;\" title=\"Feature contribution already accounts for the feature value (for linear models, contribution = weight * feature value), and the sum of feature contributions is equal to the score or, for some classifiers, to the probability. Feature values are shown if &quot;show_feature_values&quot; is True.\">\n",
       "                    Contribution<sup>?</sup>\n",
       "                </th>\n",
       "            \n",
       "            <th style=\"padding: 0 0.5em 0 0.5em; text-align: left; border: none;\">Feature</th>\n",
       "            \n",
       "        </tr>\n",
       "        </thead>\n",
       "        <tbody>\n",
       "        \n",
       "        \n",
       "\n",
       "        \n",
       "        \n",
       "            <tr style=\"background-color: hsl(0, 100.00%, 97.76%); border: none;\">\n",
       "    <td style=\"padding: 0 1em 0 0.5em; text-align: right; border: none;\">\n",
       "        -0.568\n",
       "    </td>\n",
       "    <td style=\"padding: 0 0.5em 0 0.5em; text-align: left; border: none;\">\n",
       "        &lt;BIAS&gt;\n",
       "    </td>\n",
       "    \n",
       "</tr>\n",
       "        \n",
       "            <tr style=\"background-color: hsl(0, 100.00%, 80.00%); border: none;\">\n",
       "    <td style=\"padding: 0 1em 0 0.5em; text-align: right; border: none;\">\n",
       "        -12.919\n",
       "    </td>\n",
       "    <td style=\"padding: 0 0.5em 0 0.5em; text-align: left; border: none;\">\n",
       "        Highlighted in text (sum)\n",
       "    </td>\n",
       "    \n",
       "</tr>\n",
       "        \n",
       "\n",
       "        </tbody>\n",
       "    </table>\n",
       "\n",
       "    \n",
       "\n",
       "\n",
       "\n",
       "    <p style=\"margin-bottom: 2.5em; margin-top:-0.5em;\">\n",
       "        <span style=\"background-color: hsl(0, 100.00%, 84.82%); opacity: 0.85\" title=\"-0.697\">we</span><span style=\"opacity: 0.80\"> </span><span style=\"background-color: hsl(0, 100.00%, 81.85%); opacity: 0.86\" title=\"-0.900\">are</span><span style=\"opacity: 0.80\"> </span><span style=\"background-color: hsl(0, 100.00%, 84.18%); opacity: 0.85\" title=\"-0.739\">making</span><span style=\"opacity: 0.80\"> </span><span style=\"background-color: hsl(0, 100.00%, 82.82%); opacity: 0.86\" title=\"-0.832\">big</span><span style=\"opacity: 0.80\"> </span><span style=\"background-color: hsl(0, 100.00%, 84.17%); opacity: 0.85\" title=\"-0.740\">progress</span><span style=\"opacity: 0.80\">. </span><span style=\"background-color: hsl(0, 100.00%, 80.55%); opacity: 0.87\" title=\"-0.993\">results</span><span style=\"opacity: 0.80\"> </span><span style=\"background-color: hsl(0, 100.00%, 85.25%); opacity: 0.85\" title=\"-0.669\">start</span><span style=\"opacity: 0.80\"> </span><span style=\"background-color: hsl(0, 100.00%, 82.77%); opacity: 0.86\" title=\"-0.835\">to</span><span style=\"opacity: 0.80\"> </span><span style=\"background-color: hsl(0, 100.00%, 83.29%); opacity: 0.86\" title=\"-0.800\">come</span><span style=\"opacity: 0.80\"> </span><span style=\"background-color: hsl(0, 100.00%, 82.71%); opacity: 0.86\" title=\"-0.840\">in</span><span style=\"opacity: 0.80\"> </span><span style=\"background-color: hsl(0, 100.00%, 84.10%); opacity: 0.85\" title=\"-0.745\">next</span><span style=\"opacity: 0.80\"> </span><span style=\"background-color: hsl(0, 100.00%, 83.68%); opacity: 0.86\" title=\"-0.773\">week</span><span style=\"opacity: 0.80\">. </span><span style=\"background-color: hsl(0, 100.00%, 83.86%); opacity: 0.85\" title=\"-0.761\">make</span><span style=\"opacity: 0.80\"> </span><span style=\"background-color: hsl(0, 100.00%, 83.96%); opacity: 0.85\" title=\"-0.754\">america</span><span style=\"opacity: 0.80\"> </span><span style=\"background-color: hsl(0, 100.00%, 81.16%); opacity: 0.87\" title=\"-0.949\">great</span><span style=\"opacity: 0.80\"> </span><span style=\"background-color: hsl(0, 100.00%, 81.97%); opacity: 0.86\" title=\"-0.891\">again</span><span style=\"opacity: 0.80\">!</span>\n",
       "    </p>\n",
       "\n",
       "    \n",
       "        \n",
       "    \n",
       "        \n",
       "        \n",
       "    \n",
       "        <p style=\"margin-bottom: 0.5em; margin-top: 0em\">\n",
       "            <b>\n",
       "    \n",
       "        y=Donald Trump\n",
       "    \n",
       "</b>\n",
       "\n",
       "    \n",
       "    (probability <b>0.268</b>, score <b>-0.948</b>)\n",
       "\n",
       "top features\n",
       "        </p>\n",
       "    \n",
       "    <table class=\"eli5-weights\"\n",
       "           style=\"border-collapse: collapse; border: none; margin-top: 0em; table-layout: auto; margin-bottom: 2em;\">\n",
       "        <thead>\n",
       "        <tr style=\"border: none;\">\n",
       "            \n",
       "                <th style=\"padding: 0 1em 0 0.5em; text-align: right; border: none;\" title=\"Feature contribution already accounts for the feature value (for linear models, contribution = weight * feature value), and the sum of feature contributions is equal to the score or, for some classifiers, to the probability. Feature values are shown if &quot;show_feature_values&quot; is True.\">\n",
       "                    Contribution<sup>?</sup>\n",
       "                </th>\n",
       "            \n",
       "            <th style=\"padding: 0 0.5em 0 0.5em; text-align: left; border: none;\">Feature</th>\n",
       "            \n",
       "        </tr>\n",
       "        </thead>\n",
       "        <tbody>\n",
       "        \n",
       "            <tr style=\"background-color: hsl(120, 100.00%, 96.30%); border: none;\">\n",
       "    <td style=\"padding: 0 1em 0 0.5em; text-align: right; border: none;\">\n",
       "        +1.158\n",
       "    </td>\n",
       "    <td style=\"padding: 0 0.5em 0 0.5em; text-align: left; border: none;\">\n",
       "        &lt;BIAS&gt;\n",
       "    </td>\n",
       "    \n",
       "</tr>\n",
       "        \n",
       "        \n",
       "\n",
       "        \n",
       "        \n",
       "            <tr style=\"background-color: hsl(0, 100.00%, 94.38%); border: none;\">\n",
       "    <td style=\"padding: 0 1em 0 0.5em; text-align: right; border: none;\">\n",
       "        -2.106\n",
       "    </td>\n",
       "    <td style=\"padding: 0 0.5em 0 0.5em; text-align: left; border: none;\">\n",
       "        Highlighted in text (sum)\n",
       "    </td>\n",
       "    \n",
       "</tr>\n",
       "        \n",
       "\n",
       "        </tbody>\n",
       "    </table>\n",
       "\n",
       "    \n",
       "\n",
       "\n",
       "\n",
       "    <p style=\"margin-bottom: 2.5em; margin-top:-0.5em;\">\n",
       "        <span style=\"background-color: hsl(0, 100.00%, 79.52%); opacity: 0.88\" title=\"-1.069\">we</span><span style=\"opacity: 0.80\"> </span><span style=\"background-color: hsl(0, 100.00%, 79.72%); opacity: 0.88\" title=\"-1.054\">are</span><span style=\"opacity: 0.80\"> </span><span style=\"background-color: hsl(0, 100.00%, 81.25%); opacity: 0.87\" title=\"-0.943\">making</span><span style=\"opacity: 0.80\"> </span><span style=\"background-color: hsl(0, 100.00%, 87.77%); opacity: 0.84\" title=\"-0.512\">big</span><span style=\"opacity: 0.80\"> </span><span style=\"background-color: hsl(0, 100.00%, 60.55%); opacity: 1.00\" title=\"-2.729\">progress</span><span style=\"opacity: 0.80\">. </span><span style=\"background-color: hsl(0, 100.00%, 81.97%); opacity: 0.86\" title=\"-0.891\">results</span><span style=\"opacity: 0.80\"> </span><span style=\"background-color: hsl(0, 100.00%, 76.63%); opacity: 0.89\" title=\"-1.291\">start</span><span style=\"opacity: 0.80\"> </span><span style=\"background-color: hsl(0, 100.00%, 74.75%); opacity: 0.90\" title=\"-1.442\">to</span><span style=\"opacity: 0.80\"> </span><span style=\"background-color: hsl(0, 100.00%, 74.97%); opacity: 0.90\" title=\"-1.425\">come</span><span style=\"opacity: 0.80\"> </span><span style=\"background-color: hsl(0, 100.00%, 76.96%); opacity: 0.89\" title=\"-1.266\">in</span><span style=\"opacity: 0.80\"> </span><span style=\"background-color: hsl(0, 100.00%, 78.70%); opacity: 0.88\" title=\"-1.131\">next</span><span style=\"opacity: 0.80\"> </span><span style=\"background-color: hsl(0, 100.00%, 62.63%); opacity: 0.98\" title=\"-2.525\">week</span><span style=\"opacity: 0.80\">. </span><span style=\"background-color: hsl(0, 100.00%, 75.01%); opacity: 0.90\" title=\"-1.421\">make</span><span style=\"opacity: 0.80\"> </span><span style=\"background-color: hsl(0, 100.00%, 77.80%); opacity: 0.89\" title=\"-1.200\">america</span><span style=\"opacity: 0.80\"> </span><span style=\"background-color: hsl(120, 100.00%, 91.26%); opacity: 0.82\" title=\"0.317\">great</span><span style=\"opacity: 0.80\"> </span><span style=\"background-color: hsl(120, 100.00%, 96.28%); opacity: 0.81\" title=\"0.093\">again</span><span style=\"opacity: 0.80\">!</span>\n",
       "    </p>\n",
       "\n",
       "    \n",
       "        \n",
       "    \n",
       "        \n",
       "        \n",
       "    \n",
       "        <p style=\"margin-bottom: 0.5em; margin-top: 0em\">\n",
       "            <b>\n",
       "    \n",
       "        y=Joe Biden\n",
       "    \n",
       "</b>\n",
       "\n",
       "    \n",
       "    (probability <b>0.732</b>, score <b>1.160</b>)\n",
       "\n",
       "top features\n",
       "        </p>\n",
       "    \n",
       "    <table class=\"eli5-weights\"\n",
       "           style=\"border-collapse: collapse; border: none; margin-top: 0em; table-layout: auto; margin-bottom: 2em;\">\n",
       "        <thead>\n",
       "        <tr style=\"border: none;\">\n",
       "            \n",
       "                <th style=\"padding: 0 1em 0 0.5em; text-align: right; border: none;\" title=\"Feature contribution already accounts for the feature value (for linear models, contribution = weight * feature value), and the sum of feature contributions is equal to the score or, for some classifiers, to the probability. Feature values are shown if &quot;show_feature_values&quot; is True.\">\n",
       "                    Contribution<sup>?</sup>\n",
       "                </th>\n",
       "            \n",
       "            <th style=\"padding: 0 0.5em 0 0.5em; text-align: left; border: none;\">Feature</th>\n",
       "            \n",
       "        </tr>\n",
       "        </thead>\n",
       "        <tbody>\n",
       "        \n",
       "            <tr style=\"background-color: hsl(120, 100.00%, 94.12%); border: none;\">\n",
       "    <td style=\"padding: 0 1em 0 0.5em; text-align: right; border: none;\">\n",
       "        +2.248\n",
       "    </td>\n",
       "    <td style=\"padding: 0 0.5em 0 0.5em; text-align: left; border: none;\">\n",
       "        Highlighted in text (sum)\n",
       "    </td>\n",
       "    \n",
       "</tr>\n",
       "        \n",
       "        \n",
       "\n",
       "        \n",
       "        \n",
       "            <tr style=\"background-color: hsl(0, 100.00%, 96.46%); border: none;\">\n",
       "    <td style=\"padding: 0 1em 0 0.5em; text-align: right; border: none;\">\n",
       "        -1.087\n",
       "    </td>\n",
       "    <td style=\"padding: 0 0.5em 0 0.5em; text-align: left; border: none;\">\n",
       "        &lt;BIAS&gt;\n",
       "    </td>\n",
       "    \n",
       "</tr>\n",
       "        \n",
       "\n",
       "        </tbody>\n",
       "    </table>\n",
       "\n",
       "    \n",
       "\n",
       "\n",
       "\n",
       "    <p style=\"margin-bottom: 2.5em; margin-top:-0.5em;\">\n",
       "        <span style=\"background-color: hsl(120, 100.00%, 79.39%); opacity: 0.88\" title=\"1.079\">we</span><span style=\"opacity: 0.80\"> </span><span style=\"background-color: hsl(120, 100.00%, 79.60%); opacity: 0.88\" title=\"1.063\">are</span><span style=\"opacity: 0.80\"> </span><span style=\"background-color: hsl(120, 100.00%, 80.87%); opacity: 0.87\" title=\"0.970\">making</span><span style=\"opacity: 0.80\"> </span><span style=\"background-color: hsl(120, 100.00%, 86.56%); opacity: 0.84\" title=\"0.586\">big</span><span style=\"opacity: 0.80\"> </span><span style=\"background-color: hsl(120, 100.00%, 60.00%); opacity: 1.00\" title=\"2.783\">progress</span><span style=\"opacity: 0.80\">. </span><span style=\"background-color: hsl(120, 100.00%, 80.62%); opacity: 0.87\" title=\"0.988\">results</span><span style=\"opacity: 0.80\"> </span><span style=\"background-color: hsl(120, 100.00%, 76.53%); opacity: 0.89\" title=\"1.300\">start</span><span style=\"opacity: 0.80\"> </span><span style=\"background-color: hsl(120, 100.00%, 75.10%); opacity: 0.90\" title=\"1.413\">to</span><span style=\"opacity: 0.80\"> </span><span style=\"background-color: hsl(120, 100.00%, 75.32%); opacity: 0.90\" title=\"1.396\">come</span><span style=\"opacity: 0.80\"> </span><span style=\"background-color: hsl(120, 100.00%, 76.64%); opacity: 0.89\" title=\"1.291\">in</span><span style=\"opacity: 0.80\"> </span><span style=\"background-color: hsl(120, 100.00%, 78.29%); opacity: 0.88\" title=\"1.162\">next</span><span style=\"opacity: 0.80\"> </span><span style=\"background-color: hsl(120, 100.00%, 62.37%); opacity: 0.98\" title=\"2.550\">week</span><span style=\"opacity: 0.80\">. </span><span style=\"background-color: hsl(120, 100.00%, 74.53%); opacity: 0.90\" title=\"1.460\">make</span><span style=\"opacity: 0.80\"> </span><span style=\"background-color: hsl(120, 100.00%, 77.34%); opacity: 0.89\" title=\"1.236\">america</span><span style=\"opacity: 0.80\"> </span><span style=\"background-color: hsl(0, 100.00%, 91.75%); opacity: 0.82\" title=\"-0.292\">great</span><span style=\"opacity: 0.80\"> </span><span style=\"background-color: hsl(0, 100.00%, 96.72%); opacity: 0.81\" title=\"-0.078\">again</span><span style=\"opacity: 0.80\">!</span>\n",
       "    </p>\n",
       "\n",
       "    \n",
       "\n",
       "\n",
       "    \n",
       "\n",
       "    \n",
       "\n",
       "    \n",
       "\n",
       "\n",
       "    \n",
       "\n",
       "    \n",
       "\n",
       "    \n",
       "\n",
       "    \n",
       "\n",
       "    \n",
       "\n",
       "    \n",
       "\n",
       "\n",
       "    \n",
       "\n",
       "    \n",
       "\n",
       "    \n",
       "\n",
       "    \n",
       "\n",
       "    \n",
       "\n",
       "    \n",
       "\n",
       "\n",
       "\n"
      ],
      "text/plain": [
       "<IPython.core.display.HTML object>"
      ]
     },
     "execution_count": 40,
     "metadata": {},
     "output_type": "execute_result"
    }
   ],
   "source": [
    "te = TextExplainer(random_state=42, n_samples=5000)\n",
    "te.fit(text, lambda X : predict_proba(X))\n",
    "te.show_prediction(target_names=list(model.classes()))"
   ]
  }
 ],
 "metadata": {
  "kernelspec": {
   "display_name": "Python 3 (ipykernel)",
   "language": "python",
   "name": "python3"
  },
  "language_info": {
   "codemirror_mode": {
    "name": "ipython",
    "version": 3
   },
   "file_extension": ".py",
   "mimetype": "text/x-python",
   "name": "python",
   "nbconvert_exporter": "python",
   "pygments_lexer": "ipython3",
   "version": "3.10.14"
  }
 },
 "nbformat": 4,
 "nbformat_minor": 5
}
