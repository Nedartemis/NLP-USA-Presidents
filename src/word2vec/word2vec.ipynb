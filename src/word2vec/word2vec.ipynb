{
 "cells": [
  {
   "cell_type": "markdown",
   "id": "d508c288-9627-4bef-bd0c-9297018a0b7a",
   "metadata": {},
   "source": [
    "# Import"
   ]
  },
  {
   "cell_type": "code",
   "execution_count": 2,
   "id": "b97ac3ef-c97c-424d-bb20-6e729b519b8d",
   "metadata": {},
   "outputs": [],
   "source": [
    "from word2vec import create_model_word2vec\n",
    "import os\n",
    "import pandas as pd\n",
    "from scipy.stats import spearmanr"
   ]
  },
  {
   "cell_type": "markdown",
   "id": "7a182450-4a84-4606-aa2a-40414d9ac4e5",
   "metadata": {},
   "source": [
    "# Create word2vec model"
   ]
  },
  {
   "cell_type": "code",
   "execution_count": 3,
   "id": "788afa38-6dc5-4f62-8ca6-fd5ca505b058",
   "metadata": {},
   "outputs": [
    {
     "name": "stdout",
     "output_type": "stream",
     "text": [
      "begin of Tokenisation\n",
      "2424890\n",
      "End of Tokenisation\n",
      "begin train\n",
      "Epoch #1 end\n",
      "Epoch #2 end\n",
      "Epoch #3 end\n",
      "Epoch #4 end\n",
      "Epoch #5 end\n",
      "Epoch #6 end\n",
      "Epoch #7 end\n",
      "Epoch #8 end\n",
      "Epoch #9 end\n",
      "Epoch #10 end\n",
      "Epoch #11 end\n",
      "Epoch #12 end\n",
      "Epoch #13 end\n",
      "Epoch #14 end\n",
      "Epoch #15 end\n",
      "Epoch #16 end\n",
      "Epoch #17 end\n",
      "Epoch #18 end\n",
      "Epoch #19 end\n",
      "Epoch #20 end\n",
      "Epoch #21 end\n",
      "Epoch #22 end\n",
      "Epoch #23 end\n",
      "Epoch #24 end\n",
      "Epoch #25 end\n",
      "Epoch #26 end\n",
      "Epoch #27 end\n",
      "Epoch #28 end\n",
      "Epoch #29 end\n",
      "Epoch #30 end\n",
      "Epoch #31 end\n",
      "Epoch #32 end\n",
      "Epoch #33 end\n",
      "Epoch #34 end\n",
      "Epoch #35 end\n",
      "Epoch #36 end\n",
      "Epoch #37 end\n",
      "Epoch #38 end\n",
      "Epoch #39 end\n",
      "Epoch #40 end\n",
      "Epoch #41 end\n",
      "Epoch #42 end\n",
      "Epoch #43 end\n",
      "Epoch #44 end\n",
      "Epoch #45 end\n",
      "Epoch #46 end\n",
      "Epoch #47 end\n",
      "Epoch #48 end\n",
      "Epoch #49 end\n",
      "Epoch #50 end\n",
      "93.93911790847778\n"
     ]
    }
   ],
   "source": [
    "files = [\n",
    "        \"BarackObamaSpeeches.csv\",\n",
    "        \"BarackObamaTweets.csv\",\n",
    "        \"BarackObamaDebates.csv\",\n",
    "        \"DonaldTrumpDebates.csv\",\n",
    "        \"DonaldTrumpspeeches.csv\",\n",
    "        \"DonaldTrumpTweets.csv\",\n",
    "        \"JoeBidenSpeeches.csv\",\n",
    "        \"JoeBidenTweets.csv\",\n",
    "    ]\n",
    "files = [os.path.join(\"../../corpus/resources/\", f) for f in files]\n",
    "\n",
    "model = create_model_word2vec(files, vector_size=300, epochs=50, min_count=5, window=10, workers = 4)\n",
    "\n",
    "model.save(\"word2vec.model\")"
   ]
  },
  {
   "cell_type": "markdown",
   "id": "87c24475-9c29-4d44-914e-db8c7d483684",
   "metadata": {},
   "source": [
    "# simliarity of word"
   ]
  },
  {
   "cell_type": "code",
   "execution_count": 13,
   "id": "815f5aac-a79d-40f7-a06d-e2ab912f68ca",
   "metadata": {},
   "outputs": [
    {
     "name": "stdout",
     "output_type": "stream",
     "text": [
      "Mots similaires à women\n",
      "           Mot  Similarité\n",
      "0   minorities    0.335483\n",
      "1          men    0.331253\n",
      "2    americans    0.325505\n",
      "3       heroes    0.280392\n",
      "4      workers    0.272831\n",
      "5  protections    0.264909\n",
      "6  individuals    0.262642\n",
      "7        woman    0.261683\n",
      "8       blacks    0.260642\n",
      "9   servicemen    0.253903\n"
     ]
    }
   ],
   "source": [
    "word = 'women'\n",
    "\n",
    "similar_words = model.wv.most_similar(word)\n",
    "similar_words_df = pd.DataFrame(similar_words, columns=['Mot', 'Similarité'])\n",
    "print(\"Mots similaires à\", word)\n",
    "print(similar_words_df)"
   ]
  },
  {
   "cell_type": "markdown",
   "id": "46371e13-9929-4c5f-b68a-c7d2cd4b9f3a",
   "metadata": {},
   "source": [
    "# Operation analogic"
   ]
  },
  {
   "cell_type": "code",
   "execution_count": 47,
   "id": "6de08456-ded4-44bb-b56f-5c7a2e210732",
   "metadata": {},
   "outputs": [
    {
     "name": "stdout",
     "output_type": "stream",
     "text": [
      "this operation is similar to person\n"
     ]
    }
   ],
   "source": [
    "result = model.wv.most_similar(positive=['man', 'god'],topn=1)\n",
    "\n",
    "print('this operation is similar to', result[0][0])"
   ]
  },
  {
   "cell_type": "code",
   "execution_count": 33,
   "id": "6769cb61-25c6-4bec-a86c-a9ee21f1a516",
   "metadata": {},
   "outputs": [
    {
     "data": {
      "text/plain": [
       "0.3733614523273505"
      ]
     },
     "execution_count": 33,
     "metadata": {},
     "output_type": "execute_result"
    }
   ],
   "source": [
    "# get data of WordSim-353\n",
    "word_pairs = []\n",
    "with open(\"evaluation/wordsim353.csv\", \"r\") as f:\n",
    "    for line in f.readlines()[1:]:  # Ignorer l'en-tête\n",
    "        word1, word2, similarity = line.strip().split(\",\")\n",
    "        word_pairs.append((word1, word2, float(similarity)))\n",
    "\n",
    "# Calcul the similarity of words with the model Word2Vec\n",
    "model_similarities = []\n",
    "human_similarities = []\n",
    "for word1, word2, human_similarity in word_pairs:\n",
    "    try:\n",
    "        model_similarity = model.wv.similarity(word1, word2)\n",
    "        # Normalisation des valeurs de similarité du modèle dans la plage 0-10\n",
    "        normalized_model_similarity = (model_similarity + 1) * 5\n",
    "        model_similarities.append(normalized_model_similarity)\n",
    "        human_similarities.append(human_similarity)\n",
    "    except KeyError:\n",
    "        pass \n",
    "\n",
    "# coefficient corrélation Spearman\n",
    "spearman_correlation, _ = spearmanr(model_similarities, human_similarities)\n",
    "spearman_correlation"
   ]
  },
  {
   "cell_type": "code",
   "execution_count": null,
   "id": "3191b432-8f5e-4bc4-acb8-521c2637fbc2",
   "metadata": {},
   "outputs": [],
   "source": []
  }
 ],
 "metadata": {
  "kernelspec": {
   "display_name": "Python 3 (ipykernel)",
   "language": "python",
   "name": "python3"
  },
  "language_info": {
   "codemirror_mode": {
    "name": "ipython",
    "version": 3
   },
   "file_extension": ".py",
   "mimetype": "text/x-python",
   "name": "python",
   "nbconvert_exporter": "python",
   "pygments_lexer": "ipython3",
   "version": "3.10.14"
  }
 },
 "nbformat": 4,
 "nbformat_minor": 5
}
